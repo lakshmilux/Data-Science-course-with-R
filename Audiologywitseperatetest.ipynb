{
  "nbformat": 4,
  "nbformat_minor": 0,
  "metadata": {
    "colab": {
      "name": "Untitled",
      "provenance": [],
      "authorship_tag": "ABX9TyOJ1hqfi7vJp+g34xoWMZkG",
      "include_colab_link": true
    },
    "kernelspec": {
      "name": "python3",
      "display_name": "Python 3"
    }
  },
  "cells": [
    {
      "cell_type": "markdown",
      "metadata": {
        "id": "view-in-github",
        "colab_type": "text"
      },
      "source": [
        "<a href=\"https://colab.research.google.com/github/lakshmilux/Data-Science-course-with-R/blob/master/Audiologywitseperatetest.ipynb\" target=\"_parent\"><img src=\"https://colab.research.google.com/assets/colab-badge.svg\" alt=\"Open In Colab\"/></a>"
      ]
    },
    {
      "cell_type": "code",
      "metadata": {
        "id": "SdmTBqtwFA7Y",
        "colab_type": "code",
        "colab": {
          "base_uri": "https://localhost:8080/",
          "height": 74
        },
        "outputId": "af8c9a29-95c3-4d6b-8cbc-e11647eeaa25"
      },
      "source": [
        "import pandas as pd\n",
        "import matplotlib.pyplot as plt\n",
        "import seaborn as sns\n",
        "import numpy as np"
      ],
      "execution_count": 1,
      "outputs": [
        {
          "output_type": "stream",
          "text": [
            "/usr/local/lib/python3.6/dist-packages/statsmodels/tools/_testing.py:19: FutureWarning: pandas.util.testing is deprecated. Use the functions in the public API at pandas.testing instead.\n",
            "  import pandas.util.testing as tm\n"
          ],
          "name": "stderr"
        }
      ]
    },
    {
      "cell_type": "code",
      "metadata": {
        "id": "sWcKtHgbKQ2K",
        "colab_type": "code",
        "colab": {}
      },
      "source": [
        "dft = pd.read_csv(\"/content/audiology_test.csv\")\n",
        "#dft.info()"
      ],
      "execution_count": 2,
      "outputs": []
    },
    {
      "cell_type": "code",
      "metadata": {
        "id": "xduA31_5KWdX",
        "colab_type": "code",
        "colab": {
          "base_uri": "https://localhost:8080/",
          "height": 195
        },
        "outputId": "bced8ea4-e9d6-4e27-8136-15f5646d64d5"
      },
      "source": [
        "dft.describe(include = \"object\")"
      ],
      "execution_count": 3,
      "outputs": [
        {
          "output_type": "execute_result",
          "data": {
            "text/html": [
              "<div>\n",
              "<style scoped>\n",
              "    .dataframe tbody tr th:only-of-type {\n",
              "        vertical-align: middle;\n",
              "    }\n",
              "\n",
              "    .dataframe tbody tr th {\n",
              "        vertical-align: top;\n",
              "    }\n",
              "\n",
              "    .dataframe thead th {\n",
              "        text-align: right;\n",
              "    }\n",
              "</style>\n",
              "<table border=\"1\" class=\"dataframe\">\n",
              "  <thead>\n",
              "    <tr style=\"text-align: right;\">\n",
              "      <th></th>\n",
              "      <th>age_gt_60</th>\n",
              "      <th>air</th>\n",
              "      <th>airBoneGap</th>\n",
              "      <th>ar_c</th>\n",
              "      <th>ar_u</th>\n",
              "      <th>bone</th>\n",
              "      <th>boneAbnormal</th>\n",
              "      <th>bser</th>\n",
              "      <th>history_buzzing</th>\n",
              "      <th>history_dizziness</th>\n",
              "      <th>history_fluctuating</th>\n",
              "      <th>history_fullness</th>\n",
              "      <th>history_heredity</th>\n",
              "      <th>history_nausea</th>\n",
              "      <th>history_noise</th>\n",
              "      <th>history_recruitment</th>\n",
              "      <th>history_ringing</th>\n",
              "      <th>history_roaring</th>\n",
              "      <th>history_vomiting</th>\n",
              "      <th>late_wave_poor</th>\n",
              "      <th>m_at_2k</th>\n",
              "      <th>m_cond_lt_1k</th>\n",
              "      <th>m_gt_1k</th>\n",
              "      <th>m_m_gt_2k</th>\n",
              "      <th>m_m_sn</th>\n",
              "      <th>m_m_sn_gt_1k</th>\n",
              "      <th>m_m_sn_gt_2k</th>\n",
              "      <th>m_m_sn_gt_500</th>\n",
              "      <th>m_p_sn_gt_2k</th>\n",
              "      <th>m_s_gt_500</th>\n",
              "      <th>m_s_sn</th>\n",
              "      <th>m_s_sn_gt_1k</th>\n",
              "      <th>m_s_sn_gt_2k</th>\n",
              "      <th>m_s_sn_gt_3k</th>\n",
              "      <th>m_s_sn_gt_4k</th>\n",
              "      <th>m_sn_2_3k</th>\n",
              "      <th>m_sn_gt_1k</th>\n",
              "      <th>m_sn_gt_2k</th>\n",
              "      <th>m_sn_gt_3k</th>\n",
              "      <th>m_sn_gt_4k</th>\n",
              "      <th>m_sn_gt_500</th>\n",
              "      <th>m_sn_gt_6k</th>\n",
              "      <th>m_sn_lt_1k</th>\n",
              "      <th>m_sn_lt_2k</th>\n",
              "      <th>m_sn_lt_3k</th>\n",
              "      <th>middle_wave_poor</th>\n",
              "      <th>mod_gt_4k</th>\n",
              "      <th>mod_mixed</th>\n",
              "      <th>mod_s_mixed</th>\n",
              "      <th>mod_s_sn_gt_500</th>\n",
              "      <th>mod_sn</th>\n",
              "      <th>mod_sn_gt_1k</th>\n",
              "      <th>mod_sn_gt_2k</th>\n",
              "      <th>mod_sn_gt_3k</th>\n",
              "      <th>mod_sn_gt_4k</th>\n",
              "      <th>mod_sn_gt_500</th>\n",
              "      <th>notch_4k</th>\n",
              "      <th>notch_at_4k</th>\n",
              "      <th>o_ar_c()</th>\n",
              "      <th>o_ar_u()</th>\n",
              "      <th>s_sn_gt_1k</th>\n",
              "      <th>s_sn_gt_2k</th>\n",
              "      <th>s_sn_gt_4k</th>\n",
              "      <th>speech</th>\n",
              "      <th>static_normal</th>\n",
              "      <th>tymp</th>\n",
              "      <th>viith_nerve_signs</th>\n",
              "      <th>wave_V_delayed</th>\n",
              "      <th>waveform_ItoV_prolonged</th>\n",
              "      <th>identifier</th>\n",
              "      <th>class</th>\n",
              "    </tr>\n",
              "  </thead>\n",
              "  <tbody>\n",
              "    <tr>\n",
              "      <th>count</th>\n",
              "      <td>26</td>\n",
              "      <td>26</td>\n",
              "      <td>26</td>\n",
              "      <td>26</td>\n",
              "      <td>26</td>\n",
              "      <td>26</td>\n",
              "      <td>26</td>\n",
              "      <td>26</td>\n",
              "      <td>26</td>\n",
              "      <td>26</td>\n",
              "      <td>26</td>\n",
              "      <td>26</td>\n",
              "      <td>26</td>\n",
              "      <td>26</td>\n",
              "      <td>26</td>\n",
              "      <td>26</td>\n",
              "      <td>26</td>\n",
              "      <td>26</td>\n",
              "      <td>26</td>\n",
              "      <td>26</td>\n",
              "      <td>26</td>\n",
              "      <td>26</td>\n",
              "      <td>26</td>\n",
              "      <td>26</td>\n",
              "      <td>26</td>\n",
              "      <td>26</td>\n",
              "      <td>26</td>\n",
              "      <td>26</td>\n",
              "      <td>26</td>\n",
              "      <td>26</td>\n",
              "      <td>26</td>\n",
              "      <td>26</td>\n",
              "      <td>26</td>\n",
              "      <td>26</td>\n",
              "      <td>26</td>\n",
              "      <td>26</td>\n",
              "      <td>26</td>\n",
              "      <td>26</td>\n",
              "      <td>26</td>\n",
              "      <td>26</td>\n",
              "      <td>26</td>\n",
              "      <td>26</td>\n",
              "      <td>26</td>\n",
              "      <td>26</td>\n",
              "      <td>26</td>\n",
              "      <td>26</td>\n",
              "      <td>26</td>\n",
              "      <td>26</td>\n",
              "      <td>26</td>\n",
              "      <td>26</td>\n",
              "      <td>26</td>\n",
              "      <td>26</td>\n",
              "      <td>26</td>\n",
              "      <td>26</td>\n",
              "      <td>26</td>\n",
              "      <td>26</td>\n",
              "      <td>26</td>\n",
              "      <td>26</td>\n",
              "      <td>26</td>\n",
              "      <td>26</td>\n",
              "      <td>26</td>\n",
              "      <td>26</td>\n",
              "      <td>26</td>\n",
              "      <td>26</td>\n",
              "      <td>26</td>\n",
              "      <td>26</td>\n",
              "      <td>26</td>\n",
              "      <td>26</td>\n",
              "      <td>26</td>\n",
              "      <td>26</td>\n",
              "      <td>26</td>\n",
              "    </tr>\n",
              "    <tr>\n",
              "      <th>unique</th>\n",
              "      <td>2</td>\n",
              "      <td>3</td>\n",
              "      <td>2</td>\n",
              "      <td>3</td>\n",
              "      <td>3</td>\n",
              "      <td>4</td>\n",
              "      <td>1</td>\n",
              "      <td>1</td>\n",
              "      <td>1</td>\n",
              "      <td>1</td>\n",
              "      <td>1</td>\n",
              "      <td>1</td>\n",
              "      <td>1</td>\n",
              "      <td>1</td>\n",
              "      <td>2</td>\n",
              "      <td>1</td>\n",
              "      <td>2</td>\n",
              "      <td>2</td>\n",
              "      <td>1</td>\n",
              "      <td>1</td>\n",
              "      <td>1</td>\n",
              "      <td>2</td>\n",
              "      <td>1</td>\n",
              "      <td>1</td>\n",
              "      <td>2</td>\n",
              "      <td>1</td>\n",
              "      <td>2</td>\n",
              "      <td>1</td>\n",
              "      <td>2</td>\n",
              "      <td>1</td>\n",
              "      <td>1</td>\n",
              "      <td>2</td>\n",
              "      <td>1</td>\n",
              "      <td>1</td>\n",
              "      <td>1</td>\n",
              "      <td>1</td>\n",
              "      <td>2</td>\n",
              "      <td>2</td>\n",
              "      <td>1</td>\n",
              "      <td>2</td>\n",
              "      <td>1</td>\n",
              "      <td>2</td>\n",
              "      <td>1</td>\n",
              "      <td>1</td>\n",
              "      <td>1</td>\n",
              "      <td>1</td>\n",
              "      <td>1</td>\n",
              "      <td>2</td>\n",
              "      <td>2</td>\n",
              "      <td>1</td>\n",
              "      <td>2</td>\n",
              "      <td>2</td>\n",
              "      <td>1</td>\n",
              "      <td>2</td>\n",
              "      <td>1</td>\n",
              "      <td>1</td>\n",
              "      <td>1</td>\n",
              "      <td>2</td>\n",
              "      <td>3</td>\n",
              "      <td>3</td>\n",
              "      <td>1</td>\n",
              "      <td>2</td>\n",
              "      <td>1</td>\n",
              "      <td>5</td>\n",
              "      <td>1</td>\n",
              "      <td>2</td>\n",
              "      <td>1</td>\n",
              "      <td>1</td>\n",
              "      <td>1</td>\n",
              "      <td>26</td>\n",
              "      <td>6</td>\n",
              "    </tr>\n",
              "    <tr>\n",
              "      <th>top</th>\n",
              "      <td>t</td>\n",
              "      <td>mild</td>\n",
              "      <td>f</td>\n",
              "      <td>normal</td>\n",
              "      <td>normal</td>\n",
              "      <td>unmeasured</td>\n",
              "      <td>f</td>\n",
              "      <td>?</td>\n",
              "      <td>f</td>\n",
              "      <td>f</td>\n",
              "      <td>f</td>\n",
              "      <td>f</td>\n",
              "      <td>f</td>\n",
              "      <td>f</td>\n",
              "      <td>f</td>\n",
              "      <td>f</td>\n",
              "      <td>f</td>\n",
              "      <td>f</td>\n",
              "      <td>f</td>\n",
              "      <td>f</td>\n",
              "      <td>f</td>\n",
              "      <td>f</td>\n",
              "      <td>f</td>\n",
              "      <td>f</td>\n",
              "      <td>f</td>\n",
              "      <td>f</td>\n",
              "      <td>f</td>\n",
              "      <td>f</td>\n",
              "      <td>f</td>\n",
              "      <td>f</td>\n",
              "      <td>f</td>\n",
              "      <td>f</td>\n",
              "      <td>f</td>\n",
              "      <td>f</td>\n",
              "      <td>f</td>\n",
              "      <td>f</td>\n",
              "      <td>f</td>\n",
              "      <td>f</td>\n",
              "      <td>f</td>\n",
              "      <td>f</td>\n",
              "      <td>f</td>\n",
              "      <td>f</td>\n",
              "      <td>f</td>\n",
              "      <td>f</td>\n",
              "      <td>f</td>\n",
              "      <td>f</td>\n",
              "      <td>f</td>\n",
              "      <td>f</td>\n",
              "      <td>f</td>\n",
              "      <td>f</td>\n",
              "      <td>f</td>\n",
              "      <td>f</td>\n",
              "      <td>f</td>\n",
              "      <td>f</td>\n",
              "      <td>f</td>\n",
              "      <td>f</td>\n",
              "      <td>f</td>\n",
              "      <td>f</td>\n",
              "      <td>normal</td>\n",
              "      <td>normal</td>\n",
              "      <td>f</td>\n",
              "      <td>f</td>\n",
              "      <td>f</td>\n",
              "      <td>good</td>\n",
              "      <td>t</td>\n",
              "      <td>a</td>\n",
              "      <td>f</td>\n",
              "      <td>f</td>\n",
              "      <td>f</td>\n",
              "      <td>t3</td>\n",
              "      <td>cochlear_age</td>\n",
              "    </tr>\n",
              "    <tr>\n",
              "      <th>freq</th>\n",
              "      <td>16</td>\n",
              "      <td>12</td>\n",
              "      <td>23</td>\n",
              "      <td>14</td>\n",
              "      <td>17</td>\n",
              "      <td>16</td>\n",
              "      <td>26</td>\n",
              "      <td>26</td>\n",
              "      <td>26</td>\n",
              "      <td>26</td>\n",
              "      <td>26</td>\n",
              "      <td>26</td>\n",
              "      <td>26</td>\n",
              "      <td>26</td>\n",
              "      <td>16</td>\n",
              "      <td>26</td>\n",
              "      <td>20</td>\n",
              "      <td>24</td>\n",
              "      <td>26</td>\n",
              "      <td>26</td>\n",
              "      <td>26</td>\n",
              "      <td>25</td>\n",
              "      <td>26</td>\n",
              "      <td>26</td>\n",
              "      <td>24</td>\n",
              "      <td>26</td>\n",
              "      <td>23</td>\n",
              "      <td>26</td>\n",
              "      <td>24</td>\n",
              "      <td>26</td>\n",
              "      <td>26</td>\n",
              "      <td>25</td>\n",
              "      <td>26</td>\n",
              "      <td>26</td>\n",
              "      <td>26</td>\n",
              "      <td>26</td>\n",
              "      <td>25</td>\n",
              "      <td>21</td>\n",
              "      <td>26</td>\n",
              "      <td>24</td>\n",
              "      <td>26</td>\n",
              "      <td>25</td>\n",
              "      <td>26</td>\n",
              "      <td>26</td>\n",
              "      <td>26</td>\n",
              "      <td>26</td>\n",
              "      <td>26</td>\n",
              "      <td>25</td>\n",
              "      <td>25</td>\n",
              "      <td>26</td>\n",
              "      <td>24</td>\n",
              "      <td>25</td>\n",
              "      <td>26</td>\n",
              "      <td>25</td>\n",
              "      <td>26</td>\n",
              "      <td>26</td>\n",
              "      <td>26</td>\n",
              "      <td>22</td>\n",
              "      <td>14</td>\n",
              "      <td>17</td>\n",
              "      <td>26</td>\n",
              "      <td>25</td>\n",
              "      <td>26</td>\n",
              "      <td>10</td>\n",
              "      <td>26</td>\n",
              "      <td>20</td>\n",
              "      <td>26</td>\n",
              "      <td>26</td>\n",
              "      <td>26</td>\n",
              "      <td>1</td>\n",
              "      <td>11</td>\n",
              "    </tr>\n",
              "  </tbody>\n",
              "</table>\n",
              "</div>"
            ],
            "text/plain": [
              "       age_gt_60    air  ... identifier         class\n",
              "count         26     26  ...         26            26\n",
              "unique         2      3  ...         26             6\n",
              "top            t   mild  ...         t3  cochlear_age\n",
              "freq          16     12  ...          1            11\n",
              "\n",
              "[4 rows x 71 columns]"
            ]
          },
          "metadata": {
            "tags": []
          },
          "execution_count": 3
        }
      ]
    },
    {
      "cell_type": "code",
      "metadata": {
        "id": "h2Uge-dHLEuU",
        "colab_type": "code",
        "colab": {
          "base_uri": "https://localhost:8080/",
          "height": 348
        },
        "outputId": "5c5a055d-fab4-4f3c-bec5-4ec22d761fbe"
      },
      "source": [
        "dft.columns = dft.columns.str.strip()\n",
        "dft.columns"
      ],
      "execution_count": 4,
      "outputs": [
        {
          "output_type": "execute_result",
          "data": {
            "text/plain": [
              "Index(['age_gt_60', 'air', 'airBoneGap', 'ar_c', 'ar_u', 'bone',\n",
              "       'boneAbnormal', 'bser', 'history_buzzing', 'history_dizziness',\n",
              "       'history_fluctuating', 'history_fullness', 'history_heredity',\n",
              "       'history_nausea', 'history_noise', 'history_recruitment',\n",
              "       'history_ringing', 'history_roaring', 'history_vomiting',\n",
              "       'late_wave_poor', 'm_at_2k', 'm_cond_lt_1k', 'm_gt_1k', 'm_m_gt_2k',\n",
              "       'm_m_sn', 'm_m_sn_gt_1k', 'm_m_sn_gt_2k', 'm_m_sn_gt_500',\n",
              "       'm_p_sn_gt_2k', 'm_s_gt_500', 'm_s_sn', 'm_s_sn_gt_1k', 'm_s_sn_gt_2k',\n",
              "       'm_s_sn_gt_3k', 'm_s_sn_gt_4k', 'm_sn_2_3k', 'm_sn_gt_1k', 'm_sn_gt_2k',\n",
              "       'm_sn_gt_3k', 'm_sn_gt_4k', 'm_sn_gt_500', 'm_sn_gt_6k', 'm_sn_lt_1k',\n",
              "       'm_sn_lt_2k', 'm_sn_lt_3k', 'middle_wave_poor', 'mod_gt_4k',\n",
              "       'mod_mixed', 'mod_s_mixed', 'mod_s_sn_gt_500', 'mod_sn', 'mod_sn_gt_1k',\n",
              "       'mod_sn_gt_2k', 'mod_sn_gt_3k', 'mod_sn_gt_4k', 'mod_sn_gt_500',\n",
              "       'notch_4k', 'notch_at_4k', 'o_ar_c()', 'o_ar_u()', 's_sn_gt_1k',\n",
              "       's_sn_gt_2k', 's_sn_gt_4k', 'speech', 'static_normal', 'tymp',\n",
              "       'viith_nerve_signs', 'wave_V_delayed', 'waveform_ItoV_prolonged',\n",
              "       'identifier', 'class'],\n",
              "      dtype='object')"
            ]
          },
          "metadata": {
            "tags": []
          },
          "execution_count": 4
        }
      ]
    },
    {
      "cell_type": "code",
      "metadata": {
        "id": "8bmJ55j8LNjf",
        "colab_type": "code",
        "colab": {}
      },
      "source": [
        "dft.drop(['bser','identifier'],axis = 1,inplace = True)"
      ],
      "execution_count": 5,
      "outputs": []
    },
    {
      "cell_type": "code",
      "metadata": {
        "id": "blZ6FRMrLS1Q",
        "colab_type": "code",
        "colab": {
          "base_uri": "https://localhost:8080/",
          "height": 35
        },
        "outputId": "43907abb-ab7a-4c6e-cae3-b22bdb77f69b"
      },
      "source": [
        "dft.shape"
      ],
      "execution_count": 6,
      "outputs": [
        {
          "output_type": "execute_result",
          "data": {
            "text/plain": [
              "(26, 69)"
            ]
          },
          "metadata": {
            "tags": []
          },
          "execution_count": 6
        }
      ]
    },
    {
      "cell_type": "code",
      "metadata": {
        "id": "lG95VnvaLt7b",
        "colab_type": "code",
        "colab": {
          "base_uri": "https://localhost:8080/",
          "height": 237
        },
        "outputId": "107b7c06-0179-4bf5-d93c-f09e575c5548"
      },
      "source": [
        "dft.isna().sum()"
      ],
      "execution_count": 7,
      "outputs": [
        {
          "output_type": "execute_result",
          "data": {
            "text/plain": [
              "age_gt_60                  0\n",
              "air                        0\n",
              "airBoneGap                 0\n",
              "ar_c                       0\n",
              "ar_u                       0\n",
              "                          ..\n",
              "tymp                       0\n",
              "viith_nerve_signs          0\n",
              "wave_V_delayed             0\n",
              "waveform_ItoV_prolonged    0\n",
              "class                      0\n",
              "Length: 69, dtype: int64"
            ]
          },
          "metadata": {
            "tags": []
          },
          "execution_count": 7
        }
      ]
    },
    {
      "cell_type": "code",
      "metadata": {
        "id": "z0PgTWyENrfV",
        "colab_type": "code",
        "colab": {
          "base_uri": "https://localhost:8080/",
          "height": 109
        },
        "outputId": "23af2e7c-7004-40af-9176-51622cbea857"
      },
      "source": [
        "dft['tymp'].describe()"
      ],
      "execution_count": 8,
      "outputs": [
        {
          "output_type": "execute_result",
          "data": {
            "text/plain": [
              "count     26\n",
              "unique     2\n",
              "top        a\n",
              "freq      20\n",
              "Name: tymp, dtype: object"
            ]
          },
          "metadata": {
            "tags": []
          },
          "execution_count": 8
        }
      ]
    },
    {
      "cell_type": "code",
      "metadata": {
        "id": "l6-FlR0ZTxN0",
        "colab_type": "code",
        "colab": {
          "base_uri": "https://localhost:8080/",
          "height": 54
        },
        "outputId": "c9c35eaa-71bc-452e-fc64-2ef769efc289"
      },
      "source": [
        "dft['static_normal'].value_counts()"
      ],
      "execution_count": 9,
      "outputs": [
        {
          "output_type": "execute_result",
          "data": {
            "text/plain": [
              "t    26\n",
              "Name: static_normal, dtype: int64"
            ]
          },
          "metadata": {
            "tags": []
          },
          "execution_count": 9
        }
      ]
    },
    {
      "cell_type": "code",
      "metadata": {
        "id": "A_3-RcHpN6w_",
        "colab_type": "code",
        "colab": {}
      },
      "source": [
        "dft['tymp'] = dft['tymp'].map({'a':1,'as':'0'}).astype(int)\n",
        "dft['static_normal'] = dft['static_normal'].map({'t':'0'}).astype(int)"
      ],
      "execution_count": 10,
      "outputs": []
    },
    {
      "cell_type": "code",
      "metadata": {
        "id": "_ZHiCCDhLw2u",
        "colab_type": "code",
        "colab": {
          "base_uri": "https://localhost:8080/",
          "height": 35
        },
        "outputId": "b30dee86-9392-4d47-9796-60b5f8475f96"
      },
      "source": [
        "dft1 = dft.drop(['tymp','static_normal'],axis = 1)\n",
        "print(dft1.shape)"
      ],
      "execution_count": 11,
      "outputs": [
        {
          "output_type": "stream",
          "text": [
            "(26, 67)\n"
          ],
          "name": "stdout"
        }
      ]
    },
    {
      "cell_type": "code",
      "metadata": {
        "id": "BtL1j6uXSRVc",
        "colab_type": "code",
        "colab": {}
      },
      "source": [
        "for column in dft1.columns:\n",
        "    if len(dft1[column].unique())==2:\n",
        "        dft1[column] = dft1[column].map({'f' : 0, 't' : 1})"
      ],
      "execution_count": 12,
      "outputs": []
    },
    {
      "cell_type": "code",
      "metadata": {
        "id": "iPnPh_82STiN",
        "colab_type": "code",
        "colab": {
          "base_uri": "https://localhost:8080/",
          "height": 35
        },
        "outputId": "b0948a74-45bf-4c31-c827-d47a60ad504b"
      },
      "source": [
        "dft1.shape"
      ],
      "execution_count": 13,
      "outputs": [
        {
          "output_type": "execute_result",
          "data": {
            "text/plain": [
              "(26, 67)"
            ]
          },
          "metadata": {
            "tags": []
          },
          "execution_count": 13
        }
      ]
    },
    {
      "cell_type": "code",
      "metadata": {
        "id": "skBEjYw5Sa06",
        "colab_type": "code",
        "colab": {
          "base_uri": "https://localhost:8080/",
          "height": 35
        },
        "outputId": "e29924c0-124d-47d5-aa61-0cffb660b017"
      },
      "source": [
        "dft1.describe()\n",
        "dft1.shape"
      ],
      "execution_count": 14,
      "outputs": [
        {
          "output_type": "execute_result",
          "data": {
            "text/plain": [
              "(26, 67)"
            ]
          },
          "metadata": {
            "tags": []
          },
          "execution_count": 14
        }
      ]
    },
    {
      "cell_type": "code",
      "metadata": {
        "id": "jykkMW2YMYNE",
        "colab_type": "code",
        "colab": {}
      },
      "source": [
        "for column in dft1.columns:\n",
        "    if  len(dft1[column].unique())==1:\n",
        "        dft1[column] = dft1[column].map({'f' : 0})"
      ],
      "execution_count": 15,
      "outputs": []
    },
    {
      "cell_type": "code",
      "metadata": {
        "id": "Lh3gjA7ZSycK",
        "colab_type": "code",
        "colab": {
          "base_uri": "https://localhost:8080/",
          "height": 320
        },
        "outputId": "9051fcc6-468a-4021-e172-bedce33ed388"
      },
      "source": [
        "dft1.describe()"
      ],
      "execution_count": 16,
      "outputs": [
        {
          "output_type": "execute_result",
          "data": {
            "text/html": [
              "<div>\n",
              "<style scoped>\n",
              "    .dataframe tbody tr th:only-of-type {\n",
              "        vertical-align: middle;\n",
              "    }\n",
              "\n",
              "    .dataframe tbody tr th {\n",
              "        vertical-align: top;\n",
              "    }\n",
              "\n",
              "    .dataframe thead th {\n",
              "        text-align: right;\n",
              "    }\n",
              "</style>\n",
              "<table border=\"1\" class=\"dataframe\">\n",
              "  <thead>\n",
              "    <tr style=\"text-align: right;\">\n",
              "      <th></th>\n",
              "      <th>age_gt_60</th>\n",
              "      <th>airBoneGap</th>\n",
              "      <th>boneAbnormal</th>\n",
              "      <th>history_buzzing</th>\n",
              "      <th>history_dizziness</th>\n",
              "      <th>history_fluctuating</th>\n",
              "      <th>history_fullness</th>\n",
              "      <th>history_heredity</th>\n",
              "      <th>history_nausea</th>\n",
              "      <th>history_noise</th>\n",
              "      <th>history_recruitment</th>\n",
              "      <th>history_ringing</th>\n",
              "      <th>history_roaring</th>\n",
              "      <th>history_vomiting</th>\n",
              "      <th>late_wave_poor</th>\n",
              "      <th>m_at_2k</th>\n",
              "      <th>m_cond_lt_1k</th>\n",
              "      <th>m_gt_1k</th>\n",
              "      <th>m_m_gt_2k</th>\n",
              "      <th>m_m_sn</th>\n",
              "      <th>m_m_sn_gt_1k</th>\n",
              "      <th>m_m_sn_gt_2k</th>\n",
              "      <th>m_m_sn_gt_500</th>\n",
              "      <th>m_p_sn_gt_2k</th>\n",
              "      <th>m_s_gt_500</th>\n",
              "      <th>m_s_sn</th>\n",
              "      <th>m_s_sn_gt_1k</th>\n",
              "      <th>m_s_sn_gt_2k</th>\n",
              "      <th>m_s_sn_gt_3k</th>\n",
              "      <th>m_s_sn_gt_4k</th>\n",
              "      <th>m_sn_2_3k</th>\n",
              "      <th>m_sn_gt_1k</th>\n",
              "      <th>m_sn_gt_2k</th>\n",
              "      <th>m_sn_gt_3k</th>\n",
              "      <th>m_sn_gt_4k</th>\n",
              "      <th>m_sn_gt_500</th>\n",
              "      <th>m_sn_gt_6k</th>\n",
              "      <th>m_sn_lt_1k</th>\n",
              "      <th>m_sn_lt_2k</th>\n",
              "      <th>m_sn_lt_3k</th>\n",
              "      <th>middle_wave_poor</th>\n",
              "      <th>mod_gt_4k</th>\n",
              "      <th>mod_mixed</th>\n",
              "      <th>mod_s_mixed</th>\n",
              "      <th>mod_s_sn_gt_500</th>\n",
              "      <th>mod_sn</th>\n",
              "      <th>mod_sn_gt_1k</th>\n",
              "      <th>mod_sn_gt_2k</th>\n",
              "      <th>mod_sn_gt_3k</th>\n",
              "      <th>mod_sn_gt_4k</th>\n",
              "      <th>mod_sn_gt_500</th>\n",
              "      <th>notch_4k</th>\n",
              "      <th>notch_at_4k</th>\n",
              "      <th>s_sn_gt_1k</th>\n",
              "      <th>s_sn_gt_2k</th>\n",
              "      <th>s_sn_gt_4k</th>\n",
              "      <th>viith_nerve_signs</th>\n",
              "      <th>wave_V_delayed</th>\n",
              "      <th>waveform_ItoV_prolonged</th>\n",
              "    </tr>\n",
              "  </thead>\n",
              "  <tbody>\n",
              "    <tr>\n",
              "      <th>count</th>\n",
              "      <td>26.000000</td>\n",
              "      <td>26.000000</td>\n",
              "      <td>26.0</td>\n",
              "      <td>26.0</td>\n",
              "      <td>26.0</td>\n",
              "      <td>26.0</td>\n",
              "      <td>26.0</td>\n",
              "      <td>26.0</td>\n",
              "      <td>26.0</td>\n",
              "      <td>26.000000</td>\n",
              "      <td>26.0</td>\n",
              "      <td>26.000000</td>\n",
              "      <td>26.000000</td>\n",
              "      <td>26.0</td>\n",
              "      <td>26.0</td>\n",
              "      <td>26.0</td>\n",
              "      <td>26.000000</td>\n",
              "      <td>26.0</td>\n",
              "      <td>26.0</td>\n",
              "      <td>26.000000</td>\n",
              "      <td>26.0</td>\n",
              "      <td>26.000000</td>\n",
              "      <td>26.0</td>\n",
              "      <td>26.000000</td>\n",
              "      <td>26.0</td>\n",
              "      <td>26.0</td>\n",
              "      <td>26.000000</td>\n",
              "      <td>26.0</td>\n",
              "      <td>26.0</td>\n",
              "      <td>26.0</td>\n",
              "      <td>26.0</td>\n",
              "      <td>26.000000</td>\n",
              "      <td>26.000000</td>\n",
              "      <td>26.0</td>\n",
              "      <td>26.000000</td>\n",
              "      <td>26.0</td>\n",
              "      <td>26.000000</td>\n",
              "      <td>26.0</td>\n",
              "      <td>26.0</td>\n",
              "      <td>26.0</td>\n",
              "      <td>26.0</td>\n",
              "      <td>26.0</td>\n",
              "      <td>26.000000</td>\n",
              "      <td>26.000000</td>\n",
              "      <td>26.0</td>\n",
              "      <td>26.000000</td>\n",
              "      <td>26.000000</td>\n",
              "      <td>26.0</td>\n",
              "      <td>26.000000</td>\n",
              "      <td>26.0</td>\n",
              "      <td>26.0</td>\n",
              "      <td>26.0</td>\n",
              "      <td>26.000000</td>\n",
              "      <td>26.0</td>\n",
              "      <td>26.000000</td>\n",
              "      <td>26.0</td>\n",
              "      <td>26.0</td>\n",
              "      <td>26.0</td>\n",
              "      <td>26.0</td>\n",
              "    </tr>\n",
              "    <tr>\n",
              "      <th>mean</th>\n",
              "      <td>0.615385</td>\n",
              "      <td>0.115385</td>\n",
              "      <td>0.0</td>\n",
              "      <td>0.0</td>\n",
              "      <td>0.0</td>\n",
              "      <td>0.0</td>\n",
              "      <td>0.0</td>\n",
              "      <td>0.0</td>\n",
              "      <td>0.0</td>\n",
              "      <td>0.384615</td>\n",
              "      <td>0.0</td>\n",
              "      <td>0.230769</td>\n",
              "      <td>0.076923</td>\n",
              "      <td>0.0</td>\n",
              "      <td>0.0</td>\n",
              "      <td>0.0</td>\n",
              "      <td>0.038462</td>\n",
              "      <td>0.0</td>\n",
              "      <td>0.0</td>\n",
              "      <td>0.076923</td>\n",
              "      <td>0.0</td>\n",
              "      <td>0.115385</td>\n",
              "      <td>0.0</td>\n",
              "      <td>0.076923</td>\n",
              "      <td>0.0</td>\n",
              "      <td>0.0</td>\n",
              "      <td>0.038462</td>\n",
              "      <td>0.0</td>\n",
              "      <td>0.0</td>\n",
              "      <td>0.0</td>\n",
              "      <td>0.0</td>\n",
              "      <td>0.038462</td>\n",
              "      <td>0.192308</td>\n",
              "      <td>0.0</td>\n",
              "      <td>0.076923</td>\n",
              "      <td>0.0</td>\n",
              "      <td>0.038462</td>\n",
              "      <td>0.0</td>\n",
              "      <td>0.0</td>\n",
              "      <td>0.0</td>\n",
              "      <td>0.0</td>\n",
              "      <td>0.0</td>\n",
              "      <td>0.038462</td>\n",
              "      <td>0.038462</td>\n",
              "      <td>0.0</td>\n",
              "      <td>0.076923</td>\n",
              "      <td>0.038462</td>\n",
              "      <td>0.0</td>\n",
              "      <td>0.038462</td>\n",
              "      <td>0.0</td>\n",
              "      <td>0.0</td>\n",
              "      <td>0.0</td>\n",
              "      <td>0.153846</td>\n",
              "      <td>0.0</td>\n",
              "      <td>0.038462</td>\n",
              "      <td>0.0</td>\n",
              "      <td>0.0</td>\n",
              "      <td>0.0</td>\n",
              "      <td>0.0</td>\n",
              "    </tr>\n",
              "    <tr>\n",
              "      <th>std</th>\n",
              "      <td>0.496139</td>\n",
              "      <td>0.325813</td>\n",
              "      <td>0.0</td>\n",
              "      <td>0.0</td>\n",
              "      <td>0.0</td>\n",
              "      <td>0.0</td>\n",
              "      <td>0.0</td>\n",
              "      <td>0.0</td>\n",
              "      <td>0.0</td>\n",
              "      <td>0.496139</td>\n",
              "      <td>0.0</td>\n",
              "      <td>0.429669</td>\n",
              "      <td>0.271746</td>\n",
              "      <td>0.0</td>\n",
              "      <td>0.0</td>\n",
              "      <td>0.0</td>\n",
              "      <td>0.196116</td>\n",
              "      <td>0.0</td>\n",
              "      <td>0.0</td>\n",
              "      <td>0.271746</td>\n",
              "      <td>0.0</td>\n",
              "      <td>0.325813</td>\n",
              "      <td>0.0</td>\n",
              "      <td>0.271746</td>\n",
              "      <td>0.0</td>\n",
              "      <td>0.0</td>\n",
              "      <td>0.196116</td>\n",
              "      <td>0.0</td>\n",
              "      <td>0.0</td>\n",
              "      <td>0.0</td>\n",
              "      <td>0.0</td>\n",
              "      <td>0.196116</td>\n",
              "      <td>0.401918</td>\n",
              "      <td>0.0</td>\n",
              "      <td>0.271746</td>\n",
              "      <td>0.0</td>\n",
              "      <td>0.196116</td>\n",
              "      <td>0.0</td>\n",
              "      <td>0.0</td>\n",
              "      <td>0.0</td>\n",
              "      <td>0.0</td>\n",
              "      <td>0.0</td>\n",
              "      <td>0.196116</td>\n",
              "      <td>0.196116</td>\n",
              "      <td>0.0</td>\n",
              "      <td>0.271746</td>\n",
              "      <td>0.196116</td>\n",
              "      <td>0.0</td>\n",
              "      <td>0.196116</td>\n",
              "      <td>0.0</td>\n",
              "      <td>0.0</td>\n",
              "      <td>0.0</td>\n",
              "      <td>0.367946</td>\n",
              "      <td>0.0</td>\n",
              "      <td>0.196116</td>\n",
              "      <td>0.0</td>\n",
              "      <td>0.0</td>\n",
              "      <td>0.0</td>\n",
              "      <td>0.0</td>\n",
              "    </tr>\n",
              "    <tr>\n",
              "      <th>min</th>\n",
              "      <td>0.000000</td>\n",
              "      <td>0.000000</td>\n",
              "      <td>0.0</td>\n",
              "      <td>0.0</td>\n",
              "      <td>0.0</td>\n",
              "      <td>0.0</td>\n",
              "      <td>0.0</td>\n",
              "      <td>0.0</td>\n",
              "      <td>0.0</td>\n",
              "      <td>0.000000</td>\n",
              "      <td>0.0</td>\n",
              "      <td>0.000000</td>\n",
              "      <td>0.000000</td>\n",
              "      <td>0.0</td>\n",
              "      <td>0.0</td>\n",
              "      <td>0.0</td>\n",
              "      <td>0.000000</td>\n",
              "      <td>0.0</td>\n",
              "      <td>0.0</td>\n",
              "      <td>0.000000</td>\n",
              "      <td>0.0</td>\n",
              "      <td>0.000000</td>\n",
              "      <td>0.0</td>\n",
              "      <td>0.000000</td>\n",
              "      <td>0.0</td>\n",
              "      <td>0.0</td>\n",
              "      <td>0.000000</td>\n",
              "      <td>0.0</td>\n",
              "      <td>0.0</td>\n",
              "      <td>0.0</td>\n",
              "      <td>0.0</td>\n",
              "      <td>0.000000</td>\n",
              "      <td>0.000000</td>\n",
              "      <td>0.0</td>\n",
              "      <td>0.000000</td>\n",
              "      <td>0.0</td>\n",
              "      <td>0.000000</td>\n",
              "      <td>0.0</td>\n",
              "      <td>0.0</td>\n",
              "      <td>0.0</td>\n",
              "      <td>0.0</td>\n",
              "      <td>0.0</td>\n",
              "      <td>0.000000</td>\n",
              "      <td>0.000000</td>\n",
              "      <td>0.0</td>\n",
              "      <td>0.000000</td>\n",
              "      <td>0.000000</td>\n",
              "      <td>0.0</td>\n",
              "      <td>0.000000</td>\n",
              "      <td>0.0</td>\n",
              "      <td>0.0</td>\n",
              "      <td>0.0</td>\n",
              "      <td>0.000000</td>\n",
              "      <td>0.0</td>\n",
              "      <td>0.000000</td>\n",
              "      <td>0.0</td>\n",
              "      <td>0.0</td>\n",
              "      <td>0.0</td>\n",
              "      <td>0.0</td>\n",
              "    </tr>\n",
              "    <tr>\n",
              "      <th>25%</th>\n",
              "      <td>0.000000</td>\n",
              "      <td>0.000000</td>\n",
              "      <td>0.0</td>\n",
              "      <td>0.0</td>\n",
              "      <td>0.0</td>\n",
              "      <td>0.0</td>\n",
              "      <td>0.0</td>\n",
              "      <td>0.0</td>\n",
              "      <td>0.0</td>\n",
              "      <td>0.000000</td>\n",
              "      <td>0.0</td>\n",
              "      <td>0.000000</td>\n",
              "      <td>0.000000</td>\n",
              "      <td>0.0</td>\n",
              "      <td>0.0</td>\n",
              "      <td>0.0</td>\n",
              "      <td>0.000000</td>\n",
              "      <td>0.0</td>\n",
              "      <td>0.0</td>\n",
              "      <td>0.000000</td>\n",
              "      <td>0.0</td>\n",
              "      <td>0.000000</td>\n",
              "      <td>0.0</td>\n",
              "      <td>0.000000</td>\n",
              "      <td>0.0</td>\n",
              "      <td>0.0</td>\n",
              "      <td>0.000000</td>\n",
              "      <td>0.0</td>\n",
              "      <td>0.0</td>\n",
              "      <td>0.0</td>\n",
              "      <td>0.0</td>\n",
              "      <td>0.000000</td>\n",
              "      <td>0.000000</td>\n",
              "      <td>0.0</td>\n",
              "      <td>0.000000</td>\n",
              "      <td>0.0</td>\n",
              "      <td>0.000000</td>\n",
              "      <td>0.0</td>\n",
              "      <td>0.0</td>\n",
              "      <td>0.0</td>\n",
              "      <td>0.0</td>\n",
              "      <td>0.0</td>\n",
              "      <td>0.000000</td>\n",
              "      <td>0.000000</td>\n",
              "      <td>0.0</td>\n",
              "      <td>0.000000</td>\n",
              "      <td>0.000000</td>\n",
              "      <td>0.0</td>\n",
              "      <td>0.000000</td>\n",
              "      <td>0.0</td>\n",
              "      <td>0.0</td>\n",
              "      <td>0.0</td>\n",
              "      <td>0.000000</td>\n",
              "      <td>0.0</td>\n",
              "      <td>0.000000</td>\n",
              "      <td>0.0</td>\n",
              "      <td>0.0</td>\n",
              "      <td>0.0</td>\n",
              "      <td>0.0</td>\n",
              "    </tr>\n",
              "    <tr>\n",
              "      <th>50%</th>\n",
              "      <td>1.000000</td>\n",
              "      <td>0.000000</td>\n",
              "      <td>0.0</td>\n",
              "      <td>0.0</td>\n",
              "      <td>0.0</td>\n",
              "      <td>0.0</td>\n",
              "      <td>0.0</td>\n",
              "      <td>0.0</td>\n",
              "      <td>0.0</td>\n",
              "      <td>0.000000</td>\n",
              "      <td>0.0</td>\n",
              "      <td>0.000000</td>\n",
              "      <td>0.000000</td>\n",
              "      <td>0.0</td>\n",
              "      <td>0.0</td>\n",
              "      <td>0.0</td>\n",
              "      <td>0.000000</td>\n",
              "      <td>0.0</td>\n",
              "      <td>0.0</td>\n",
              "      <td>0.000000</td>\n",
              "      <td>0.0</td>\n",
              "      <td>0.000000</td>\n",
              "      <td>0.0</td>\n",
              "      <td>0.000000</td>\n",
              "      <td>0.0</td>\n",
              "      <td>0.0</td>\n",
              "      <td>0.000000</td>\n",
              "      <td>0.0</td>\n",
              "      <td>0.0</td>\n",
              "      <td>0.0</td>\n",
              "      <td>0.0</td>\n",
              "      <td>0.000000</td>\n",
              "      <td>0.000000</td>\n",
              "      <td>0.0</td>\n",
              "      <td>0.000000</td>\n",
              "      <td>0.0</td>\n",
              "      <td>0.000000</td>\n",
              "      <td>0.0</td>\n",
              "      <td>0.0</td>\n",
              "      <td>0.0</td>\n",
              "      <td>0.0</td>\n",
              "      <td>0.0</td>\n",
              "      <td>0.000000</td>\n",
              "      <td>0.000000</td>\n",
              "      <td>0.0</td>\n",
              "      <td>0.000000</td>\n",
              "      <td>0.000000</td>\n",
              "      <td>0.0</td>\n",
              "      <td>0.000000</td>\n",
              "      <td>0.0</td>\n",
              "      <td>0.0</td>\n",
              "      <td>0.0</td>\n",
              "      <td>0.000000</td>\n",
              "      <td>0.0</td>\n",
              "      <td>0.000000</td>\n",
              "      <td>0.0</td>\n",
              "      <td>0.0</td>\n",
              "      <td>0.0</td>\n",
              "      <td>0.0</td>\n",
              "    </tr>\n",
              "    <tr>\n",
              "      <th>75%</th>\n",
              "      <td>1.000000</td>\n",
              "      <td>0.000000</td>\n",
              "      <td>0.0</td>\n",
              "      <td>0.0</td>\n",
              "      <td>0.0</td>\n",
              "      <td>0.0</td>\n",
              "      <td>0.0</td>\n",
              "      <td>0.0</td>\n",
              "      <td>0.0</td>\n",
              "      <td>1.000000</td>\n",
              "      <td>0.0</td>\n",
              "      <td>0.000000</td>\n",
              "      <td>0.000000</td>\n",
              "      <td>0.0</td>\n",
              "      <td>0.0</td>\n",
              "      <td>0.0</td>\n",
              "      <td>0.000000</td>\n",
              "      <td>0.0</td>\n",
              "      <td>0.0</td>\n",
              "      <td>0.000000</td>\n",
              "      <td>0.0</td>\n",
              "      <td>0.000000</td>\n",
              "      <td>0.0</td>\n",
              "      <td>0.000000</td>\n",
              "      <td>0.0</td>\n",
              "      <td>0.0</td>\n",
              "      <td>0.000000</td>\n",
              "      <td>0.0</td>\n",
              "      <td>0.0</td>\n",
              "      <td>0.0</td>\n",
              "      <td>0.0</td>\n",
              "      <td>0.000000</td>\n",
              "      <td>0.000000</td>\n",
              "      <td>0.0</td>\n",
              "      <td>0.000000</td>\n",
              "      <td>0.0</td>\n",
              "      <td>0.000000</td>\n",
              "      <td>0.0</td>\n",
              "      <td>0.0</td>\n",
              "      <td>0.0</td>\n",
              "      <td>0.0</td>\n",
              "      <td>0.0</td>\n",
              "      <td>0.000000</td>\n",
              "      <td>0.000000</td>\n",
              "      <td>0.0</td>\n",
              "      <td>0.000000</td>\n",
              "      <td>0.000000</td>\n",
              "      <td>0.0</td>\n",
              "      <td>0.000000</td>\n",
              "      <td>0.0</td>\n",
              "      <td>0.0</td>\n",
              "      <td>0.0</td>\n",
              "      <td>0.000000</td>\n",
              "      <td>0.0</td>\n",
              "      <td>0.000000</td>\n",
              "      <td>0.0</td>\n",
              "      <td>0.0</td>\n",
              "      <td>0.0</td>\n",
              "      <td>0.0</td>\n",
              "    </tr>\n",
              "    <tr>\n",
              "      <th>max</th>\n",
              "      <td>1.000000</td>\n",
              "      <td>1.000000</td>\n",
              "      <td>0.0</td>\n",
              "      <td>0.0</td>\n",
              "      <td>0.0</td>\n",
              "      <td>0.0</td>\n",
              "      <td>0.0</td>\n",
              "      <td>0.0</td>\n",
              "      <td>0.0</td>\n",
              "      <td>1.000000</td>\n",
              "      <td>0.0</td>\n",
              "      <td>1.000000</td>\n",
              "      <td>1.000000</td>\n",
              "      <td>0.0</td>\n",
              "      <td>0.0</td>\n",
              "      <td>0.0</td>\n",
              "      <td>1.000000</td>\n",
              "      <td>0.0</td>\n",
              "      <td>0.0</td>\n",
              "      <td>1.000000</td>\n",
              "      <td>0.0</td>\n",
              "      <td>1.000000</td>\n",
              "      <td>0.0</td>\n",
              "      <td>1.000000</td>\n",
              "      <td>0.0</td>\n",
              "      <td>0.0</td>\n",
              "      <td>1.000000</td>\n",
              "      <td>0.0</td>\n",
              "      <td>0.0</td>\n",
              "      <td>0.0</td>\n",
              "      <td>0.0</td>\n",
              "      <td>1.000000</td>\n",
              "      <td>1.000000</td>\n",
              "      <td>0.0</td>\n",
              "      <td>1.000000</td>\n",
              "      <td>0.0</td>\n",
              "      <td>1.000000</td>\n",
              "      <td>0.0</td>\n",
              "      <td>0.0</td>\n",
              "      <td>0.0</td>\n",
              "      <td>0.0</td>\n",
              "      <td>0.0</td>\n",
              "      <td>1.000000</td>\n",
              "      <td>1.000000</td>\n",
              "      <td>0.0</td>\n",
              "      <td>1.000000</td>\n",
              "      <td>1.000000</td>\n",
              "      <td>0.0</td>\n",
              "      <td>1.000000</td>\n",
              "      <td>0.0</td>\n",
              "      <td>0.0</td>\n",
              "      <td>0.0</td>\n",
              "      <td>1.000000</td>\n",
              "      <td>0.0</td>\n",
              "      <td>1.000000</td>\n",
              "      <td>0.0</td>\n",
              "      <td>0.0</td>\n",
              "      <td>0.0</td>\n",
              "      <td>0.0</td>\n",
              "    </tr>\n",
              "  </tbody>\n",
              "</table>\n",
              "</div>"
            ],
            "text/plain": [
              "       age_gt_60  airBoneGap  ...  wave_V_delayed  waveform_ItoV_prolonged\n",
              "count  26.000000   26.000000  ...            26.0                     26.0\n",
              "mean    0.615385    0.115385  ...             0.0                      0.0\n",
              "std     0.496139    0.325813  ...             0.0                      0.0\n",
              "min     0.000000    0.000000  ...             0.0                      0.0\n",
              "25%     0.000000    0.000000  ...             0.0                      0.0\n",
              "50%     1.000000    0.000000  ...             0.0                      0.0\n",
              "75%     1.000000    0.000000  ...             0.0                      0.0\n",
              "max     1.000000    1.000000  ...             0.0                      0.0\n",
              "\n",
              "[8 rows x 59 columns]"
            ]
          },
          "metadata": {
            "tags": []
          },
          "execution_count": 16
        }
      ]
    },
    {
      "cell_type": "code",
      "metadata": {
        "id": "EhxmNASTP5nh",
        "colab_type": "code",
        "colab": {
          "base_uri": "https://localhost:8080/",
          "height": 237
        },
        "outputId": "f46e60a0-0c9a-406c-9d0b-a688c3c5f33f"
      },
      "source": [
        "dft1.apply(pd.value_counts).T.stack()"
      ],
      "execution_count": 17,
      "outputs": [
        {
          "output_type": "execute_result",
          "data": {
            "text/plain": [
              "age_gt_60  0                              10.0\n",
              "           1                              16.0\n",
              "air        mild                           12.0\n",
              "           moderate                        4.0\n",
              "           normal                         10.0\n",
              "                                          ... \n",
              "class      cochlear_age_and_noise          4.0\n",
              "           cochlear_poss_noise             4.0\n",
              "           mixed_cochlear_age_fixation     1.0\n",
              "           mixed_cochlear_unk_fixation     4.0\n",
              "           normal_ear                      2.0\n",
              "Length: 110, dtype: float64"
            ]
          },
          "metadata": {
            "tags": []
          },
          "execution_count": 17
        }
      ]
    },
    {
      "cell_type": "code",
      "metadata": {
        "id": "rkx-utoqnOFF",
        "colab_type": "code",
        "colab": {
          "base_uri": "https://localhost:8080/",
          "height": 328
        },
        "outputId": "99dc4a31-5db2-4bd2-a2cd-25dee0071d03"
      },
      "source": [
        "\n",
        "m = {'inner ear':['cochlear_age',\n",
        "          'cochlear_age_and_noise','cochlear_age_plus_poss_menieres','cochlear_noise_and_heredity','cochlear_poss_noise',\n",
        "          'cochlear_unknown','retrocochlear_unknown','acoustic_neuroma','poss_central','possible_brainstem_disorder'],\n",
        "      'normal ear':['normal_ear','possible_menieres'],\n",
        "      'mixed':['mixed_cochlear_age_fixation','mixed_cochlear_age_otitis_media','mixed_cochlear_age_s_om',\n",
        "            'mixed_cochlear_unk_discontinuity','mixed_cochlear_unk_fixation','mixed_cochlear_unk_ser_om','mixed_poss_central_om','mixed_poss_noise_om']}\n",
        "      # 'middle ear':['conductive_discontinuity','conductive_fixation','otitis_media'],\n",
        "      # 'outer ear':['bells_palsy']}\n",
        "dft1['class'].unique()\n",
        "m2 = {v: k for k,vv in m.items() for v in vv}\n",
        "len(m2)\n",
        "dft1['class'] = dft1['class'].map(m2).astype(\"object\") \n",
        "dft1['class'].value_counts().plot(kind = 'bar')"
      ],
      "execution_count": 18,
      "outputs": [
        {
          "output_type": "execute_result",
          "data": {
            "text/plain": [
              "<matplotlib.axes._subplots.AxesSubplot at 0x7f402e4f0c88>"
            ]
          },
          "metadata": {
            "tags": []
          },
          "execution_count": 18
        },
        {
          "output_type": "display_data",
          "data": {
            "image/png": "[encoded data removed]",
            "text/plain": [
              "<Figure size 432x288 with 1 Axes>"
            ]
          },
          "metadata": {
            "tags": [],
            "needs_background": "light"
          }
        }
      ]
    },
    {
      "cell_type": "code",
      "metadata": {
        "id": "2pAqraOcRLEK",
        "colab_type": "code",
        "colab": {
          "base_uri": "https://localhost:8080/",
          "height": 175
        },
        "outputId": "6a8c0156-0605-4787-8566-44aa9134a2b6"
      },
      "source": [
        "objdf = dft1.select_dtypes(include = \"object\")\n",
        "objdf.describe()"
      ],
      "execution_count": 19,
      "outputs": [
        {
          "output_type": "execute_result",
          "data": {
            "text/html": [
              "<div>\n",
              "<style scoped>\n",
              "    .dataframe tbody tr th:only-of-type {\n",
              "        vertical-align: middle;\n",
              "    }\n",
              "\n",
              "    .dataframe tbody tr th {\n",
              "        vertical-align: top;\n",
              "    }\n",
              "\n",
              "    .dataframe thead th {\n",
              "        text-align: right;\n",
              "    }\n",
              "</style>\n",
              "<table border=\"1\" class=\"dataframe\">\n",
              "  <thead>\n",
              "    <tr style=\"text-align: right;\">\n",
              "      <th></th>\n",
              "      <th>air</th>\n",
              "      <th>ar_c</th>\n",
              "      <th>ar_u</th>\n",
              "      <th>bone</th>\n",
              "      <th>o_ar_c()</th>\n",
              "      <th>o_ar_u()</th>\n",
              "      <th>speech</th>\n",
              "      <th>class</th>\n",
              "    </tr>\n",
              "  </thead>\n",
              "  <tbody>\n",
              "    <tr>\n",
              "      <th>count</th>\n",
              "      <td>26</td>\n",
              "      <td>26</td>\n",
              "      <td>26</td>\n",
              "      <td>26</td>\n",
              "      <td>26</td>\n",
              "      <td>26</td>\n",
              "      <td>26</td>\n",
              "      <td>26</td>\n",
              "    </tr>\n",
              "    <tr>\n",
              "      <th>unique</th>\n",
              "      <td>3</td>\n",
              "      <td>3</td>\n",
              "      <td>3</td>\n",
              "      <td>4</td>\n",
              "      <td>3</td>\n",
              "      <td>3</td>\n",
              "      <td>5</td>\n",
              "      <td>3</td>\n",
              "    </tr>\n",
              "    <tr>\n",
              "      <th>top</th>\n",
              "      <td>mild</td>\n",
              "      <td>normal</td>\n",
              "      <td>normal</td>\n",
              "      <td>unmeasured</td>\n",
              "      <td>normal</td>\n",
              "      <td>normal</td>\n",
              "      <td>good</td>\n",
              "      <td>inner ear</td>\n",
              "    </tr>\n",
              "    <tr>\n",
              "      <th>freq</th>\n",
              "      <td>12</td>\n",
              "      <td>14</td>\n",
              "      <td>17</td>\n",
              "      <td>16</td>\n",
              "      <td>14</td>\n",
              "      <td>17</td>\n",
              "      <td>10</td>\n",
              "      <td>19</td>\n",
              "    </tr>\n",
              "  </tbody>\n",
              "</table>\n",
              "</div>"
            ],
            "text/plain": [
              "         air    ar_c    ar_u        bone o_ar_c() o_ar_u() speech      class\n",
              "count     26      26      26          26       26       26     26         26\n",
              "unique     3       3       3           4        3        3      5          3\n",
              "top     mild  normal  normal  unmeasured   normal   normal   good  inner ear\n",
              "freq      12      14      17          16       14       17     10         19"
            ]
          },
          "metadata": {
            "tags": []
          },
          "execution_count": 19
        }
      ]
    },
    {
      "cell_type": "code",
      "metadata": {
        "id": "NsnbDWuciIp6",
        "colab_type": "code",
        "colab": {
          "base_uri": "https://localhost:8080/",
          "height": 35
        },
        "outputId": "44eaf5f6-ef5c-4147-9a36-85f51c1bf156"
      },
      "source": [
        "dft1.shape"
      ],
      "execution_count": 20,
      "outputs": [
        {
          "output_type": "execute_result",
          "data": {
            "text/plain": [
              "(26, 67)"
            ]
          },
          "metadata": {
            "tags": []
          },
          "execution_count": 20
        }
      ]
    },
    {
      "cell_type": "code",
      "metadata": {
        "id": "IXh287LYWAhq",
        "colab_type": "code",
        "colab": {
          "base_uri": "https://localhost:8080/",
          "height": 502
        },
        "outputId": "f2f9f3eb-4640-4a0b-8893-1aeeb970b900"
      },
      "source": [
        "from sklearn.preprocessing import LabelEncoder\n",
        "le = LabelEncoder()\n",
        "dfts2 = dft1.select_dtypes(include = 'object')\n",
        "print(dfts2.describe())\n",
        "for col in dfts2.columns:\n",
        "   dfts2[col] = le.fit_transform(dfts2[col].astype(str))\n",
        "dfts2.head()\n",
        "dfts2['class'].value_counts().plot(kind = 'bar')\n"
      ],
      "execution_count": 21,
      "outputs": [
        {
          "output_type": "stream",
          "text": [
            "         air    ar_c    ar_u        bone o_ar_c() o_ar_u() speech      class\n",
            "count     26      26      26          26       26       26     26         26\n",
            "unique     3       3       3           4        3        3      5          3\n",
            "top     mild  normal  normal  unmeasured   normal   normal   good  inner ear\n",
            "freq      12      14      17          16       14       17     10         19\n"
          ],
          "name": "stdout"
        },
        {
          "output_type": "stream",
          "text": [
            "/usr/local/lib/python3.6/dist-packages/ipykernel_launcher.py:6: SettingWithCopyWarning: \n",
            "A value is trying to be set on a copy of a slice from a DataFrame.\n",
            "Try using .loc[row_indexer,col_indexer] = value instead\n",
            "\n",
            "See the caveats in the documentation: https://pandas.pydata.org/pandas-docs/stable/user_guide/indexing.html#returning-a-view-versus-a-copy\n",
            "  \n"
          ],
          "name": "stderr"
        },
        {
          "output_type": "execute_result",
          "data": {
            "text/plain": [
              "<matplotlib.axes._subplots.AxesSubplot at 0x7f402d7343c8>"
            ]
          },
          "metadata": {
            "tags": []
          },
          "execution_count": 21
        },
        {
          "output_type": "display_data",
          "data": {
            "image/png": "[encoded data removed]",
            "text/plain": [
              "<Figure size 432x288 with 1 Axes>"
            ]
          },
          "metadata": {
            "tags": [],
            "needs_background": "light"
          }
        }
      ]
    },
    {
      "cell_type": "code",
      "metadata": {
        "id": "82_pFCU9e1Rz",
        "colab_type": "code",
        "colab": {
          "base_uri": "https://localhost:8080/",
          "height": 35
        },
        "outputId": "dd04e3ce-8327-49a8-dfe2-3e089c130f1e"
      },
      "source": [
        "dft1.drop(objdf.columns,axis = 1,inplace = True)\n",
        "dft1.shape\n"
      ],
      "execution_count": 22,
      "outputs": [
        {
          "output_type": "execute_result",
          "data": {
            "text/plain": [
              "(26, 59)"
            ]
          },
          "metadata": {
            "tags": []
          },
          "execution_count": 22
        }
      ]
    },
    {
      "cell_type": "code",
      "metadata": {
        "id": "SwwHleuTphkm",
        "colab_type": "code",
        "colab": {
          "base_uri": "https://localhost:8080/",
          "height": 35
        },
        "outputId": "7ffd2840-cdce-40b5-ea73-a3f7d9eaf166"
      },
      "source": [
        "dftest = pd.concat([dft1,dfts2],axis = 1)\n",
        "dftest.shape"
      ],
      "execution_count": 23,
      "outputs": [
        {
          "output_type": "execute_result",
          "data": {
            "text/plain": [
              "(26, 67)"
            ]
          },
          "metadata": {
            "tags": []
          },
          "execution_count": 23
        }
      ]
    },
    {
      "cell_type": "code",
      "metadata": {
        "id": "H9MkqUQwqDDG",
        "colab_type": "code",
        "colab": {
          "base_uri": "https://localhost:8080/",
          "height": 35
        },
        "outputId": "cc24a6bd-df99-4d9e-b434-ffbf0ec5374b"
      },
      "source": [
        "dftest['tymp'] = dft['tymp']\n",
        "dftest['static_normal'] = dft['static_normal']\n",
        "dftest.shape"
      ],
      "execution_count": 24,
      "outputs": [
        {
          "output_type": "execute_result",
          "data": {
            "text/plain": [
              "(26, 69)"
            ]
          },
          "metadata": {
            "tags": []
          },
          "execution_count": 24
        }
      ]
    },
    {
      "cell_type": "code",
      "metadata": {
        "id": "dpEFygVvqtNb",
        "colab_type": "code",
        "colab": {
          "base_uri": "https://localhost:8080/",
          "height": 320
        },
        "outputId": "0e545c0d-41fc-41c4-ca86-8357a739350e"
      },
      "source": [
        "dftest.describe()"
      ],
      "execution_count": 25,
      "outputs": [
        {
          "output_type": "execute_result",
          "data": {
            "text/html": [
              "<div>\n",
              "<style scoped>\n",
              "    .dataframe tbody tr th:only-of-type {\n",
              "        vertical-align: middle;\n",
              "    }\n",
              "\n",
              "    .dataframe tbody tr th {\n",
              "        vertical-align: top;\n",
              "    }\n",
              "\n",
              "    .dataframe thead th {\n",
              "        text-align: right;\n",
              "    }\n",
              "</style>\n",
              "<table border=\"1\" class=\"dataframe\">\n",
              "  <thead>\n",
              "    <tr style=\"text-align: right;\">\n",
              "      <th></th>\n",
              "      <th>age_gt_60</th>\n",
              "      <th>airBoneGap</th>\n",
              "      <th>boneAbnormal</th>\n",
              "      <th>history_buzzing</th>\n",
              "      <th>history_dizziness</th>\n",
              "      <th>history_fluctuating</th>\n",
              "      <th>history_fullness</th>\n",
              "      <th>history_heredity</th>\n",
              "      <th>history_nausea</th>\n",
              "      <th>history_noise</th>\n",
              "      <th>history_recruitment</th>\n",
              "      <th>history_ringing</th>\n",
              "      <th>history_roaring</th>\n",
              "      <th>history_vomiting</th>\n",
              "      <th>late_wave_poor</th>\n",
              "      <th>m_at_2k</th>\n",
              "      <th>m_cond_lt_1k</th>\n",
              "      <th>m_gt_1k</th>\n",
              "      <th>m_m_gt_2k</th>\n",
              "      <th>m_m_sn</th>\n",
              "      <th>m_m_sn_gt_1k</th>\n",
              "      <th>m_m_sn_gt_2k</th>\n",
              "      <th>m_m_sn_gt_500</th>\n",
              "      <th>m_p_sn_gt_2k</th>\n",
              "      <th>m_s_gt_500</th>\n",
              "      <th>m_s_sn</th>\n",
              "      <th>m_s_sn_gt_1k</th>\n",
              "      <th>m_s_sn_gt_2k</th>\n",
              "      <th>m_s_sn_gt_3k</th>\n",
              "      <th>m_s_sn_gt_4k</th>\n",
              "      <th>m_sn_2_3k</th>\n",
              "      <th>m_sn_gt_1k</th>\n",
              "      <th>m_sn_gt_2k</th>\n",
              "      <th>m_sn_gt_3k</th>\n",
              "      <th>m_sn_gt_4k</th>\n",
              "      <th>m_sn_gt_500</th>\n",
              "      <th>m_sn_gt_6k</th>\n",
              "      <th>m_sn_lt_1k</th>\n",
              "      <th>m_sn_lt_2k</th>\n",
              "      <th>m_sn_lt_3k</th>\n",
              "      <th>middle_wave_poor</th>\n",
              "      <th>mod_gt_4k</th>\n",
              "      <th>mod_mixed</th>\n",
              "      <th>mod_s_mixed</th>\n",
              "      <th>mod_s_sn_gt_500</th>\n",
              "      <th>mod_sn</th>\n",
              "      <th>mod_sn_gt_1k</th>\n",
              "      <th>mod_sn_gt_2k</th>\n",
              "      <th>mod_sn_gt_3k</th>\n",
              "      <th>mod_sn_gt_4k</th>\n",
              "      <th>mod_sn_gt_500</th>\n",
              "      <th>notch_4k</th>\n",
              "      <th>notch_at_4k</th>\n",
              "      <th>s_sn_gt_1k</th>\n",
              "      <th>s_sn_gt_2k</th>\n",
              "      <th>s_sn_gt_4k</th>\n",
              "      <th>viith_nerve_signs</th>\n",
              "      <th>wave_V_delayed</th>\n",
              "      <th>waveform_ItoV_prolonged</th>\n",
              "      <th>air</th>\n",
              "      <th>ar_c</th>\n",
              "      <th>ar_u</th>\n",
              "      <th>bone</th>\n",
              "      <th>o_ar_c()</th>\n",
              "      <th>o_ar_u()</th>\n",
              "      <th>speech</th>\n",
              "      <th>class</th>\n",
              "      <th>tymp</th>\n",
              "      <th>static_normal</th>\n",
              "    </tr>\n",
              "  </thead>\n",
              "  <tbody>\n",
              "    <tr>\n",
              "      <th>count</th>\n",
              "      <td>26.000000</td>\n",
              "      <td>26.000000</td>\n",
              "      <td>26.0</td>\n",
              "      <td>26.0</td>\n",
              "      <td>26.0</td>\n",
              "      <td>26.0</td>\n",
              "      <td>26.0</td>\n",
              "      <td>26.0</td>\n",
              "      <td>26.0</td>\n",
              "      <td>26.000000</td>\n",
              "      <td>26.0</td>\n",
              "      <td>26.000000</td>\n",
              "      <td>26.000000</td>\n",
              "      <td>26.0</td>\n",
              "      <td>26.0</td>\n",
              "      <td>26.0</td>\n",
              "      <td>26.000000</td>\n",
              "      <td>26.0</td>\n",
              "      <td>26.0</td>\n",
              "      <td>26.000000</td>\n",
              "      <td>26.0</td>\n",
              "      <td>26.000000</td>\n",
              "      <td>26.0</td>\n",
              "      <td>26.000000</td>\n",
              "      <td>26.0</td>\n",
              "      <td>26.0</td>\n",
              "      <td>26.000000</td>\n",
              "      <td>26.0</td>\n",
              "      <td>26.0</td>\n",
              "      <td>26.0</td>\n",
              "      <td>26.0</td>\n",
              "      <td>26.000000</td>\n",
              "      <td>26.000000</td>\n",
              "      <td>26.0</td>\n",
              "      <td>26.000000</td>\n",
              "      <td>26.0</td>\n",
              "      <td>26.000000</td>\n",
              "      <td>26.0</td>\n",
              "      <td>26.0</td>\n",
              "      <td>26.0</td>\n",
              "      <td>26.0</td>\n",
              "      <td>26.0</td>\n",
              "      <td>26.000000</td>\n",
              "      <td>26.000000</td>\n",
              "      <td>26.0</td>\n",
              "      <td>26.000000</td>\n",
              "      <td>26.000000</td>\n",
              "      <td>26.0</td>\n",
              "      <td>26.000000</td>\n",
              "      <td>26.0</td>\n",
              "      <td>26.0</td>\n",
              "      <td>26.0</td>\n",
              "      <td>26.000000</td>\n",
              "      <td>26.0</td>\n",
              "      <td>26.000000</td>\n",
              "      <td>26.0</td>\n",
              "      <td>26.0</td>\n",
              "      <td>26.0</td>\n",
              "      <td>26.0</td>\n",
              "      <td>26.000000</td>\n",
              "      <td>26.000000</td>\n",
              "      <td>26.000000</td>\n",
              "      <td>26.000000</td>\n",
              "      <td>26.000000</td>\n",
              "      <td>26.000000</td>\n",
              "      <td>26.000000</td>\n",
              "      <td>26.000000</td>\n",
              "      <td>26.000000</td>\n",
              "      <td>26.0</td>\n",
              "    </tr>\n",
              "    <tr>\n",
              "      <th>mean</th>\n",
              "      <td>0.615385</td>\n",
              "      <td>0.115385</td>\n",
              "      <td>0.0</td>\n",
              "      <td>0.0</td>\n",
              "      <td>0.0</td>\n",
              "      <td>0.0</td>\n",
              "      <td>0.0</td>\n",
              "      <td>0.0</td>\n",
              "      <td>0.0</td>\n",
              "      <td>0.384615</td>\n",
              "      <td>0.0</td>\n",
              "      <td>0.230769</td>\n",
              "      <td>0.076923</td>\n",
              "      <td>0.0</td>\n",
              "      <td>0.0</td>\n",
              "      <td>0.0</td>\n",
              "      <td>0.038462</td>\n",
              "      <td>0.0</td>\n",
              "      <td>0.0</td>\n",
              "      <td>0.076923</td>\n",
              "      <td>0.0</td>\n",
              "      <td>0.115385</td>\n",
              "      <td>0.0</td>\n",
              "      <td>0.076923</td>\n",
              "      <td>0.0</td>\n",
              "      <td>0.0</td>\n",
              "      <td>0.038462</td>\n",
              "      <td>0.0</td>\n",
              "      <td>0.0</td>\n",
              "      <td>0.0</td>\n",
              "      <td>0.0</td>\n",
              "      <td>0.038462</td>\n",
              "      <td>0.192308</td>\n",
              "      <td>0.0</td>\n",
              "      <td>0.076923</td>\n",
              "      <td>0.0</td>\n",
              "      <td>0.038462</td>\n",
              "      <td>0.0</td>\n",
              "      <td>0.0</td>\n",
              "      <td>0.0</td>\n",
              "      <td>0.0</td>\n",
              "      <td>0.0</td>\n",
              "      <td>0.038462</td>\n",
              "      <td>0.038462</td>\n",
              "      <td>0.0</td>\n",
              "      <td>0.076923</td>\n",
              "      <td>0.038462</td>\n",
              "      <td>0.0</td>\n",
              "      <td>0.038462</td>\n",
              "      <td>0.0</td>\n",
              "      <td>0.0</td>\n",
              "      <td>0.0</td>\n",
              "      <td>0.153846</td>\n",
              "      <td>0.0</td>\n",
              "      <td>0.038462</td>\n",
              "      <td>0.0</td>\n",
              "      <td>0.0</td>\n",
              "      <td>0.0</td>\n",
              "      <td>0.0</td>\n",
              "      <td>0.923077</td>\n",
              "      <td>1.269231</td>\n",
              "      <td>1.423077</td>\n",
              "      <td>2.192308</td>\n",
              "      <td>1.269231</td>\n",
              "      <td>1.423077</td>\n",
              "      <td>1.269231</td>\n",
              "      <td>0.346154</td>\n",
              "      <td>0.769231</td>\n",
              "      <td>0.0</td>\n",
              "    </tr>\n",
              "    <tr>\n",
              "      <th>std</th>\n",
              "      <td>0.496139</td>\n",
              "      <td>0.325813</td>\n",
              "      <td>0.0</td>\n",
              "      <td>0.0</td>\n",
              "      <td>0.0</td>\n",
              "      <td>0.0</td>\n",
              "      <td>0.0</td>\n",
              "      <td>0.0</td>\n",
              "      <td>0.0</td>\n",
              "      <td>0.496139</td>\n",
              "      <td>0.0</td>\n",
              "      <td>0.429669</td>\n",
              "      <td>0.271746</td>\n",
              "      <td>0.0</td>\n",
              "      <td>0.0</td>\n",
              "      <td>0.0</td>\n",
              "      <td>0.196116</td>\n",
              "      <td>0.0</td>\n",
              "      <td>0.0</td>\n",
              "      <td>0.271746</td>\n",
              "      <td>0.0</td>\n",
              "      <td>0.325813</td>\n",
              "      <td>0.0</td>\n",
              "      <td>0.271746</td>\n",
              "      <td>0.0</td>\n",
              "      <td>0.0</td>\n",
              "      <td>0.196116</td>\n",
              "      <td>0.0</td>\n",
              "      <td>0.0</td>\n",
              "      <td>0.0</td>\n",
              "      <td>0.0</td>\n",
              "      <td>0.196116</td>\n",
              "      <td>0.401918</td>\n",
              "      <td>0.0</td>\n",
              "      <td>0.271746</td>\n",
              "      <td>0.0</td>\n",
              "      <td>0.196116</td>\n",
              "      <td>0.0</td>\n",
              "      <td>0.0</td>\n",
              "      <td>0.0</td>\n",
              "      <td>0.0</td>\n",
              "      <td>0.0</td>\n",
              "      <td>0.196116</td>\n",
              "      <td>0.196116</td>\n",
              "      <td>0.0</td>\n",
              "      <td>0.271746</td>\n",
              "      <td>0.196116</td>\n",
              "      <td>0.0</td>\n",
              "      <td>0.196116</td>\n",
              "      <td>0.0</td>\n",
              "      <td>0.0</td>\n",
              "      <td>0.0</td>\n",
              "      <td>0.367946</td>\n",
              "      <td>0.0</td>\n",
              "      <td>0.196116</td>\n",
              "      <td>0.0</td>\n",
              "      <td>0.0</td>\n",
              "      <td>0.0</td>\n",
              "      <td>0.0</td>\n",
              "      <td>0.934797</td>\n",
              "      <td>0.874423</td>\n",
              "      <td>0.856648</td>\n",
              "      <td>1.200641</td>\n",
              "      <td>0.874423</td>\n",
              "      <td>0.856648</td>\n",
              "      <td>1.372813</td>\n",
              "      <td>0.628796</td>\n",
              "      <td>0.429669</td>\n",
              "      <td>0.0</td>\n",
              "    </tr>\n",
              "    <tr>\n",
              "      <th>min</th>\n",
              "      <td>0.000000</td>\n",
              "      <td>0.000000</td>\n",
              "      <td>0.0</td>\n",
              "      <td>0.0</td>\n",
              "      <td>0.0</td>\n",
              "      <td>0.0</td>\n",
              "      <td>0.0</td>\n",
              "      <td>0.0</td>\n",
              "      <td>0.0</td>\n",
              "      <td>0.000000</td>\n",
              "      <td>0.0</td>\n",
              "      <td>0.000000</td>\n",
              "      <td>0.000000</td>\n",
              "      <td>0.0</td>\n",
              "      <td>0.0</td>\n",
              "      <td>0.0</td>\n",
              "      <td>0.000000</td>\n",
              "      <td>0.0</td>\n",
              "      <td>0.0</td>\n",
              "      <td>0.000000</td>\n",
              "      <td>0.0</td>\n",
              "      <td>0.000000</td>\n",
              "      <td>0.0</td>\n",
              "      <td>0.000000</td>\n",
              "      <td>0.0</td>\n",
              "      <td>0.0</td>\n",
              "      <td>0.000000</td>\n",
              "      <td>0.0</td>\n",
              "      <td>0.0</td>\n",
              "      <td>0.0</td>\n",
              "      <td>0.0</td>\n",
              "      <td>0.000000</td>\n",
              "      <td>0.000000</td>\n",
              "      <td>0.0</td>\n",
              "      <td>0.000000</td>\n",
              "      <td>0.0</td>\n",
              "      <td>0.000000</td>\n",
              "      <td>0.0</td>\n",
              "      <td>0.0</td>\n",
              "      <td>0.0</td>\n",
              "      <td>0.0</td>\n",
              "      <td>0.0</td>\n",
              "      <td>0.000000</td>\n",
              "      <td>0.000000</td>\n",
              "      <td>0.0</td>\n",
              "      <td>0.000000</td>\n",
              "      <td>0.000000</td>\n",
              "      <td>0.0</td>\n",
              "      <td>0.000000</td>\n",
              "      <td>0.0</td>\n",
              "      <td>0.0</td>\n",
              "      <td>0.0</td>\n",
              "      <td>0.000000</td>\n",
              "      <td>0.0</td>\n",
              "      <td>0.000000</td>\n",
              "      <td>0.0</td>\n",
              "      <td>0.0</td>\n",
              "      <td>0.0</td>\n",
              "      <td>0.0</td>\n",
              "      <td>0.000000</td>\n",
              "      <td>0.000000</td>\n",
              "      <td>0.000000</td>\n",
              "      <td>0.000000</td>\n",
              "      <td>0.000000</td>\n",
              "      <td>0.000000</td>\n",
              "      <td>0.000000</td>\n",
              "      <td>0.000000</td>\n",
              "      <td>0.000000</td>\n",
              "      <td>0.0</td>\n",
              "    </tr>\n",
              "    <tr>\n",
              "      <th>25%</th>\n",
              "      <td>0.000000</td>\n",
              "      <td>0.000000</td>\n",
              "      <td>0.0</td>\n",
              "      <td>0.0</td>\n",
              "      <td>0.0</td>\n",
              "      <td>0.0</td>\n",
              "      <td>0.0</td>\n",
              "      <td>0.0</td>\n",
              "      <td>0.0</td>\n",
              "      <td>0.000000</td>\n",
              "      <td>0.0</td>\n",
              "      <td>0.000000</td>\n",
              "      <td>0.000000</td>\n",
              "      <td>0.0</td>\n",
              "      <td>0.0</td>\n",
              "      <td>0.0</td>\n",
              "      <td>0.000000</td>\n",
              "      <td>0.0</td>\n",
              "      <td>0.0</td>\n",
              "      <td>0.000000</td>\n",
              "      <td>0.0</td>\n",
              "      <td>0.000000</td>\n",
              "      <td>0.0</td>\n",
              "      <td>0.000000</td>\n",
              "      <td>0.0</td>\n",
              "      <td>0.0</td>\n",
              "      <td>0.000000</td>\n",
              "      <td>0.0</td>\n",
              "      <td>0.0</td>\n",
              "      <td>0.0</td>\n",
              "      <td>0.0</td>\n",
              "      <td>0.000000</td>\n",
              "      <td>0.000000</td>\n",
              "      <td>0.0</td>\n",
              "      <td>0.000000</td>\n",
              "      <td>0.0</td>\n",
              "      <td>0.000000</td>\n",
              "      <td>0.0</td>\n",
              "      <td>0.0</td>\n",
              "      <td>0.0</td>\n",
              "      <td>0.0</td>\n",
              "      <td>0.0</td>\n",
              "      <td>0.000000</td>\n",
              "      <td>0.000000</td>\n",
              "      <td>0.0</td>\n",
              "      <td>0.000000</td>\n",
              "      <td>0.000000</td>\n",
              "      <td>0.0</td>\n",
              "      <td>0.000000</td>\n",
              "      <td>0.0</td>\n",
              "      <td>0.0</td>\n",
              "      <td>0.0</td>\n",
              "      <td>0.000000</td>\n",
              "      <td>0.0</td>\n",
              "      <td>0.000000</td>\n",
              "      <td>0.0</td>\n",
              "      <td>0.0</td>\n",
              "      <td>0.0</td>\n",
              "      <td>0.0</td>\n",
              "      <td>0.000000</td>\n",
              "      <td>0.250000</td>\n",
              "      <td>1.000000</td>\n",
              "      <td>2.000000</td>\n",
              "      <td>0.250000</td>\n",
              "      <td>1.000000</td>\n",
              "      <td>0.000000</td>\n",
              "      <td>0.000000</td>\n",
              "      <td>1.000000</td>\n",
              "      <td>0.0</td>\n",
              "    </tr>\n",
              "    <tr>\n",
              "      <th>50%</th>\n",
              "      <td>1.000000</td>\n",
              "      <td>0.000000</td>\n",
              "      <td>0.0</td>\n",
              "      <td>0.0</td>\n",
              "      <td>0.0</td>\n",
              "      <td>0.0</td>\n",
              "      <td>0.0</td>\n",
              "      <td>0.0</td>\n",
              "      <td>0.0</td>\n",
              "      <td>0.000000</td>\n",
              "      <td>0.0</td>\n",
              "      <td>0.000000</td>\n",
              "      <td>0.000000</td>\n",
              "      <td>0.0</td>\n",
              "      <td>0.0</td>\n",
              "      <td>0.0</td>\n",
              "      <td>0.000000</td>\n",
              "      <td>0.0</td>\n",
              "      <td>0.0</td>\n",
              "      <td>0.000000</td>\n",
              "      <td>0.0</td>\n",
              "      <td>0.000000</td>\n",
              "      <td>0.0</td>\n",
              "      <td>0.000000</td>\n",
              "      <td>0.0</td>\n",
              "      <td>0.0</td>\n",
              "      <td>0.000000</td>\n",
              "      <td>0.0</td>\n",
              "      <td>0.0</td>\n",
              "      <td>0.0</td>\n",
              "      <td>0.0</td>\n",
              "      <td>0.000000</td>\n",
              "      <td>0.000000</td>\n",
              "      <td>0.0</td>\n",
              "      <td>0.000000</td>\n",
              "      <td>0.0</td>\n",
              "      <td>0.000000</td>\n",
              "      <td>0.0</td>\n",
              "      <td>0.0</td>\n",
              "      <td>0.0</td>\n",
              "      <td>0.0</td>\n",
              "      <td>0.0</td>\n",
              "      <td>0.000000</td>\n",
              "      <td>0.000000</td>\n",
              "      <td>0.0</td>\n",
              "      <td>0.000000</td>\n",
              "      <td>0.000000</td>\n",
              "      <td>0.0</td>\n",
              "      <td>0.000000</td>\n",
              "      <td>0.0</td>\n",
              "      <td>0.0</td>\n",
              "      <td>0.0</td>\n",
              "      <td>0.000000</td>\n",
              "      <td>0.0</td>\n",
              "      <td>0.000000</td>\n",
              "      <td>0.0</td>\n",
              "      <td>0.0</td>\n",
              "      <td>0.0</td>\n",
              "      <td>0.0</td>\n",
              "      <td>1.000000</td>\n",
              "      <td>2.000000</td>\n",
              "      <td>2.000000</td>\n",
              "      <td>3.000000</td>\n",
              "      <td>2.000000</td>\n",
              "      <td>2.000000</td>\n",
              "      <td>1.000000</td>\n",
              "      <td>0.000000</td>\n",
              "      <td>1.000000</td>\n",
              "      <td>0.0</td>\n",
              "    </tr>\n",
              "    <tr>\n",
              "      <th>75%</th>\n",
              "      <td>1.000000</td>\n",
              "      <td>0.000000</td>\n",
              "      <td>0.0</td>\n",
              "      <td>0.0</td>\n",
              "      <td>0.0</td>\n",
              "      <td>0.0</td>\n",
              "      <td>0.0</td>\n",
              "      <td>0.0</td>\n",
              "      <td>0.0</td>\n",
              "      <td>1.000000</td>\n",
              "      <td>0.0</td>\n",
              "      <td>0.000000</td>\n",
              "      <td>0.000000</td>\n",
              "      <td>0.0</td>\n",
              "      <td>0.0</td>\n",
              "      <td>0.0</td>\n",
              "      <td>0.000000</td>\n",
              "      <td>0.0</td>\n",
              "      <td>0.0</td>\n",
              "      <td>0.000000</td>\n",
              "      <td>0.0</td>\n",
              "      <td>0.000000</td>\n",
              "      <td>0.0</td>\n",
              "      <td>0.000000</td>\n",
              "      <td>0.0</td>\n",
              "      <td>0.0</td>\n",
              "      <td>0.000000</td>\n",
              "      <td>0.0</td>\n",
              "      <td>0.0</td>\n",
              "      <td>0.0</td>\n",
              "      <td>0.0</td>\n",
              "      <td>0.000000</td>\n",
              "      <td>0.000000</td>\n",
              "      <td>0.0</td>\n",
              "      <td>0.000000</td>\n",
              "      <td>0.0</td>\n",
              "      <td>0.000000</td>\n",
              "      <td>0.0</td>\n",
              "      <td>0.0</td>\n",
              "      <td>0.0</td>\n",
              "      <td>0.0</td>\n",
              "      <td>0.0</td>\n",
              "      <td>0.000000</td>\n",
              "      <td>0.000000</td>\n",
              "      <td>0.0</td>\n",
              "      <td>0.000000</td>\n",
              "      <td>0.000000</td>\n",
              "      <td>0.0</td>\n",
              "      <td>0.000000</td>\n",
              "      <td>0.0</td>\n",
              "      <td>0.0</td>\n",
              "      <td>0.0</td>\n",
              "      <td>0.000000</td>\n",
              "      <td>0.0</td>\n",
              "      <td>0.000000</td>\n",
              "      <td>0.0</td>\n",
              "      <td>0.0</td>\n",
              "      <td>0.0</td>\n",
              "      <td>0.0</td>\n",
              "      <td>2.000000</td>\n",
              "      <td>2.000000</td>\n",
              "      <td>2.000000</td>\n",
              "      <td>3.000000</td>\n",
              "      <td>2.000000</td>\n",
              "      <td>2.000000</td>\n",
              "      <td>2.750000</td>\n",
              "      <td>0.750000</td>\n",
              "      <td>1.000000</td>\n",
              "      <td>0.0</td>\n",
              "    </tr>\n",
              "    <tr>\n",
              "      <th>max</th>\n",
              "      <td>1.000000</td>\n",
              "      <td>1.000000</td>\n",
              "      <td>0.0</td>\n",
              "      <td>0.0</td>\n",
              "      <td>0.0</td>\n",
              "      <td>0.0</td>\n",
              "      <td>0.0</td>\n",
              "      <td>0.0</td>\n",
              "      <td>0.0</td>\n",
              "      <td>1.000000</td>\n",
              "      <td>0.0</td>\n",
              "      <td>1.000000</td>\n",
              "      <td>1.000000</td>\n",
              "      <td>0.0</td>\n",
              "      <td>0.0</td>\n",
              "      <td>0.0</td>\n",
              "      <td>1.000000</td>\n",
              "      <td>0.0</td>\n",
              "      <td>0.0</td>\n",
              "      <td>1.000000</td>\n",
              "      <td>0.0</td>\n",
              "      <td>1.000000</td>\n",
              "      <td>0.0</td>\n",
              "      <td>1.000000</td>\n",
              "      <td>0.0</td>\n",
              "      <td>0.0</td>\n",
              "      <td>1.000000</td>\n",
              "      <td>0.0</td>\n",
              "      <td>0.0</td>\n",
              "      <td>0.0</td>\n",
              "      <td>0.0</td>\n",
              "      <td>1.000000</td>\n",
              "      <td>1.000000</td>\n",
              "      <td>0.0</td>\n",
              "      <td>1.000000</td>\n",
              "      <td>0.0</td>\n",
              "      <td>1.000000</td>\n",
              "      <td>0.0</td>\n",
              "      <td>0.0</td>\n",
              "      <td>0.0</td>\n",
              "      <td>0.0</td>\n",
              "      <td>0.0</td>\n",
              "      <td>1.000000</td>\n",
              "      <td>1.000000</td>\n",
              "      <td>0.0</td>\n",
              "      <td>1.000000</td>\n",
              "      <td>1.000000</td>\n",
              "      <td>0.0</td>\n",
              "      <td>1.000000</td>\n",
              "      <td>0.0</td>\n",
              "      <td>0.0</td>\n",
              "      <td>0.0</td>\n",
              "      <td>1.000000</td>\n",
              "      <td>0.0</td>\n",
              "      <td>1.000000</td>\n",
              "      <td>0.0</td>\n",
              "      <td>0.0</td>\n",
              "      <td>0.0</td>\n",
              "      <td>0.0</td>\n",
              "      <td>2.000000</td>\n",
              "      <td>2.000000</td>\n",
              "      <td>2.000000</td>\n",
              "      <td>3.000000</td>\n",
              "      <td>2.000000</td>\n",
              "      <td>2.000000</td>\n",
              "      <td>4.000000</td>\n",
              "      <td>2.000000</td>\n",
              "      <td>1.000000</td>\n",
              "      <td>0.0</td>\n",
              "    </tr>\n",
              "  </tbody>\n",
              "</table>\n",
              "</div>"
            ],
            "text/plain": [
              "       age_gt_60  airBoneGap  boneAbnormal  ...      class       tymp  static_normal\n",
              "count  26.000000   26.000000          26.0  ...  26.000000  26.000000           26.0\n",
              "mean    0.615385    0.115385           0.0  ...   0.346154   0.769231            0.0\n",
              "std     0.496139    0.325813           0.0  ...   0.628796   0.429669            0.0\n",
              "min     0.000000    0.000000           0.0  ...   0.000000   0.000000            0.0\n",
              "25%     0.000000    0.000000           0.0  ...   0.000000   1.000000            0.0\n",
              "50%     1.000000    0.000000           0.0  ...   0.000000   1.000000            0.0\n",
              "75%     1.000000    0.000000           0.0  ...   0.750000   1.000000            0.0\n",
              "max     1.000000    1.000000           0.0  ...   2.000000   1.000000            0.0\n",
              "\n",
              "[8 rows x 69 columns]"
            ]
          },
          "metadata": {
            "tags": []
          },
          "execution_count": 25
        }
      ]
    },
    {
      "cell_type": "code",
      "metadata": {
        "id": "xuKnuReoW6-U",
        "colab_type": "code",
        "colab": {}
      },
      "source": [
        "dtrain = pd.read_csv(\"/content/audiology.csv\")\n",
        "\n"
      ],
      "execution_count": 26,
      "outputs": []
    },
    {
      "cell_type": "code",
      "metadata": {
        "id": "OPHmgD6lZnRR",
        "colab_type": "code",
        "colab": {}
      },
      "source": [
        "dtrain.columns = dtrain.columns.str.strip()"
      ],
      "execution_count": 27,
      "outputs": []
    },
    {
      "cell_type": "code",
      "metadata": {
        "id": "omcObxXLZq2H",
        "colab_type": "code",
        "colab": {}
      },
      "source": [
        "import numpy as np\n",
        "for column in dtrain.columns:\n",
        "    count = dtrain[column][dtrain[column]=='?'].count()\n",
        "    if count!=0:\n",
        "        dtrain[column] = dtrain[column].replace(\"?\", np.nan)\n",
        "#print(df.iloc[:,1:30].isna().sum())"
      ],
      "execution_count": 28,
      "outputs": []
    },
    {
      "cell_type": "code",
      "metadata": {
        "id": "B2C_D_GzZ5y1",
        "colab_type": "code",
        "colab": {}
      },
      "source": [
        "dtrain['bone'] = dtrain['bone'].fillna(dtrain['bone'].mode()[0])\n",
        "dtrain['speech'] = dtrain['speech'].fillna(dtrain['speech'].mode()[0])\n",
        "dtrain['ar_c'] = dtrain['ar_c'].fillna(dtrain['ar_c'].mode()[0])\n",
        "dtrain['ar_u'] = dtrain['ar_u'].fillna(dtrain['ar_u'].mode()[0])\n",
        "dtrain['o_ar_c()'] = dtrain['o_ar_c()'].fillna(dtrain['o_ar_c()'].mode()[0])\n",
        "dtrain['o_ar_c()'] = dtrain['o_ar_c()'].fillna(dtrain['o_ar_c()'].mode()[0])"
      ],
      "execution_count": 29,
      "outputs": []
    },
    {
      "cell_type": "code",
      "metadata": {
        "id": "8L-ezWxHahHW",
        "colab_type": "code",
        "colab": {}
      },
      "source": [
        "for column in dtrain.columns:\n",
        "    if  len(dtrain[column].unique())==2:\n",
        "        dtrain[column] = dtrain[column].map({'f' : 0, 't' : 1})"
      ],
      "execution_count": 30,
      "outputs": []
    },
    {
      "cell_type": "code",
      "metadata": {
        "id": "GjsU0LGsbeqp",
        "colab_type": "code",
        "colab": {}
      },
      "source": [
        "for column in dtrain.columns:\n",
        "    if  len(dtrain[column].unique())==1:\n",
        "        dtrain[column] = dtrain[column].map({'f' : 0})"
      ],
      "execution_count": 31,
      "outputs": []
    },
    {
      "cell_type": "code",
      "metadata": {
        "id": "RSkH8p57bnxK",
        "colab_type": "code",
        "colab": {
          "base_uri": "https://localhost:8080/",
          "height": 109
        },
        "outputId": "93a31def-0626-4a9a-e07f-cb57976324ac"
      },
      "source": [
        "m = {'inner ear':['cochlear_age',\n",
        "          'cochlear_age_and_noise','cochlear_age_plus_poss_menieres','cochlear_noise_and_heredity','cochlear_poss_noise',\n",
        "          'cochlear_unknown','retrocochlear_unknown','acoustic_neuroma','poss_central','possible_brainstem_disorder'],\n",
        "      'normal ear':['normal_ear','possible_menieres'],\n",
        "      'mixed':['mixed_cochlear_age_fixation','mixed_cochlear_age_otitis_media','mixed_cochlear_age_s_om',\n",
        "            'mixed_cochlear_unk_discontinuity','mixed_cochlear_unk_fixation','mixed_cochlear_unk_ser_om','mixed_poss_central_om','mixed_poss_noise_om']}\n",
        "      # 'middle ear':['conductive_discontinuity','conductive_fixation','otitis_media'],\n",
        "      # 'outer ear':['bells_palsy']}\n",
        "dtrain['class'].unique()\n",
        "m2 = {v: k for k,vv in m.items() for v in vv}\n",
        "len(m2)\n",
        "dtrain['class'] = dtrain['class'].map(m2).astype(\"object\") \n",
        "dtrain['class'].describe()\n"
      ],
      "execution_count": 32,
      "outputs": [
        {
          "output_type": "execute_result",
          "data": {
            "text/plain": [
              "count           187\n",
              "unique            3\n",
              "top       inner ear\n",
              "freq            139\n",
              "Name: class, dtype: object"
            ]
          },
          "metadata": {
            "tags": []
          },
          "execution_count": 32
        }
      ]
    },
    {
      "cell_type": "code",
      "metadata": {
        "id": "Lnx9kmnjbvrS",
        "colab_type": "code",
        "colab": {
          "base_uri": "https://localhost:8080/",
          "height": 328
        },
        "outputId": "dfa9adbb-1009-4697-efa2-385f580c6c20"
      },
      "source": [
        "dtrain['class'].value_counts().plot(kind = 'bar')"
      ],
      "execution_count": 33,
      "outputs": [
        {
          "output_type": "execute_result",
          "data": {
            "text/plain": [
              "<matplotlib.axes._subplots.AxesSubplot at 0x7f402cf03d68>"
            ]
          },
          "metadata": {
            "tags": []
          },
          "execution_count": 33
        },
        {
          "output_type": "display_data",
          "data": {
            "image/png": "[encoded data removed]",
            "text/plain": [
              "<Figure size 432x288 with 1 Axes>"
            ]
          },
          "metadata": {
            "tags": [],
            "needs_background": "light"
          }
        }
      ]
    },
    {
      "cell_type": "code",
      "metadata": {
        "id": "o9FZpiHU3xTU",
        "colab_type": "code",
        "colab": {}
      },
      "source": [
        "dtrain.drop(['identifier','bser'],axis = 1,inplace = True)"
      ],
      "execution_count": 34,
      "outputs": []
    },
    {
      "cell_type": "code",
      "metadata": {
        "id": "4FtTezSAtjwk",
        "colab_type": "code",
        "colab": {
          "base_uri": "https://localhost:8080/",
          "height": 35
        },
        "outputId": "5d8ff880-c99b-49dc-8b63-878df4956ec2"
      },
      "source": [
        "dtrain.shape"
      ],
      "execution_count": 35,
      "outputs": [
        {
          "output_type": "execute_result",
          "data": {
            "text/plain": [
              "(200, 69)"
            ]
          },
          "metadata": {
            "tags": []
          },
          "execution_count": 35
        }
      ]
    },
    {
      "cell_type": "code",
      "metadata": {
        "id": "DfgBpWnprs6-",
        "colab_type": "code",
        "colab": {}
      },
      "source": [
        "objdtr = dtrain.select_dtypes(include = 'object')"
      ],
      "execution_count": 36,
      "outputs": []
    },
    {
      "cell_type": "code",
      "metadata": {
        "id": "3T1lrrNtsBpm",
        "colab_type": "code",
        "colab": {
          "base_uri": "https://localhost:8080/",
          "height": 201
        },
        "outputId": "7f6951d8-d6ba-41d2-dc3d-f0600c946ac4"
      },
      "source": [
        "dtrain['class'] = dtrain['class'].fillna(dtrain['class'].mode()[0])\n",
        "dtrain.select_dtypes(include = 'object').isna().sum()"
      ],
      "execution_count": 37,
      "outputs": [
        {
          "output_type": "execute_result",
          "data": {
            "text/plain": [
              "air         0\n",
              "ar_c        0\n",
              "ar_u        0\n",
              "bone        0\n",
              "o_ar_c()    0\n",
              "o_ar_u()    2\n",
              "speech      0\n",
              "tymp        0\n",
              "class       0\n",
              "dtype: int64"
            ]
          },
          "metadata": {
            "tags": []
          },
          "execution_count": 37
        }
      ]
    },
    {
      "cell_type": "code",
      "metadata": {
        "id": "qLl5aBNj6ZyV",
        "colab_type": "code",
        "colab": {
          "base_uri": "https://localhost:8080/",
          "height": 411
        },
        "outputId": "3f442e9d-32cd-4b8d-ae2f-8dfeea2d03b7"
      },
      "source": [
        "from sklearn.preprocessing import LabelEncoder\n",
        "le = LabelEncoder()\n",
        "dtr = dtrain.select_dtypes(include = 'object')\n",
        "#dtrain['class'].value_counts().plot(kind = 'bar')\n",
        "#print(df2.describe())\n",
        "for col in dtr.columns:\n",
        "   dtr[col] = le.fit_transform(dtr[col].astype(str))\n",
        "dtr['class'].value_counts().plot(kind = 'bar')"
      ],
      "execution_count": 38,
      "outputs": [
        {
          "output_type": "stream",
          "text": [
            "/usr/local/lib/python3.6/dist-packages/ipykernel_launcher.py:7: SettingWithCopyWarning: \n",
            "A value is trying to be set on a copy of a slice from a DataFrame.\n",
            "Try using .loc[row_indexer,col_indexer] = value instead\n",
            "\n",
            "See the caveats in the documentation: https://pandas.pydata.org/pandas-docs/stable/user_guide/indexing.html#returning-a-view-versus-a-copy\n",
            "  import sys\n"
          ],
          "name": "stderr"
        },
        {
          "output_type": "execute_result",
          "data": {
            "text/plain": [
              "<matplotlib.axes._subplots.AxesSubplot at 0x7f402cf9c438>"
            ]
          },
          "metadata": {
            "tags": []
          },
          "execution_count": 38
        },
        {
          "output_type": "display_data",
          "data": {
            "image/png": "[encoded data removed]",
            "text/plain": [
              "<Figure size 432x288 with 1 Axes>"
            ]
          },
          "metadata": {
            "tags": [],
            "needs_background": "light"
          }
        }
      ]
    },
    {
      "cell_type": "code",
      "metadata": {
        "id": "2kvPxGWMtsMv",
        "colab_type": "code",
        "colab": {
          "base_uri": "https://localhost:8080/",
          "height": 300
        },
        "outputId": "b8fb5ca2-1f4c-4c6c-b2c5-b000535176df"
      },
      "source": [
        "dtr.describe()"
      ],
      "execution_count": 39,
      "outputs": [
        {
          "output_type": "execute_result",
          "data": {
            "text/html": [
              "<div>\n",
              "<style scoped>\n",
              "    .dataframe tbody tr th:only-of-type {\n",
              "        vertical-align: middle;\n",
              "    }\n",
              "\n",
              "    .dataframe tbody tr th {\n",
              "        vertical-align: top;\n",
              "    }\n",
              "\n",
              "    .dataframe thead th {\n",
              "        text-align: right;\n",
              "    }\n",
              "</style>\n",
              "<table border=\"1\" class=\"dataframe\">\n",
              "  <thead>\n",
              "    <tr style=\"text-align: right;\">\n",
              "      <th></th>\n",
              "      <th>air</th>\n",
              "      <th>ar_c</th>\n",
              "      <th>ar_u</th>\n",
              "      <th>bone</th>\n",
              "      <th>o_ar_c()</th>\n",
              "      <th>o_ar_u()</th>\n",
              "      <th>speech</th>\n",
              "      <th>tymp</th>\n",
              "      <th>class</th>\n",
              "    </tr>\n",
              "  </thead>\n",
              "  <tbody>\n",
              "    <tr>\n",
              "      <th>count</th>\n",
              "      <td>200.000000</td>\n",
              "      <td>200.000000</td>\n",
              "      <td>200.000000</td>\n",
              "      <td>200.000000</td>\n",
              "      <td>200.000000</td>\n",
              "      <td>200.000000</td>\n",
              "      <td>200.000000</td>\n",
              "      <td>200.000000</td>\n",
              "      <td>200.000000</td>\n",
              "    </tr>\n",
              "    <tr>\n",
              "      <th>mean</th>\n",
              "      <td>0.990000</td>\n",
              "      <td>1.355000</td>\n",
              "      <td>1.415000</td>\n",
              "      <td>0.835000</td>\n",
              "      <td>1.410000</td>\n",
              "      <td>1.915000</td>\n",
              "      <td>1.830000</td>\n",
              "      <td>0.400000</td>\n",
              "      <td>0.380000</td>\n",
              "    </tr>\n",
              "    <tr>\n",
              "      <th>std</th>\n",
              "      <td>1.120795</td>\n",
              "      <td>0.855943</td>\n",
              "      <td>0.809972</td>\n",
              "      <td>1.189474</td>\n",
              "      <td>0.845859</td>\n",
              "      <td>1.302404</td>\n",
              "      <td>1.635381</td>\n",
              "      <td>1.012485</td>\n",
              "      <td>0.719855</td>\n",
              "    </tr>\n",
              "    <tr>\n",
              "      <th>min</th>\n",
              "      <td>0.000000</td>\n",
              "      <td>0.000000</td>\n",
              "      <td>0.000000</td>\n",
              "      <td>0.000000</td>\n",
              "      <td>0.000000</td>\n",
              "      <td>0.000000</td>\n",
              "      <td>0.000000</td>\n",
              "      <td>0.000000</td>\n",
              "      <td>0.000000</td>\n",
              "    </tr>\n",
              "    <tr>\n",
              "      <th>25%</th>\n",
              "      <td>0.000000</td>\n",
              "      <td>0.750000</td>\n",
              "      <td>1.000000</td>\n",
              "      <td>0.000000</td>\n",
              "      <td>1.000000</td>\n",
              "      <td>1.000000</td>\n",
              "      <td>1.000000</td>\n",
              "      <td>0.000000</td>\n",
              "      <td>0.000000</td>\n",
              "    </tr>\n",
              "    <tr>\n",
              "      <th>50%</th>\n",
              "      <td>0.000000</td>\n",
              "      <td>2.000000</td>\n",
              "      <td>2.000000</td>\n",
              "      <td>0.000000</td>\n",
              "      <td>2.000000</td>\n",
              "      <td>3.000000</td>\n",
              "      <td>1.000000</td>\n",
              "      <td>0.000000</td>\n",
              "      <td>0.000000</td>\n",
              "    </tr>\n",
              "    <tr>\n",
              "      <th>75%</th>\n",
              "      <td>2.000000</td>\n",
              "      <td>2.000000</td>\n",
              "      <td>2.000000</td>\n",
              "      <td>2.000000</td>\n",
              "      <td>2.000000</td>\n",
              "      <td>3.000000</td>\n",
              "      <td>4.000000</td>\n",
              "      <td>0.000000</td>\n",
              "      <td>0.000000</td>\n",
              "    </tr>\n",
              "    <tr>\n",
              "      <th>max</th>\n",
              "      <td>4.000000</td>\n",
              "      <td>2.000000</td>\n",
              "      <td>2.000000</td>\n",
              "      <td>3.000000</td>\n",
              "      <td>2.000000</td>\n",
              "      <td>3.000000</td>\n",
              "      <td>5.000000</td>\n",
              "      <td>4.000000</td>\n",
              "      <td>2.000000</td>\n",
              "    </tr>\n",
              "  </tbody>\n",
              "</table>\n",
              "</div>"
            ],
            "text/plain": [
              "              air        ar_c        ar_u  ...      speech        tymp       class\n",
              "count  200.000000  200.000000  200.000000  ...  200.000000  200.000000  200.000000\n",
              "mean     0.990000    1.355000    1.415000  ...    1.830000    0.400000    0.380000\n",
              "std      1.120795    0.855943    0.809972  ...    1.635381    1.012485    0.719855\n",
              "min      0.000000    0.000000    0.000000  ...    0.000000    0.000000    0.000000\n",
              "25%      0.000000    0.750000    1.000000  ...    1.000000    0.000000    0.000000\n",
              "50%      0.000000    2.000000    2.000000  ...    1.000000    0.000000    0.000000\n",
              "75%      2.000000    2.000000    2.000000  ...    4.000000    0.000000    0.000000\n",
              "max      4.000000    2.000000    2.000000  ...    5.000000    4.000000    2.000000\n",
              "\n",
              "[8 rows x 9 columns]"
            ]
          },
          "metadata": {
            "tags": []
          },
          "execution_count": 39
        }
      ]
    },
    {
      "cell_type": "code",
      "metadata": {
        "id": "__eWoVPwtyJM",
        "colab_type": "code",
        "colab": {
          "base_uri": "https://localhost:8080/",
          "height": 175
        },
        "outputId": "9de19314-b086-495e-cb2f-dd934dd1627c"
      },
      "source": [
        "objdtr.describe()"
      ],
      "execution_count": 40,
      "outputs": [
        {
          "output_type": "execute_result",
          "data": {
            "text/html": [
              "<div>\n",
              "<style scoped>\n",
              "    .dataframe tbody tr th:only-of-type {\n",
              "        vertical-align: middle;\n",
              "    }\n",
              "\n",
              "    .dataframe tbody tr th {\n",
              "        vertical-align: top;\n",
              "    }\n",
              "\n",
              "    .dataframe thead th {\n",
              "        text-align: right;\n",
              "    }\n",
              "</style>\n",
              "<table border=\"1\" class=\"dataframe\">\n",
              "  <thead>\n",
              "    <tr style=\"text-align: right;\">\n",
              "      <th></th>\n",
              "      <th>air</th>\n",
              "      <th>ar_c</th>\n",
              "      <th>ar_u</th>\n",
              "      <th>bone</th>\n",
              "      <th>o_ar_c()</th>\n",
              "      <th>o_ar_u()</th>\n",
              "      <th>speech</th>\n",
              "      <th>tymp</th>\n",
              "      <th>class</th>\n",
              "    </tr>\n",
              "  </thead>\n",
              "  <tbody>\n",
              "    <tr>\n",
              "      <th>count</th>\n",
              "      <td>200</td>\n",
              "      <td>200</td>\n",
              "      <td>200</td>\n",
              "      <td>200</td>\n",
              "      <td>200</td>\n",
              "      <td>198</td>\n",
              "      <td>200</td>\n",
              "      <td>200</td>\n",
              "      <td>187</td>\n",
              "    </tr>\n",
              "    <tr>\n",
              "      <th>unique</th>\n",
              "      <td>5</td>\n",
              "      <td>3</td>\n",
              "      <td>3</td>\n",
              "      <td>4</td>\n",
              "      <td>3</td>\n",
              "      <td>3</td>\n",
              "      <td>6</td>\n",
              "      <td>5</td>\n",
              "      <td>3</td>\n",
              "    </tr>\n",
              "    <tr>\n",
              "      <th>top</th>\n",
              "      <td>mild</td>\n",
              "      <td>normal</td>\n",
              "      <td>normal</td>\n",
              "      <td>mild</td>\n",
              "      <td>normal</td>\n",
              "      <td>normal</td>\n",
              "      <td>normal</td>\n",
              "      <td>a</td>\n",
              "      <td>inner ear</td>\n",
              "    </tr>\n",
              "    <tr>\n",
              "      <th>freq</th>\n",
              "      <td>101</td>\n",
              "      <td>121</td>\n",
              "      <td>124</td>\n",
              "      <td>130</td>\n",
              "      <td>129</td>\n",
              "      <td>114</td>\n",
              "      <td>89</td>\n",
              "      <td>169</td>\n",
              "      <td>139</td>\n",
              "    </tr>\n",
              "  </tbody>\n",
              "</table>\n",
              "</div>"
            ],
            "text/plain": [
              "         air    ar_c    ar_u  bone o_ar_c() o_ar_u()  speech tymp      class\n",
              "count    200     200     200   200      200      198     200  200        187\n",
              "unique     5       3       3     4        3        3       6    5          3\n",
              "top     mild  normal  normal  mild   normal   normal  normal    a  inner ear\n",
              "freq     101     121     124   130      129      114      89  169        139"
            ]
          },
          "metadata": {
            "tags": []
          },
          "execution_count": 40
        }
      ]
    },
    {
      "cell_type": "code",
      "metadata": {
        "id": "aGGcuZdfWcD3",
        "colab_type": "code",
        "colab": {}
      },
      "source": [
        "dtrain.drop(objdtr.columns,axis = 1,inplace = True)"
      ],
      "execution_count": 41,
      "outputs": []
    },
    {
      "cell_type": "code",
      "metadata": {
        "id": "FpTfP3h4utzR",
        "colab_type": "code",
        "colab": {
          "base_uri": "https://localhost:8080/",
          "height": 35
        },
        "outputId": "fe7ceda7-e4d8-4f71-e852-6b37b815dd98"
      },
      "source": [
        "trdf = pd.concat([dtrain,dtr],axis = 1)\n",
        "trdf.shape"
      ],
      "execution_count": 42,
      "outputs": [
        {
          "output_type": "execute_result",
          "data": {
            "text/plain": [
              "(200, 69)"
            ]
          },
          "metadata": {
            "tags": []
          },
          "execution_count": 42
        }
      ]
    },
    {
      "cell_type": "code",
      "metadata": {
        "id": "5vT41shxW5Zb",
        "colab_type": "code",
        "colab": {
          "base_uri": "https://localhost:8080/",
          "height": 320
        },
        "outputId": "4d57d32d-bcc0-4bf3-ab03-f08aaefde3bd"
      },
      "source": [
        "trdf.describe()"
      ],
      "execution_count": 43,
      "outputs": [
        {
          "output_type": "execute_result",
          "data": {
            "text/html": [
              "<div>\n",
              "<style scoped>\n",
              "    .dataframe tbody tr th:only-of-type {\n",
              "        vertical-align: middle;\n",
              "    }\n",
              "\n",
              "    .dataframe tbody tr th {\n",
              "        vertical-align: top;\n",
              "    }\n",
              "\n",
              "    .dataframe thead th {\n",
              "        text-align: right;\n",
              "    }\n",
              "</style>\n",
              "<table border=\"1\" class=\"dataframe\">\n",
              "  <thead>\n",
              "    <tr style=\"text-align: right;\">\n",
              "      <th></th>\n",
              "      <th>age_gt_60</th>\n",
              "      <th>airBoneGap</th>\n",
              "      <th>boneAbnormal</th>\n",
              "      <th>history_buzzing</th>\n",
              "      <th>history_dizziness</th>\n",
              "      <th>history_fluctuating</th>\n",
              "      <th>history_fullness</th>\n",
              "      <th>history_heredity</th>\n",
              "      <th>history_nausea</th>\n",
              "      <th>history_noise</th>\n",
              "      <th>history_recruitment</th>\n",
              "      <th>history_ringing</th>\n",
              "      <th>history_roaring</th>\n",
              "      <th>history_vomiting</th>\n",
              "      <th>late_wave_poor</th>\n",
              "      <th>m_at_2k</th>\n",
              "      <th>m_cond_lt_1k</th>\n",
              "      <th>m_gt_1k</th>\n",
              "      <th>m_m_gt_2k</th>\n",
              "      <th>m_m_sn</th>\n",
              "      <th>m_m_sn_gt_1k</th>\n",
              "      <th>m_m_sn_gt_2k</th>\n",
              "      <th>m_m_sn_gt_500</th>\n",
              "      <th>m_p_sn_gt_2k</th>\n",
              "      <th>m_s_gt_500</th>\n",
              "      <th>m_s_sn</th>\n",
              "      <th>m_s_sn_gt_1k</th>\n",
              "      <th>m_s_sn_gt_2k</th>\n",
              "      <th>m_s_sn_gt_3k</th>\n",
              "      <th>m_s_sn_gt_4k</th>\n",
              "      <th>m_sn_2_3k</th>\n",
              "      <th>m_sn_gt_1k</th>\n",
              "      <th>m_sn_gt_2k</th>\n",
              "      <th>m_sn_gt_3k</th>\n",
              "      <th>m_sn_gt_4k</th>\n",
              "      <th>m_sn_gt_500</th>\n",
              "      <th>m_sn_gt_6k</th>\n",
              "      <th>m_sn_lt_1k</th>\n",
              "      <th>m_sn_lt_2k</th>\n",
              "      <th>m_sn_lt_3k</th>\n",
              "      <th>middle_wave_poor</th>\n",
              "      <th>mod_gt_4k</th>\n",
              "      <th>mod_mixed</th>\n",
              "      <th>mod_s_mixed</th>\n",
              "      <th>mod_s_sn_gt_500</th>\n",
              "      <th>mod_sn</th>\n",
              "      <th>mod_sn_gt_1k</th>\n",
              "      <th>mod_sn_gt_2k</th>\n",
              "      <th>mod_sn_gt_3k</th>\n",
              "      <th>mod_sn_gt_4k</th>\n",
              "      <th>mod_sn_gt_500</th>\n",
              "      <th>notch_4k</th>\n",
              "      <th>notch_at_4k</th>\n",
              "      <th>s_sn_gt_1k</th>\n",
              "      <th>s_sn_gt_2k</th>\n",
              "      <th>s_sn_gt_4k</th>\n",
              "      <th>static_normal</th>\n",
              "      <th>viith_nerve_signs</th>\n",
              "      <th>wave_V_delayed</th>\n",
              "      <th>waveform_ItoV_prolonged</th>\n",
              "      <th>air</th>\n",
              "      <th>ar_c</th>\n",
              "      <th>ar_u</th>\n",
              "      <th>bone</th>\n",
              "      <th>o_ar_c()</th>\n",
              "      <th>o_ar_u()</th>\n",
              "      <th>speech</th>\n",
              "      <th>tymp</th>\n",
              "      <th>class</th>\n",
              "    </tr>\n",
              "  </thead>\n",
              "  <tbody>\n",
              "    <tr>\n",
              "      <th>count</th>\n",
              "      <td>200.000000</td>\n",
              "      <td>200.000000</td>\n",
              "      <td>200.000000</td>\n",
              "      <td>200.000000</td>\n",
              "      <td>200.000000</td>\n",
              "      <td>200.000000</td>\n",
              "      <td>200.000000</td>\n",
              "      <td>200.000000</td>\n",
              "      <td>200.000000</td>\n",
              "      <td>200.000000</td>\n",
              "      <td>200.000000</td>\n",
              "      <td>200.000000</td>\n",
              "      <td>200.000000</td>\n",
              "      <td>200.000000</td>\n",
              "      <td>200.000000</td>\n",
              "      <td>200.000000</td>\n",
              "      <td>200.0</td>\n",
              "      <td>200.000000</td>\n",
              "      <td>200.000000</td>\n",
              "      <td>200.000000</td>\n",
              "      <td>200.000000</td>\n",
              "      <td>200.000000</td>\n",
              "      <td>200.000000</td>\n",
              "      <td>200.0</td>\n",
              "      <td>200.000000</td>\n",
              "      <td>200.000000</td>\n",
              "      <td>200.0</td>\n",
              "      <td>200.000000</td>\n",
              "      <td>200.000000</td>\n",
              "      <td>200.000000</td>\n",
              "      <td>200.000000</td>\n",
              "      <td>200.000000</td>\n",
              "      <td>200.000000</td>\n",
              "      <td>200.000000</td>\n",
              "      <td>200.000000</td>\n",
              "      <td>200.000000</td>\n",
              "      <td>200.0</td>\n",
              "      <td>200.000000</td>\n",
              "      <td>200.000000</td>\n",
              "      <td>200.000000</td>\n",
              "      <td>200.000000</td>\n",
              "      <td>200.000000</td>\n",
              "      <td>200.0</td>\n",
              "      <td>200.0</td>\n",
              "      <td>200.000000</td>\n",
              "      <td>200.0</td>\n",
              "      <td>200.000000</td>\n",
              "      <td>200.000000</td>\n",
              "      <td>200.000000</td>\n",
              "      <td>200.000000</td>\n",
              "      <td>200.000000</td>\n",
              "      <td>200.000000</td>\n",
              "      <td>200.000000</td>\n",
              "      <td>200.000000</td>\n",
              "      <td>200.000000</td>\n",
              "      <td>200.000000</td>\n",
              "      <td>200.000000</td>\n",
              "      <td>200.000000</td>\n",
              "      <td>200.000000</td>\n",
              "      <td>200.000000</td>\n",
              "      <td>200.000000</td>\n",
              "      <td>200.000000</td>\n",
              "      <td>200.000000</td>\n",
              "      <td>200.000000</td>\n",
              "      <td>200.000000</td>\n",
              "      <td>200.000000</td>\n",
              "      <td>200.000000</td>\n",
              "      <td>200.000000</td>\n",
              "      <td>200.000000</td>\n",
              "    </tr>\n",
              "    <tr>\n",
              "      <th>mean</th>\n",
              "      <td>0.380000</td>\n",
              "      <td>0.115000</td>\n",
              "      <td>0.250000</td>\n",
              "      <td>0.005000</td>\n",
              "      <td>0.100000</td>\n",
              "      <td>0.035000</td>\n",
              "      <td>0.005000</td>\n",
              "      <td>0.010000</td>\n",
              "      <td>0.060000</td>\n",
              "      <td>0.260000</td>\n",
              "      <td>0.010000</td>\n",
              "      <td>0.020000</td>\n",
              "      <td>0.045000</td>\n",
              "      <td>0.030000</td>\n",
              "      <td>0.010000</td>\n",
              "      <td>0.005000</td>\n",
              "      <td>0.0</td>\n",
              "      <td>0.005000</td>\n",
              "      <td>0.010000</td>\n",
              "      <td>0.035000</td>\n",
              "      <td>0.025000</td>\n",
              "      <td>0.015000</td>\n",
              "      <td>0.005000</td>\n",
              "      <td>0.0</td>\n",
              "      <td>0.005000</td>\n",
              "      <td>0.005000</td>\n",
              "      <td>0.0</td>\n",
              "      <td>0.005000</td>\n",
              "      <td>0.005000</td>\n",
              "      <td>0.005000</td>\n",
              "      <td>0.005000</td>\n",
              "      <td>0.040000</td>\n",
              "      <td>0.080000</td>\n",
              "      <td>0.020000</td>\n",
              "      <td>0.045000</td>\n",
              "      <td>0.005000</td>\n",
              "      <td>0.0</td>\n",
              "      <td>0.015000</td>\n",
              "      <td>0.005000</td>\n",
              "      <td>0.005000</td>\n",
              "      <td>0.010000</td>\n",
              "      <td>0.005000</td>\n",
              "      <td>0.0</td>\n",
              "      <td>0.0</td>\n",
              "      <td>0.005000</td>\n",
              "      <td>0.0</td>\n",
              "      <td>0.005000</td>\n",
              "      <td>0.035000</td>\n",
              "      <td>0.045000</td>\n",
              "      <td>0.015000</td>\n",
              "      <td>0.015000</td>\n",
              "      <td>0.125000</td>\n",
              "      <td>0.055000</td>\n",
              "      <td>0.010000</td>\n",
              "      <td>0.030000</td>\n",
              "      <td>0.010000</td>\n",
              "      <td>0.940000</td>\n",
              "      <td>0.005000</td>\n",
              "      <td>0.010000</td>\n",
              "      <td>0.010000</td>\n",
              "      <td>0.990000</td>\n",
              "      <td>1.355000</td>\n",
              "      <td>1.415000</td>\n",
              "      <td>0.835000</td>\n",
              "      <td>1.410000</td>\n",
              "      <td>1.915000</td>\n",
              "      <td>1.830000</td>\n",
              "      <td>0.400000</td>\n",
              "      <td>0.380000</td>\n",
              "    </tr>\n",
              "    <tr>\n",
              "      <th>std</th>\n",
              "      <td>0.486604</td>\n",
              "      <td>0.319823</td>\n",
              "      <td>0.434099</td>\n",
              "      <td>0.070711</td>\n",
              "      <td>0.300753</td>\n",
              "      <td>0.184241</td>\n",
              "      <td>0.070711</td>\n",
              "      <td>0.099748</td>\n",
              "      <td>0.238083</td>\n",
              "      <td>0.439735</td>\n",
              "      <td>0.099748</td>\n",
              "      <td>0.140351</td>\n",
              "      <td>0.207824</td>\n",
              "      <td>0.171015</td>\n",
              "      <td>0.099748</td>\n",
              "      <td>0.070711</td>\n",
              "      <td>0.0</td>\n",
              "      <td>0.070711</td>\n",
              "      <td>0.099748</td>\n",
              "      <td>0.184241</td>\n",
              "      <td>0.156517</td>\n",
              "      <td>0.121857</td>\n",
              "      <td>0.070711</td>\n",
              "      <td>0.0</td>\n",
              "      <td>0.070711</td>\n",
              "      <td>0.070711</td>\n",
              "      <td>0.0</td>\n",
              "      <td>0.070711</td>\n",
              "      <td>0.070711</td>\n",
              "      <td>0.070711</td>\n",
              "      <td>0.070711</td>\n",
              "      <td>0.196451</td>\n",
              "      <td>0.271974</td>\n",
              "      <td>0.140351</td>\n",
              "      <td>0.207824</td>\n",
              "      <td>0.070711</td>\n",
              "      <td>0.0</td>\n",
              "      <td>0.121857</td>\n",
              "      <td>0.070711</td>\n",
              "      <td>0.070711</td>\n",
              "      <td>0.099748</td>\n",
              "      <td>0.070711</td>\n",
              "      <td>0.0</td>\n",
              "      <td>0.0</td>\n",
              "      <td>0.070711</td>\n",
              "      <td>0.0</td>\n",
              "      <td>0.070711</td>\n",
              "      <td>0.184241</td>\n",
              "      <td>0.207824</td>\n",
              "      <td>0.121857</td>\n",
              "      <td>0.121857</td>\n",
              "      <td>0.331549</td>\n",
              "      <td>0.228552</td>\n",
              "      <td>0.099748</td>\n",
              "      <td>0.171015</td>\n",
              "      <td>0.099748</td>\n",
              "      <td>0.238083</td>\n",
              "      <td>0.070711</td>\n",
              "      <td>0.099748</td>\n",
              "      <td>0.099748</td>\n",
              "      <td>1.120795</td>\n",
              "      <td>0.855943</td>\n",
              "      <td>0.809972</td>\n",
              "      <td>1.189474</td>\n",
              "      <td>0.845859</td>\n",
              "      <td>1.302404</td>\n",
              "      <td>1.635381</td>\n",
              "      <td>1.012485</td>\n",
              "      <td>0.719855</td>\n",
              "    </tr>\n",
              "    <tr>\n",
              "      <th>min</th>\n",
              "      <td>0.000000</td>\n",
              "      <td>0.000000</td>\n",
              "      <td>0.000000</td>\n",
              "      <td>0.000000</td>\n",
              "      <td>0.000000</td>\n",
              "      <td>0.000000</td>\n",
              "      <td>0.000000</td>\n",
              "      <td>0.000000</td>\n",
              "      <td>0.000000</td>\n",
              "      <td>0.000000</td>\n",
              "      <td>0.000000</td>\n",
              "      <td>0.000000</td>\n",
              "      <td>0.000000</td>\n",
              "      <td>0.000000</td>\n",
              "      <td>0.000000</td>\n",
              "      <td>0.000000</td>\n",
              "      <td>0.0</td>\n",
              "      <td>0.000000</td>\n",
              "      <td>0.000000</td>\n",
              "      <td>0.000000</td>\n",
              "      <td>0.000000</td>\n",
              "      <td>0.000000</td>\n",
              "      <td>0.000000</td>\n",
              "      <td>0.0</td>\n",
              "      <td>0.000000</td>\n",
              "      <td>0.000000</td>\n",
              "      <td>0.0</td>\n",
              "      <td>0.000000</td>\n",
              "      <td>0.000000</td>\n",
              "      <td>0.000000</td>\n",
              "      <td>0.000000</td>\n",
              "      <td>0.000000</td>\n",
              "      <td>0.000000</td>\n",
              "      <td>0.000000</td>\n",
              "      <td>0.000000</td>\n",
              "      <td>0.000000</td>\n",
              "      <td>0.0</td>\n",
              "      <td>0.000000</td>\n",
              "      <td>0.000000</td>\n",
              "      <td>0.000000</td>\n",
              "      <td>0.000000</td>\n",
              "      <td>0.000000</td>\n",
              "      <td>0.0</td>\n",
              "      <td>0.0</td>\n",
              "      <td>0.000000</td>\n",
              "      <td>0.0</td>\n",
              "      <td>0.000000</td>\n",
              "      <td>0.000000</td>\n",
              "      <td>0.000000</td>\n",
              "      <td>0.000000</td>\n",
              "      <td>0.000000</td>\n",
              "      <td>0.000000</td>\n",
              "      <td>0.000000</td>\n",
              "      <td>0.000000</td>\n",
              "      <td>0.000000</td>\n",
              "      <td>0.000000</td>\n",
              "      <td>0.000000</td>\n",
              "      <td>0.000000</td>\n",
              "      <td>0.000000</td>\n",
              "      <td>0.000000</td>\n",
              "      <td>0.000000</td>\n",
              "      <td>0.000000</td>\n",
              "      <td>0.000000</td>\n",
              "      <td>0.000000</td>\n",
              "      <td>0.000000</td>\n",
              "      <td>0.000000</td>\n",
              "      <td>0.000000</td>\n",
              "      <td>0.000000</td>\n",
              "      <td>0.000000</td>\n",
              "    </tr>\n",
              "    <tr>\n",
              "      <th>25%</th>\n",
              "      <td>0.000000</td>\n",
              "      <td>0.000000</td>\n",
              "      <td>0.000000</td>\n",
              "      <td>0.000000</td>\n",
              "      <td>0.000000</td>\n",
              "      <td>0.000000</td>\n",
              "      <td>0.000000</td>\n",
              "      <td>0.000000</td>\n",
              "      <td>0.000000</td>\n",
              "      <td>0.000000</td>\n",
              "      <td>0.000000</td>\n",
              "      <td>0.000000</td>\n",
              "      <td>0.000000</td>\n",
              "      <td>0.000000</td>\n",
              "      <td>0.000000</td>\n",
              "      <td>0.000000</td>\n",
              "      <td>0.0</td>\n",
              "      <td>0.000000</td>\n",
              "      <td>0.000000</td>\n",
              "      <td>0.000000</td>\n",
              "      <td>0.000000</td>\n",
              "      <td>0.000000</td>\n",
              "      <td>0.000000</td>\n",
              "      <td>0.0</td>\n",
              "      <td>0.000000</td>\n",
              "      <td>0.000000</td>\n",
              "      <td>0.0</td>\n",
              "      <td>0.000000</td>\n",
              "      <td>0.000000</td>\n",
              "      <td>0.000000</td>\n",
              "      <td>0.000000</td>\n",
              "      <td>0.000000</td>\n",
              "      <td>0.000000</td>\n",
              "      <td>0.000000</td>\n",
              "      <td>0.000000</td>\n",
              "      <td>0.000000</td>\n",
              "      <td>0.0</td>\n",
              "      <td>0.000000</td>\n",
              "      <td>0.000000</td>\n",
              "      <td>0.000000</td>\n",
              "      <td>0.000000</td>\n",
              "      <td>0.000000</td>\n",
              "      <td>0.0</td>\n",
              "      <td>0.0</td>\n",
              "      <td>0.000000</td>\n",
              "      <td>0.0</td>\n",
              "      <td>0.000000</td>\n",
              "      <td>0.000000</td>\n",
              "      <td>0.000000</td>\n",
              "      <td>0.000000</td>\n",
              "      <td>0.000000</td>\n",
              "      <td>0.000000</td>\n",
              "      <td>0.000000</td>\n",
              "      <td>0.000000</td>\n",
              "      <td>0.000000</td>\n",
              "      <td>0.000000</td>\n",
              "      <td>1.000000</td>\n",
              "      <td>0.000000</td>\n",
              "      <td>0.000000</td>\n",
              "      <td>0.000000</td>\n",
              "      <td>0.000000</td>\n",
              "      <td>0.750000</td>\n",
              "      <td>1.000000</td>\n",
              "      <td>0.000000</td>\n",
              "      <td>1.000000</td>\n",
              "      <td>1.000000</td>\n",
              "      <td>1.000000</td>\n",
              "      <td>0.000000</td>\n",
              "      <td>0.000000</td>\n",
              "    </tr>\n",
              "    <tr>\n",
              "      <th>50%</th>\n",
              "      <td>0.000000</td>\n",
              "      <td>0.000000</td>\n",
              "      <td>0.000000</td>\n",
              "      <td>0.000000</td>\n",
              "      <td>0.000000</td>\n",
              "      <td>0.000000</td>\n",
              "      <td>0.000000</td>\n",
              "      <td>0.000000</td>\n",
              "      <td>0.000000</td>\n",
              "      <td>0.000000</td>\n",
              "      <td>0.000000</td>\n",
              "      <td>0.000000</td>\n",
              "      <td>0.000000</td>\n",
              "      <td>0.000000</td>\n",
              "      <td>0.000000</td>\n",
              "      <td>0.000000</td>\n",
              "      <td>0.0</td>\n",
              "      <td>0.000000</td>\n",
              "      <td>0.000000</td>\n",
              "      <td>0.000000</td>\n",
              "      <td>0.000000</td>\n",
              "      <td>0.000000</td>\n",
              "      <td>0.000000</td>\n",
              "      <td>0.0</td>\n",
              "      <td>0.000000</td>\n",
              "      <td>0.000000</td>\n",
              "      <td>0.0</td>\n",
              "      <td>0.000000</td>\n",
              "      <td>0.000000</td>\n",
              "      <td>0.000000</td>\n",
              "      <td>0.000000</td>\n",
              "      <td>0.000000</td>\n",
              "      <td>0.000000</td>\n",
              "      <td>0.000000</td>\n",
              "      <td>0.000000</td>\n",
              "      <td>0.000000</td>\n",
              "      <td>0.0</td>\n",
              "      <td>0.000000</td>\n",
              "      <td>0.000000</td>\n",
              "      <td>0.000000</td>\n",
              "      <td>0.000000</td>\n",
              "      <td>0.000000</td>\n",
              "      <td>0.0</td>\n",
              "      <td>0.0</td>\n",
              "      <td>0.000000</td>\n",
              "      <td>0.0</td>\n",
              "      <td>0.000000</td>\n",
              "      <td>0.000000</td>\n",
              "      <td>0.000000</td>\n",
              "      <td>0.000000</td>\n",
              "      <td>0.000000</td>\n",
              "      <td>0.000000</td>\n",
              "      <td>0.000000</td>\n",
              "      <td>0.000000</td>\n",
              "      <td>0.000000</td>\n",
              "      <td>0.000000</td>\n",
              "      <td>1.000000</td>\n",
              "      <td>0.000000</td>\n",
              "      <td>0.000000</td>\n",
              "      <td>0.000000</td>\n",
              "      <td>0.000000</td>\n",
              "      <td>2.000000</td>\n",
              "      <td>2.000000</td>\n",
              "      <td>0.000000</td>\n",
              "      <td>2.000000</td>\n",
              "      <td>3.000000</td>\n",
              "      <td>1.000000</td>\n",
              "      <td>0.000000</td>\n",
              "      <td>0.000000</td>\n",
              "    </tr>\n",
              "    <tr>\n",
              "      <th>75%</th>\n",
              "      <td>1.000000</td>\n",
              "      <td>0.000000</td>\n",
              "      <td>0.250000</td>\n",
              "      <td>0.000000</td>\n",
              "      <td>0.000000</td>\n",
              "      <td>0.000000</td>\n",
              "      <td>0.000000</td>\n",
              "      <td>0.000000</td>\n",
              "      <td>0.000000</td>\n",
              "      <td>1.000000</td>\n",
              "      <td>0.000000</td>\n",
              "      <td>0.000000</td>\n",
              "      <td>0.000000</td>\n",
              "      <td>0.000000</td>\n",
              "      <td>0.000000</td>\n",
              "      <td>0.000000</td>\n",
              "      <td>0.0</td>\n",
              "      <td>0.000000</td>\n",
              "      <td>0.000000</td>\n",
              "      <td>0.000000</td>\n",
              "      <td>0.000000</td>\n",
              "      <td>0.000000</td>\n",
              "      <td>0.000000</td>\n",
              "      <td>0.0</td>\n",
              "      <td>0.000000</td>\n",
              "      <td>0.000000</td>\n",
              "      <td>0.0</td>\n",
              "      <td>0.000000</td>\n",
              "      <td>0.000000</td>\n",
              "      <td>0.000000</td>\n",
              "      <td>0.000000</td>\n",
              "      <td>0.000000</td>\n",
              "      <td>0.000000</td>\n",
              "      <td>0.000000</td>\n",
              "      <td>0.000000</td>\n",
              "      <td>0.000000</td>\n",
              "      <td>0.0</td>\n",
              "      <td>0.000000</td>\n",
              "      <td>0.000000</td>\n",
              "      <td>0.000000</td>\n",
              "      <td>0.000000</td>\n",
              "      <td>0.000000</td>\n",
              "      <td>0.0</td>\n",
              "      <td>0.0</td>\n",
              "      <td>0.000000</td>\n",
              "      <td>0.0</td>\n",
              "      <td>0.000000</td>\n",
              "      <td>0.000000</td>\n",
              "      <td>0.000000</td>\n",
              "      <td>0.000000</td>\n",
              "      <td>0.000000</td>\n",
              "      <td>0.000000</td>\n",
              "      <td>0.000000</td>\n",
              "      <td>0.000000</td>\n",
              "      <td>0.000000</td>\n",
              "      <td>0.000000</td>\n",
              "      <td>1.000000</td>\n",
              "      <td>0.000000</td>\n",
              "      <td>0.000000</td>\n",
              "      <td>0.000000</td>\n",
              "      <td>2.000000</td>\n",
              "      <td>2.000000</td>\n",
              "      <td>2.000000</td>\n",
              "      <td>2.000000</td>\n",
              "      <td>2.000000</td>\n",
              "      <td>3.000000</td>\n",
              "      <td>4.000000</td>\n",
              "      <td>0.000000</td>\n",
              "      <td>0.000000</td>\n",
              "    </tr>\n",
              "    <tr>\n",
              "      <th>max</th>\n",
              "      <td>1.000000</td>\n",
              "      <td>1.000000</td>\n",
              "      <td>1.000000</td>\n",
              "      <td>1.000000</td>\n",
              "      <td>1.000000</td>\n",
              "      <td>1.000000</td>\n",
              "      <td>1.000000</td>\n",
              "      <td>1.000000</td>\n",
              "      <td>1.000000</td>\n",
              "      <td>1.000000</td>\n",
              "      <td>1.000000</td>\n",
              "      <td>1.000000</td>\n",
              "      <td>1.000000</td>\n",
              "      <td>1.000000</td>\n",
              "      <td>1.000000</td>\n",
              "      <td>1.000000</td>\n",
              "      <td>0.0</td>\n",
              "      <td>1.000000</td>\n",
              "      <td>1.000000</td>\n",
              "      <td>1.000000</td>\n",
              "      <td>1.000000</td>\n",
              "      <td>1.000000</td>\n",
              "      <td>1.000000</td>\n",
              "      <td>0.0</td>\n",
              "      <td>1.000000</td>\n",
              "      <td>1.000000</td>\n",
              "      <td>0.0</td>\n",
              "      <td>1.000000</td>\n",
              "      <td>1.000000</td>\n",
              "      <td>1.000000</td>\n",
              "      <td>1.000000</td>\n",
              "      <td>1.000000</td>\n",
              "      <td>1.000000</td>\n",
              "      <td>1.000000</td>\n",
              "      <td>1.000000</td>\n",
              "      <td>1.000000</td>\n",
              "      <td>0.0</td>\n",
              "      <td>1.000000</td>\n",
              "      <td>1.000000</td>\n",
              "      <td>1.000000</td>\n",
              "      <td>1.000000</td>\n",
              "      <td>1.000000</td>\n",
              "      <td>0.0</td>\n",
              "      <td>0.0</td>\n",
              "      <td>1.000000</td>\n",
              "      <td>0.0</td>\n",
              "      <td>1.000000</td>\n",
              "      <td>1.000000</td>\n",
              "      <td>1.000000</td>\n",
              "      <td>1.000000</td>\n",
              "      <td>1.000000</td>\n",
              "      <td>1.000000</td>\n",
              "      <td>1.000000</td>\n",
              "      <td>1.000000</td>\n",
              "      <td>1.000000</td>\n",
              "      <td>1.000000</td>\n",
              "      <td>1.000000</td>\n",
              "      <td>1.000000</td>\n",
              "      <td>1.000000</td>\n",
              "      <td>1.000000</td>\n",
              "      <td>4.000000</td>\n",
              "      <td>2.000000</td>\n",
              "      <td>2.000000</td>\n",
              "      <td>3.000000</td>\n",
              "      <td>2.000000</td>\n",
              "      <td>3.000000</td>\n",
              "      <td>5.000000</td>\n",
              "      <td>4.000000</td>\n",
              "      <td>2.000000</td>\n",
              "    </tr>\n",
              "  </tbody>\n",
              "</table>\n",
              "</div>"
            ],
            "text/plain": [
              "        age_gt_60  airBoneGap  boneAbnormal  ...      speech        tymp       class\n",
              "count  200.000000  200.000000    200.000000  ...  200.000000  200.000000  200.000000\n",
              "mean     0.380000    0.115000      0.250000  ...    1.830000    0.400000    0.380000\n",
              "std      0.486604    0.319823      0.434099  ...    1.635381    1.012485    0.719855\n",
              "min      0.000000    0.000000      0.000000  ...    0.000000    0.000000    0.000000\n",
              "25%      0.000000    0.000000      0.000000  ...    1.000000    0.000000    0.000000\n",
              "50%      0.000000    0.000000      0.000000  ...    1.000000    0.000000    0.000000\n",
              "75%      1.000000    0.000000      0.250000  ...    4.000000    0.000000    0.000000\n",
              "max      1.000000    1.000000      1.000000  ...    5.000000    4.000000    2.000000\n",
              "\n",
              "[8 rows x 69 columns]"
            ]
          },
          "metadata": {
            "tags": []
          },
          "execution_count": 43
        }
      ]
    },
    {
      "cell_type": "code",
      "metadata": {
        "id": "0TwZfG8Fcgqx",
        "colab_type": "code",
        "colab": {
          "base_uri": "https://localhost:8080/",
          "height": 280
        },
        "outputId": "88d6ae10-78c2-40ff-ec9d-26661e2e38ac"
      },
      "source": [
        "trdf['class'].value_counts().plot(kind = 'bar')\n",
        "trdf.shape"
      ],
      "execution_count": 44,
      "outputs": [
        {
          "output_type": "execute_result",
          "data": {
            "text/plain": [
              "(200, 69)"
            ]
          },
          "metadata": {
            "tags": []
          },
          "execution_count": 44
        },
        {
          "output_type": "display_data",
          "data": {
            "image/png": "[encoded data removed]",
            "text/plain": [
              "<Figure size 432x288 with 1 Axes>"
            ]
          },
          "metadata": {
            "tags": [],
            "needs_background": "light"
          }
        }
      ]
    },
    {
      "cell_type": "code",
      "metadata": {
        "id": "qjsXDU-JdTP2",
        "colab_type": "code",
        "colab": {
          "base_uri": "https://localhost:8080/",
          "height": 280
        },
        "outputId": "843f6fee-6806-4adb-b3f6-bf3bb1bb6983"
      },
      "source": [
        "dftest['class'].value_counts().plot(kind = 'bar')\n",
        "dftest.shape"
      ],
      "execution_count": 45,
      "outputs": [
        {
          "output_type": "execute_result",
          "data": {
            "text/plain": [
              "(26, 69)"
            ]
          },
          "metadata": {
            "tags": []
          },
          "execution_count": 45
        },
        {
          "output_type": "display_data",
          "data": {
            "image/png": "[encoded data removed]",
            "text/plain": [
              "<Figure size 432x288 with 1 Axes>"
            ]
          },
          "metadata": {
            "tags": [],
            "needs_background": "light"
          }
        }
      ]
    },
    {
      "cell_type": "code",
      "metadata": {
        "id": "7uaIR2UTdnhx",
        "colab_type": "code",
        "colab": {}
      },
      "source": [
        "from sklearn import preprocessing# Get column names first\n",
        "names = trdf.columns# Create the Scaler object\n",
        "scaler = preprocessing.StandardScaler()# Fit your data on the scaler object\n",
        "scaled_df = scaler.fit_transform(trdf)\n",
        "scaled_df = pd.DataFrame(scaled_df, columns=names)"
      ],
      "execution_count": 46,
      "outputs": []
    },
    {
      "cell_type": "code",
      "metadata": {
        "id": "ahR1BxO8x1HG",
        "colab_type": "code",
        "colab": {
          "base_uri": "https://localhost:8080/",
          "height": 237
        },
        "outputId": "d2bba981-d92e-4446-8294-1448352a6923"
      },
      "source": [
        "Q1 = scaled_df.quantile(0.25)\n",
        "Q3 = scaled_df.quantile(0.75)\n",
        "IQR = Q3 - Q1\n",
        "print(IQR)"
      ],
      "execution_count": 47,
      "outputs": [
        {
          "output_type": "stream",
          "text": [
            "age_gt_60            2.060214\n",
            "airBoneGap           0.000000\n",
            "boneAbnormal         0.577350\n",
            "history_buzzing      0.000000\n",
            "history_dizziness    0.000000\n",
            "                       ...   \n",
            "o_ar_c()             1.185197\n",
            "o_ar_u()             1.539475\n",
            "speech               1.839038\n",
            "tymp                 0.000000\n",
            "class                0.000000\n",
            "Length: 69, dtype: float64\n"
          ],
          "name": "stdout"
        }
      ]
    },
    {
      "cell_type": "code",
      "metadata": {
        "id": "HqyQ-rNgx3iq",
        "colab_type": "code",
        "colab": {
          "base_uri": "https://localhost:8080/",
          "height": 35
        },
        "outputId": "682258b5-03cf-428e-bed4-607041ff3888"
      },
      "source": [
        "df_out = scaled_df[~((scaled_df < (Q1 - 1.5 * IQR)) |(scaled_df > (Q3 + 1.5 * IQR))).any(axis=1)]\n",
        "df_out.shape"
      ],
      "execution_count": 48,
      "outputs": [
        {
          "output_type": "execute_result",
          "data": {
            "text/plain": [
              "(14, 69)"
            ]
          },
          "metadata": {
            "tags": []
          },
          "execution_count": 48
        }
      ]
    },
    {
      "cell_type": "code",
      "metadata": {
        "id": "fM8p9zFnx7ZF",
        "colab_type": "code",
        "colab": {
          "base_uri": "https://localhost:8080/",
          "height": 35
        },
        "outputId": "8b4e1c5a-a11d-4c96-8153-113a22efd9d7"
      },
      "source": [
        "trdf.drop(df_out.index,inplace = True)\n",
        "print(trdf.shape)"
      ],
      "execution_count": 49,
      "outputs": [
        {
          "output_type": "stream",
          "text": [
            "(186, 69)\n"
          ],
          "name": "stdout"
        }
      ]
    },
    {
      "cell_type": "code",
      "metadata": {
        "id": "MboklhTrKXjx",
        "colab_type": "code",
        "colab": {}
      },
      "source": [
        ""
      ],
      "execution_count": null,
      "outputs": []
    },
    {
      "cell_type": "code",
      "metadata": {
        "id": "5tgSFgxmyATP",
        "colab_type": "code",
        "colab": {
          "base_uri": "https://localhost:8080/",
          "height": 226
        },
        "outputId": "3ac58aa4-1c3f-493e-d17a-b0435b0c9d76"
      },
      "source": [
        "xtrain = trdf.iloc[:,:-1]\n",
        "ytrain = trdf.iloc[:,-1]\n",
        "xtrain.head()"
      ],
      "execution_count": 50,
      "outputs": [
        {
          "output_type": "execute_result",
          "data": {
            "text/html": [
              "<div>\n",
              "<style scoped>\n",
              "    .dataframe tbody tr th:only-of-type {\n",
              "        vertical-align: middle;\n",
              "    }\n",
              "\n",
              "    .dataframe tbody tr th {\n",
              "        vertical-align: top;\n",
              "    }\n",
              "\n",
              "    .dataframe thead th {\n",
              "        text-align: right;\n",
              "    }\n",
              "</style>\n",
              "<table border=\"1\" class=\"dataframe\">\n",
              "  <thead>\n",
              "    <tr style=\"text-align: right;\">\n",
              "      <th></th>\n",
              "      <th>age_gt_60</th>\n",
              "      <th>airBoneGap</th>\n",
              "      <th>boneAbnormal</th>\n",
              "      <th>history_buzzing</th>\n",
              "      <th>history_dizziness</th>\n",
              "      <th>history_fluctuating</th>\n",
              "      <th>history_fullness</th>\n",
              "      <th>history_heredity</th>\n",
              "      <th>history_nausea</th>\n",
              "      <th>history_noise</th>\n",
              "      <th>history_recruitment</th>\n",
              "      <th>history_ringing</th>\n",
              "      <th>history_roaring</th>\n",
              "      <th>history_vomiting</th>\n",
              "      <th>late_wave_poor</th>\n",
              "      <th>m_at_2k</th>\n",
              "      <th>m_cond_lt_1k</th>\n",
              "      <th>m_gt_1k</th>\n",
              "      <th>m_m_gt_2k</th>\n",
              "      <th>m_m_sn</th>\n",
              "      <th>m_m_sn_gt_1k</th>\n",
              "      <th>m_m_sn_gt_2k</th>\n",
              "      <th>m_m_sn_gt_500</th>\n",
              "      <th>m_p_sn_gt_2k</th>\n",
              "      <th>m_s_gt_500</th>\n",
              "      <th>m_s_sn</th>\n",
              "      <th>m_s_sn_gt_1k</th>\n",
              "      <th>m_s_sn_gt_2k</th>\n",
              "      <th>m_s_sn_gt_3k</th>\n",
              "      <th>m_s_sn_gt_4k</th>\n",
              "      <th>m_sn_2_3k</th>\n",
              "      <th>m_sn_gt_1k</th>\n",
              "      <th>m_sn_gt_2k</th>\n",
              "      <th>m_sn_gt_3k</th>\n",
              "      <th>m_sn_gt_4k</th>\n",
              "      <th>m_sn_gt_500</th>\n",
              "      <th>m_sn_gt_6k</th>\n",
              "      <th>m_sn_lt_1k</th>\n",
              "      <th>m_sn_lt_2k</th>\n",
              "      <th>m_sn_lt_3k</th>\n",
              "      <th>middle_wave_poor</th>\n",
              "      <th>mod_gt_4k</th>\n",
              "      <th>mod_mixed</th>\n",
              "      <th>mod_s_mixed</th>\n",
              "      <th>mod_s_sn_gt_500</th>\n",
              "      <th>mod_sn</th>\n",
              "      <th>mod_sn_gt_1k</th>\n",
              "      <th>mod_sn_gt_2k</th>\n",
              "      <th>mod_sn_gt_3k</th>\n",
              "      <th>mod_sn_gt_4k</th>\n",
              "      <th>mod_sn_gt_500</th>\n",
              "      <th>notch_4k</th>\n",
              "      <th>notch_at_4k</th>\n",
              "      <th>s_sn_gt_1k</th>\n",
              "      <th>s_sn_gt_2k</th>\n",
              "      <th>s_sn_gt_4k</th>\n",
              "      <th>static_normal</th>\n",
              "      <th>viith_nerve_signs</th>\n",
              "      <th>wave_V_delayed</th>\n",
              "      <th>waveform_ItoV_prolonged</th>\n",
              "      <th>air</th>\n",
              "      <th>ar_c</th>\n",
              "      <th>ar_u</th>\n",
              "      <th>bone</th>\n",
              "      <th>o_ar_c()</th>\n",
              "      <th>o_ar_u()</th>\n",
              "      <th>speech</th>\n",
              "      <th>tymp</th>\n",
              "    </tr>\n",
              "  </thead>\n",
              "  <tbody>\n",
              "    <tr>\n",
              "      <th>0</th>\n",
              "      <td>0</td>\n",
              "      <td>0</td>\n",
              "      <td>1</td>\n",
              "      <td>0</td>\n",
              "      <td>0</td>\n",
              "      <td>0</td>\n",
              "      <td>0</td>\n",
              "      <td>0</td>\n",
              "      <td>0</td>\n",
              "      <td>0</td>\n",
              "      <td>0</td>\n",
              "      <td>0</td>\n",
              "      <td>0</td>\n",
              "      <td>0</td>\n",
              "      <td>0</td>\n",
              "      <td>0</td>\n",
              "      <td>0</td>\n",
              "      <td>0</td>\n",
              "      <td>0</td>\n",
              "      <td>0</td>\n",
              "      <td>0</td>\n",
              "      <td>0</td>\n",
              "      <td>0</td>\n",
              "      <td>0</td>\n",
              "      <td>0</td>\n",
              "      <td>0</td>\n",
              "      <td>0</td>\n",
              "      <td>0</td>\n",
              "      <td>0</td>\n",
              "      <td>0</td>\n",
              "      <td>0</td>\n",
              "      <td>0</td>\n",
              "      <td>0</td>\n",
              "      <td>0</td>\n",
              "      <td>0</td>\n",
              "      <td>0</td>\n",
              "      <td>0</td>\n",
              "      <td>0</td>\n",
              "      <td>0</td>\n",
              "      <td>0</td>\n",
              "      <td>0</td>\n",
              "      <td>0</td>\n",
              "      <td>0</td>\n",
              "      <td>0</td>\n",
              "      <td>0</td>\n",
              "      <td>0</td>\n",
              "      <td>0</td>\n",
              "      <td>0</td>\n",
              "      <td>0</td>\n",
              "      <td>0</td>\n",
              "      <td>0</td>\n",
              "      <td>0</td>\n",
              "      <td>0</td>\n",
              "      <td>0</td>\n",
              "      <td>0</td>\n",
              "      <td>0</td>\n",
              "      <td>1</td>\n",
              "      <td>0</td>\n",
              "      <td>0</td>\n",
              "      <td>0</td>\n",
              "      <td>0</td>\n",
              "      <td>2</td>\n",
              "      <td>2</td>\n",
              "      <td>0</td>\n",
              "      <td>2</td>\n",
              "      <td>3</td>\n",
              "      <td>1</td>\n",
              "      <td>0</td>\n",
              "    </tr>\n",
              "    <tr>\n",
              "      <th>1</th>\n",
              "      <td>0</td>\n",
              "      <td>0</td>\n",
              "      <td>1</td>\n",
              "      <td>0</td>\n",
              "      <td>0</td>\n",
              "      <td>0</td>\n",
              "      <td>0</td>\n",
              "      <td>0</td>\n",
              "      <td>0</td>\n",
              "      <td>0</td>\n",
              "      <td>0</td>\n",
              "      <td>0</td>\n",
              "      <td>0</td>\n",
              "      <td>0</td>\n",
              "      <td>0</td>\n",
              "      <td>0</td>\n",
              "      <td>0</td>\n",
              "      <td>0</td>\n",
              "      <td>0</td>\n",
              "      <td>0</td>\n",
              "      <td>0</td>\n",
              "      <td>0</td>\n",
              "      <td>0</td>\n",
              "      <td>0</td>\n",
              "      <td>0</td>\n",
              "      <td>0</td>\n",
              "      <td>0</td>\n",
              "      <td>0</td>\n",
              "      <td>0</td>\n",
              "      <td>0</td>\n",
              "      <td>0</td>\n",
              "      <td>0</td>\n",
              "      <td>0</td>\n",
              "      <td>0</td>\n",
              "      <td>0</td>\n",
              "      <td>0</td>\n",
              "      <td>0</td>\n",
              "      <td>0</td>\n",
              "      <td>0</td>\n",
              "      <td>0</td>\n",
              "      <td>0</td>\n",
              "      <td>0</td>\n",
              "      <td>0</td>\n",
              "      <td>0</td>\n",
              "      <td>0</td>\n",
              "      <td>0</td>\n",
              "      <td>0</td>\n",
              "      <td>0</td>\n",
              "      <td>0</td>\n",
              "      <td>0</td>\n",
              "      <td>0</td>\n",
              "      <td>0</td>\n",
              "      <td>0</td>\n",
              "      <td>0</td>\n",
              "      <td>0</td>\n",
              "      <td>0</td>\n",
              "      <td>1</td>\n",
              "      <td>0</td>\n",
              "      <td>0</td>\n",
              "      <td>0</td>\n",
              "      <td>1</td>\n",
              "      <td>2</td>\n",
              "      <td>2</td>\n",
              "      <td>0</td>\n",
              "      <td>2</td>\n",
              "      <td>3</td>\n",
              "      <td>1</td>\n",
              "      <td>0</td>\n",
              "    </tr>\n",
              "    <tr>\n",
              "      <th>2</th>\n",
              "      <td>1</td>\n",
              "      <td>1</td>\n",
              "      <td>1</td>\n",
              "      <td>0</td>\n",
              "      <td>0</td>\n",
              "      <td>0</td>\n",
              "      <td>0</td>\n",
              "      <td>0</td>\n",
              "      <td>0</td>\n",
              "      <td>0</td>\n",
              "      <td>0</td>\n",
              "      <td>0</td>\n",
              "      <td>0</td>\n",
              "      <td>0</td>\n",
              "      <td>0</td>\n",
              "      <td>0</td>\n",
              "      <td>0</td>\n",
              "      <td>0</td>\n",
              "      <td>0</td>\n",
              "      <td>0</td>\n",
              "      <td>0</td>\n",
              "      <td>0</td>\n",
              "      <td>0</td>\n",
              "      <td>0</td>\n",
              "      <td>0</td>\n",
              "      <td>0</td>\n",
              "      <td>0</td>\n",
              "      <td>0</td>\n",
              "      <td>0</td>\n",
              "      <td>0</td>\n",
              "      <td>0</td>\n",
              "      <td>0</td>\n",
              "      <td>0</td>\n",
              "      <td>0</td>\n",
              "      <td>0</td>\n",
              "      <td>0</td>\n",
              "      <td>0</td>\n",
              "      <td>0</td>\n",
              "      <td>0</td>\n",
              "      <td>0</td>\n",
              "      <td>0</td>\n",
              "      <td>0</td>\n",
              "      <td>0</td>\n",
              "      <td>0</td>\n",
              "      <td>0</td>\n",
              "      <td>0</td>\n",
              "      <td>0</td>\n",
              "      <td>0</td>\n",
              "      <td>0</td>\n",
              "      <td>0</td>\n",
              "      <td>0</td>\n",
              "      <td>0</td>\n",
              "      <td>0</td>\n",
              "      <td>0</td>\n",
              "      <td>0</td>\n",
              "      <td>0</td>\n",
              "      <td>1</td>\n",
              "      <td>0</td>\n",
              "      <td>0</td>\n",
              "      <td>0</td>\n",
              "      <td>0</td>\n",
              "      <td>2</td>\n",
              "      <td>0</td>\n",
              "      <td>0</td>\n",
              "      <td>2</td>\n",
              "      <td>0</td>\n",
              "      <td>1</td>\n",
              "      <td>2</td>\n",
              "    </tr>\n",
              "    <tr>\n",
              "      <th>3</th>\n",
              "      <td>1</td>\n",
              "      <td>1</td>\n",
              "      <td>0</td>\n",
              "      <td>0</td>\n",
              "      <td>0</td>\n",
              "      <td>0</td>\n",
              "      <td>0</td>\n",
              "      <td>0</td>\n",
              "      <td>0</td>\n",
              "      <td>0</td>\n",
              "      <td>0</td>\n",
              "      <td>0</td>\n",
              "      <td>0</td>\n",
              "      <td>0</td>\n",
              "      <td>0</td>\n",
              "      <td>0</td>\n",
              "      <td>0</td>\n",
              "      <td>0</td>\n",
              "      <td>0</td>\n",
              "      <td>0</td>\n",
              "      <td>0</td>\n",
              "      <td>0</td>\n",
              "      <td>0</td>\n",
              "      <td>0</td>\n",
              "      <td>0</td>\n",
              "      <td>0</td>\n",
              "      <td>0</td>\n",
              "      <td>0</td>\n",
              "      <td>0</td>\n",
              "      <td>0</td>\n",
              "      <td>0</td>\n",
              "      <td>0</td>\n",
              "      <td>0</td>\n",
              "      <td>0</td>\n",
              "      <td>0</td>\n",
              "      <td>0</td>\n",
              "      <td>0</td>\n",
              "      <td>0</td>\n",
              "      <td>0</td>\n",
              "      <td>0</td>\n",
              "      <td>0</td>\n",
              "      <td>0</td>\n",
              "      <td>0</td>\n",
              "      <td>0</td>\n",
              "      <td>0</td>\n",
              "      <td>0</td>\n",
              "      <td>0</td>\n",
              "      <td>0</td>\n",
              "      <td>0</td>\n",
              "      <td>0</td>\n",
              "      <td>0</td>\n",
              "      <td>0</td>\n",
              "      <td>0</td>\n",
              "      <td>0</td>\n",
              "      <td>0</td>\n",
              "      <td>0</td>\n",
              "      <td>1</td>\n",
              "      <td>0</td>\n",
              "      <td>0</td>\n",
              "      <td>0</td>\n",
              "      <td>0</td>\n",
              "      <td>2</td>\n",
              "      <td>0</td>\n",
              "      <td>0</td>\n",
              "      <td>2</td>\n",
              "      <td>0</td>\n",
              "      <td>1</td>\n",
              "      <td>3</td>\n",
              "    </tr>\n",
              "    <tr>\n",
              "      <th>4</th>\n",
              "      <td>1</td>\n",
              "      <td>0</td>\n",
              "      <td>1</td>\n",
              "      <td>0</td>\n",
              "      <td>0</td>\n",
              "      <td>0</td>\n",
              "      <td>0</td>\n",
              "      <td>0</td>\n",
              "      <td>0</td>\n",
              "      <td>0</td>\n",
              "      <td>0</td>\n",
              "      <td>0</td>\n",
              "      <td>0</td>\n",
              "      <td>0</td>\n",
              "      <td>0</td>\n",
              "      <td>0</td>\n",
              "      <td>0</td>\n",
              "      <td>0</td>\n",
              "      <td>0</td>\n",
              "      <td>0</td>\n",
              "      <td>0</td>\n",
              "      <td>0</td>\n",
              "      <td>0</td>\n",
              "      <td>0</td>\n",
              "      <td>0</td>\n",
              "      <td>0</td>\n",
              "      <td>0</td>\n",
              "      <td>0</td>\n",
              "      <td>0</td>\n",
              "      <td>0</td>\n",
              "      <td>0</td>\n",
              "      <td>0</td>\n",
              "      <td>0</td>\n",
              "      <td>0</td>\n",
              "      <td>0</td>\n",
              "      <td>0</td>\n",
              "      <td>0</td>\n",
              "      <td>0</td>\n",
              "      <td>0</td>\n",
              "      <td>0</td>\n",
              "      <td>0</td>\n",
              "      <td>0</td>\n",
              "      <td>0</td>\n",
              "      <td>0</td>\n",
              "      <td>0</td>\n",
              "      <td>0</td>\n",
              "      <td>0</td>\n",
              "      <td>0</td>\n",
              "      <td>0</td>\n",
              "      <td>0</td>\n",
              "      <td>0</td>\n",
              "      <td>0</td>\n",
              "      <td>0</td>\n",
              "      <td>0</td>\n",
              "      <td>0</td>\n",
              "      <td>0</td>\n",
              "      <td>1</td>\n",
              "      <td>0</td>\n",
              "      <td>0</td>\n",
              "      <td>0</td>\n",
              "      <td>0</td>\n",
              "      <td>2</td>\n",
              "      <td>2</td>\n",
              "      <td>0</td>\n",
              "      <td>2</td>\n",
              "      <td>3</td>\n",
              "      <td>0</td>\n",
              "      <td>0</td>\n",
              "    </tr>\n",
              "  </tbody>\n",
              "</table>\n",
              "</div>"
            ],
            "text/plain": [
              "   age_gt_60  airBoneGap  boneAbnormal  ...  o_ar_u()  speech  tymp\n",
              "0          0           0             1  ...         3       1     0\n",
              "1          0           0             1  ...         3       1     0\n",
              "2          1           1             1  ...         0       1     2\n",
              "3          1           1             0  ...         0       1     3\n",
              "4          1           0             1  ...         3       0     0\n",
              "\n",
              "[5 rows x 68 columns]"
            ]
          },
          "metadata": {
            "tags": []
          },
          "execution_count": 50
        }
      ]
    },
    {
      "cell_type": "code",
      "metadata": {
        "id": "B8Ttcb1ByY_c",
        "colab_type": "code",
        "colab": {
          "base_uri": "https://localhost:8080/",
          "height": 844
        },
        "outputId": "c8205019-5dc4-4c54-af85-e717d2c2b260"
      },
      "source": [
        "xtest = dftest.drop('class',axis = 1)\n",
        "print(xtest.columns)\n",
        "ytest = dftest.loc[:,'class']\n",
        "print(ytest)"
      ],
      "execution_count": 51,
      "outputs": [
        {
          "output_type": "stream",
          "text": [
            "Index(['age_gt_60', 'airBoneGap', 'boneAbnormal', 'history_buzzing',\n",
            "       'history_dizziness', 'history_fluctuating', 'history_fullness',\n",
            "       'history_heredity', 'history_nausea', 'history_noise',\n",
            "       'history_recruitment', 'history_ringing', 'history_roaring',\n",
            "       'history_vomiting', 'late_wave_poor', 'm_at_2k', 'm_cond_lt_1k',\n",
            "       'm_gt_1k', 'm_m_gt_2k', 'm_m_sn', 'm_m_sn_gt_1k', 'm_m_sn_gt_2k',\n",
            "       'm_m_sn_gt_500', 'm_p_sn_gt_2k', 'm_s_gt_500', 'm_s_sn', 'm_s_sn_gt_1k',\n",
            "       'm_s_sn_gt_2k', 'm_s_sn_gt_3k', 'm_s_sn_gt_4k', 'm_sn_2_3k',\n",
            "       'm_sn_gt_1k', 'm_sn_gt_2k', 'm_sn_gt_3k', 'm_sn_gt_4k', 'm_sn_gt_500',\n",
            "       'm_sn_gt_6k', 'm_sn_lt_1k', 'm_sn_lt_2k', 'm_sn_lt_3k',\n",
            "       'middle_wave_poor', 'mod_gt_4k', 'mod_mixed', 'mod_s_mixed',\n",
            "       'mod_s_sn_gt_500', 'mod_sn', 'mod_sn_gt_1k', 'mod_sn_gt_2k',\n",
            "       'mod_sn_gt_3k', 'mod_sn_gt_4k', 'mod_sn_gt_500', 'notch_4k',\n",
            "       'notch_at_4k', 's_sn_gt_1k', 's_sn_gt_2k', 's_sn_gt_4k',\n",
            "       'viith_nerve_signs', 'wave_V_delayed', 'waveform_ItoV_prolonged', 'air',\n",
            "       'ar_c', 'ar_u', 'bone', 'o_ar_c()', 'o_ar_u()', 'speech', 'tymp',\n",
            "       'static_normal'],\n",
            "      dtype='object')\n",
            "0     0\n",
            "1     0\n",
            "2     0\n",
            "3     0\n",
            "4     0\n",
            "5     0\n",
            "6     0\n",
            "7     0\n",
            "8     0\n",
            "9     0\n",
            "10    1\n",
            "11    1\n",
            "12    0\n",
            "13    0\n",
            "14    0\n",
            "15    0\n",
            "16    2\n",
            "17    1\n",
            "18    0\n",
            "19    0\n",
            "20    0\n",
            "21    1\n",
            "22    2\n",
            "23    1\n",
            "24    0\n",
            "25    0\n",
            "Name: class, dtype: int64\n"
          ],
          "name": "stdout"
        }
      ]
    },
    {
      "cell_type": "code",
      "metadata": {
        "id": "8Ig7mZ3jk4qq",
        "colab_type": "code",
        "colab": {
          "base_uri": "https://localhost:8080/",
          "height": 340
        },
        "outputId": "34701313-369b-42e1-89bb-3b2238a1e31b"
      },
      "source": [
        "from sklearn.utils import resample\n",
        "from imblearn.over_sampling import RandomOverSampler\n",
        "x = trdf.drop(['class'],axis=1)\n",
        "y = trdf['class']\n",
        "rdsmple = RandomOverSampler()\n",
        "x_sampled,y_sampled  = rdsmple.fit_sample(x,y)\n",
        "x_sampled = pd.DataFrame(data = x_sampled, columns = x.columns)\n",
        "sns.countplot(y_sampled)       \n",
        "    "
      ],
      "execution_count": 144,
      "outputs": [
        {
          "output_type": "stream",
          "text": [
            "/usr/local/lib/python3.6/dist-packages/sklearn/utils/deprecation.py:87: FutureWarning: Function safe_indexing is deprecated; safe_indexing is deprecated in version 0.22 and will be removed in version 0.24.\n",
            "  warnings.warn(msg, category=FutureWarning)\n"
          ],
          "name": "stderr"
        },
        {
          "output_type": "execute_result",
          "data": {
            "text/plain": [
              "<matplotlib.axes._subplots.AxesSubplot at 0x7f401e38ec50>"
            ]
          },
          "metadata": {
            "tags": []
          },
          "execution_count": 144
        },
        {
          "output_type": "display_data",
          "data": {
            "image/png": "[encoded data removed]",
            "text/plain": [
              "<Figure size 432x288 with 1 Axes>"
            ]
          },
          "metadata": {
            "tags": [],
            "needs_background": "light"
          }
        }
      ]
    },
    {
      "cell_type": "code",
      "metadata": {
        "id": "9-JXzegvLHzD",
        "colab_type": "code",
        "colab": {}
      },
      "source": [
        "from sklearn.model_selection import train_test_split\n",
        "atr,ats,btr,bts = train_test_split(x_sampled,y_sampled,test_size = 26,random_state = 42 )"
      ],
      "execution_count": 145,
      "outputs": []
    },
    {
      "cell_type": "code",
      "metadata": {
        "id": "OUq8KFsYgPyZ",
        "colab_type": "code",
        "colab": {
          "base_uri": "https://localhost:8080/",
          "height": 90
        },
        "outputId": "407eca80-5872-4bb5-e43a-b9efd79caf4b"
      },
      "source": [
        "print(atr.shape)\n",
        "print(ats.shape)\n",
        "print(btr.shape)\n",
        "print(bts.shape)"
      ],
      "execution_count": 146,
      "outputs": [
        {
          "output_type": "stream",
          "text": [
            "(388, 68)\n",
            "(26, 68)\n",
            "(388,)\n",
            "(26,)\n"
          ],
          "name": "stdout"
        }
      ]
    },
    {
      "cell_type": "code",
      "metadata": {
        "id": "LmBvRZr6hJKQ",
        "colab_type": "code",
        "colab": {
          "base_uri": "https://localhost:8080/",
          "height": 1000
        },
        "outputId": "9caaa096-c900-4e51-fe4a-5072d09e3f4d"
      },
      "source": [
        "from sklearn.ensemble import RandomForestClassifier\n",
        "from sklearn.feature_selection import SelectFromModel\n",
        "from sklearn.metrics import accuracy_score\n",
        "# Create a random forest classifier\n",
        "clftr = RandomForestClassifier(n_estimators=10000, random_state=0, n_jobs=-1,class_weight=\"balanced\")\n",
        "\n",
        "# Train the classifier\n",
        "clftr.fit(atr,btr)\n",
        "\n",
        "# Print the name and gini importance of each feature\n",
        "for feature in zip(atr.columns, clftr.feature_importances_):\n",
        "    print(feature)"
      ],
      "execution_count": 147,
      "outputs": [
        {
          "output_type": "stream",
          "text": [
            "('age_gt_60', 0.030090842669823457)\n",
            "('airBoneGap', 0.054249882537990825)\n",
            "('boneAbnormal', 0.04657637866301364)\n",
            "('history_buzzing', 0.0003730391489654694)\n",
            "('history_dizziness', 0.014204667717647213)\n",
            "('history_fluctuating', 0.03773026551536401)\n",
            "('history_fullness', 0.0003541082192727501)\n",
            "('history_heredity', 0.0013890588500648617)\n",
            "('history_nausea', 0.009989575136766867)\n",
            "('history_noise', 0.02737957249089848)\n",
            "('history_recruitment', 0.0037600335057782915)\n",
            "('history_ringing', 0.012609093264882796)\n",
            "('history_roaring', 0.007725852121435037)\n",
            "('history_vomiting', 0.005277091717899922)\n",
            "('late_wave_poor', 0.004031309158788418)\n",
            "('m_at_2k', 0.0009505063398878821)\n",
            "('m_cond_lt_1k', 0.0)\n",
            "('m_gt_1k', 0.0015066440041695682)\n",
            "('m_m_gt_2k', 0.0018380405685893815)\n",
            "('m_m_sn', 0.0019609945263936676)\n",
            "('m_m_sn_gt_1k', 0.0020893656798162794)\n",
            "('m_m_sn_gt_2k', 0.0017650106681829693)\n",
            "('m_m_sn_gt_500', 0.0007712366590003752)\n",
            "('m_p_sn_gt_2k', 0.0)\n",
            "('m_s_gt_500', 9.396702401761878e-05)\n",
            "('m_s_sn', 6.353389562766416e-05)\n",
            "('m_s_sn_gt_1k', 0.0)\n",
            "('m_s_sn_gt_2k', 0.002976560874095225)\n",
            "('m_s_sn_gt_3k', 0.00014285165359279658)\n",
            "('m_s_sn_gt_4k', 0.0006704531773845326)\n",
            "('m_sn_2_3k', 0.002666254717089998)\n",
            "('m_sn_gt_1k', 0.006831560935939515)\n",
            "('m_sn_gt_2k', 0.01709698228272823)\n",
            "('m_sn_gt_3k', 0.0023434686571593005)\n",
            "('m_sn_gt_4k', 0.009481016220279354)\n",
            "('m_sn_gt_500', 0.0010304742398713467)\n",
            "('m_sn_gt_6k', 0.0)\n",
            "('m_sn_lt_1k', 0.01461480264374111)\n",
            "('m_sn_lt_2k', 0.001041400865206259)\n",
            "('m_sn_lt_3k', 0.0010502150345397864)\n",
            "('middle_wave_poor', 0.004061114723844194)\n",
            "('mod_gt_4k', 0.006540588358374931)\n",
            "('mod_mixed', 0.0)\n",
            "('mod_s_mixed', 0.0)\n",
            "('mod_s_sn_gt_500', 5.113831106732491e-05)\n",
            "('mod_sn', 0.0)\n",
            "('mod_sn_gt_1k', 0.0)\n",
            "('mod_sn_gt_2k', 0.0051753155923980375)\n",
            "('mod_sn_gt_3k', 0.009430160930757917)\n",
            "('mod_sn_gt_4k', 0.006276378137704121)\n",
            "('mod_sn_gt_500', 0.0022825232569168136)\n",
            "('notch_4k', 0.026730315518109952)\n",
            "('notch_at_4k', 0.00900462235306479)\n",
            "('s_sn_gt_1k', 0.0002283231043272158)\n",
            "('s_sn_gt_2k', 0.003384324596817323)\n",
            "('s_sn_gt_4k', 0.00037366875570898737)\n",
            "('static_normal', 0.009070202706369247)\n",
            "('viith_nerve_signs', 0.0011476133492379732)\n",
            "('wave_V_delayed', 0.0007715577871000428)\n",
            "('waveform_ItoV_prolonged', 0.002127714488184125)\n",
            "('air', 0.07676951268025724)\n",
            "('ar_c', 0.03448719496609119)\n",
            "('ar_u', 0.08635858083169488)\n",
            "('bone', 0.067091840036004)\n",
            "('o_ar_c()', 0.04745546940925036)\n",
            "('o_ar_u()', 0.03518196900532715)\n",
            "('speech', 0.04089412216627866)\n",
            "('tymp', 0.19837963754920868)\n"
          ],
          "name": "stdout"
        }
      ]
    },
    {
      "cell_type": "code",
      "metadata": {
        "id": "L5fcba7qhhA2",
        "colab_type": "code",
        "colab": {
          "base_uri": "https://localhost:8080/",
          "height": 329
        },
        "outputId": "737eeab1-74e6-44cb-ba9d-ce09a59f332f"
      },
      "source": [
        "  # Create a selector object that will use the random forest classifier to identify\n",
        "# features that have an importance of more than 0.15\n",
        "sfmtr = SelectFromModel(clftr, threshold=0.01)\n",
        "sfmtr\n",
        "# Train the selector\n",
        "sfmtr.fit(atr,btr)"
      ],
      "execution_count": 148,
      "outputs": [
        {
          "output_type": "execute_result",
          "data": {
            "text/plain": [
              "SelectFromModel(estimator=RandomForestClassifier(bootstrap=True, ccp_alpha=0.0,\n",
              "                                                 class_weight='balanced',\n",
              "                                                 criterion='gini',\n",
              "                                                 max_depth=None,\n",
              "                                                 max_features='auto',\n",
              "                                                 max_leaf_nodes=None,\n",
              "                                                 max_samples=None,\n",
              "                                                 min_impurity_decrease=0.0,\n",
              "                                                 min_impurity_split=None,\n",
              "                                                 min_samples_leaf=1,\n",
              "                                                 min_samples_split=2,\n",
              "                                                 min_weight_fraction_leaf=0.0,\n",
              "                                                 n_estimators=10000, n_jobs=-1,\n",
              "                                                 oob_score=False,\n",
              "                                                 random_state=0, verbose=0,\n",
              "                                                 warm_start=False),\n",
              "                max_features=None, norm_order=1, prefit=False, threshold=0.01)"
            ]
          },
          "metadata": {
            "tags": []
          },
          "execution_count": 148
        }
      ]
    },
    {
      "cell_type": "code",
      "metadata": {
        "id": "9X1CeGsJhrUE",
        "colab_type": "code",
        "colab": {
          "base_uri": "https://localhost:8080/",
          "height": 348
        },
        "outputId": "65e92a3d-dc60-4283-961c-f2964f2348d1"
      },
      "source": [
        "feat_labels = atr.columns\n",
        "#print(feat_labels)\n",
        "for feature_list_index in sfmtr.get_support(indices=True):\n",
        "    print(feat_labels[feature_list_index])"
      ],
      "execution_count": 149,
      "outputs": [
        {
          "output_type": "stream",
          "text": [
            "age_gt_60\n",
            "airBoneGap\n",
            "boneAbnormal\n",
            "history_dizziness\n",
            "history_fluctuating\n",
            "history_noise\n",
            "history_ringing\n",
            "m_sn_gt_2k\n",
            "m_sn_lt_1k\n",
            "notch_4k\n",
            "air\n",
            "ar_c\n",
            "ar_u\n",
            "bone\n",
            "o_ar_c()\n",
            "o_ar_u()\n",
            "speech\n",
            "tymp\n"
          ],
          "name": "stdout"
        }
      ]
    },
    {
      "cell_type": "code",
      "metadata": {
        "id": "ahLHQeyliU9S",
        "colab_type": "code",
        "colab": {
          "base_uri": "https://localhost:8080/",
          "height": 54
        },
        "outputId": "109c75e3-57ac-43ba-dce2-b939c53a5b4e"
      },
      "source": [
        "#m_newtr,m_newts,n_newtr,n_newts\n",
        "#xtrain,xtest,ytrain,ytest\n",
        "X_important_traintr = sfmtr.transform(atr)\n",
        "X_important_testtr = sfm.transform(ats)\n",
        "print(X_important_traintr.shape)\n",
        "print(atr.shape)\n"
      ],
      "execution_count": 150,
      "outputs": [
        {
          "output_type": "stream",
          "text": [
            "(388, 18)\n",
            "(388, 68)\n"
          ],
          "name": "stdout"
        }
      ]
    },
    {
      "cell_type": "code",
      "metadata": {
        "id": "holy1NyRio6F",
        "colab_type": "code",
        "colab": {
          "base_uri": "https://localhost:8080/",
          "height": 164
        },
        "outputId": "293fc9cd-51de-4d0e-b14f-96a50ddd426d"
      },
      "source": [
        "# Create a new random forest classifier for the most important features\n",
        "clf_importanttr = RandomForestClassifier(n_estimators=10000, random_state=0, n_jobs=-1,class_weight=\"balanced\")\n",
        "\n",
        "# Train the new classifier on the new dataset containing the most important features\n",
        "clf_importanttr.fit(X_important_traintr, btr)"
      ],
      "execution_count": 151,
      "outputs": [
        {
          "output_type": "execute_result",
          "data": {
            "text/plain": [
              "RandomForestClassifier(bootstrap=True, ccp_alpha=0.0, class_weight='balanced',\n",
              "                       criterion='gini', max_depth=None, max_features='auto',\n",
              "                       max_leaf_nodes=None, max_samples=None,\n",
              "                       min_impurity_decrease=0.0, min_impurity_split=None,\n",
              "                       min_samples_leaf=1, min_samples_split=2,\n",
              "                       min_weight_fraction_leaf=0.0, n_estimators=10000,\n",
              "                       n_jobs=-1, oob_score=False, random_state=0, verbose=0,\n",
              "                       warm_start=False)"
            ]
          },
          "metadata": {
            "tags": []
          },
          "execution_count": 151
        }
      ]
    },
    {
      "cell_type": "code",
      "metadata": {
        "id": "XzX31OH3i4jx",
        "colab_type": "code",
        "colab": {
          "base_uri": "https://localhost:8080/",
          "height": 550
        },
        "outputId": "87bce5bb-ed73-46c9-c2a7-96e92752ef11"
      },
      "source": [
        "# Apply The Full Featured Classifier To The Test Data\n",
        "y_predtr = clftr.predict(ats)\n",
        "print(y_predtr)\n",
        "print(ytest)\n",
        "# View The Accuracy Of Our Full Feature (4 Features) Model\n",
        "accuracy_score(ytest, y_predtr)"
      ],
      "execution_count": 152,
      "outputs": [
        {
          "output_type": "stream",
          "text": [
            "[2 2 2 2 2 2 1 2 2 0 0 0 2 0 0 2 0 1 2 2 0 0 2 0 2 2]\n",
            "0     0\n",
            "1     0\n",
            "2     0\n",
            "3     0\n",
            "4     0\n",
            "5     0\n",
            "6     0\n",
            "7     0\n",
            "8     0\n",
            "9     0\n",
            "10    1\n",
            "11    1\n",
            "12    0\n",
            "13    0\n",
            "14    0\n",
            "15    0\n",
            "16    2\n",
            "17    1\n",
            "18    0\n",
            "19    0\n",
            "20    0\n",
            "21    1\n",
            "22    2\n",
            "23    1\n",
            "24    0\n",
            "25    0\n",
            "Name: class, dtype: int64\n"
          ],
          "name": "stdout"
        },
        {
          "output_type": "execute_result",
          "data": {
            "text/plain": [
              "0.23076923076923078"
            ]
          },
          "metadata": {
            "tags": []
          },
          "execution_count": 152
        }
      ]
    },
    {
      "cell_type": "code",
      "metadata": {
        "id": "KgCUbDKhjLA-",
        "colab_type": "code",
        "colab": {
          "base_uri": "https://localhost:8080/",
          "height": 219
        },
        "outputId": "818b9208-da73-4bdd-e6e1-5d0e68478aff"
      },
      "source": [
        "from sklearn.model_selection import RandomizedSearchCV\n",
        "n_estimators = [int(x) for x in np.linspace(start = 100, stop = 1000, num = 10)]\n",
        "max_features = ['log2', 'sqrt']\n",
        "max_depth = [int(x) for x in np.linspace(start = 1, stop = 20, num = 15)]\n",
        "min_samples_split = [int(x) for x in np.linspace(start = 2, stop = 50, num = 10)]\n",
        "min_samples_leaf = [int(x) for x in np.linspace(start = 2, stop = 50, num = 10)]\n",
        "bootstrap = [True, False]\n",
        "param_dist = {'n_estimators': n_estimators,\n",
        "               'max_features': max_features,\n",
        "               'max_depth': max_depth,\n",
        "               'min_samples_split': min_samples_split,\n",
        "               'min_samples_leaf': min_samples_leaf,\n",
        "               'bootstrap': bootstrap}\n",
        "rstr = RandomizedSearchCV(clf_importanttr, \n",
        "                        param_dist, \n",
        "                        n_iter = 100, \n",
        "                        cv = 3, \n",
        "                        verbose = 1, \n",
        "                        n_jobs=-1, \n",
        "                        random_state=0)\n",
        "rstr.fit(X_important_traintr, btr)\n",
        "rstr.best_params_"
      ],
      "execution_count": 153,
      "outputs": [
        {
          "output_type": "stream",
          "text": [
            "Fitting 3 folds for each of 100 candidates, totalling 300 fits\n"
          ],
          "name": "stdout"
        },
        {
          "output_type": "stream",
          "text": [
            "[Parallel(n_jobs=-1)]: Using backend LokyBackend with 2 concurrent workers.\n",
            "[Parallel(n_jobs=-1)]: Done  46 tasks      | elapsed:   25.6s\n",
            "[Parallel(n_jobs=-1)]: Done 196 tasks      | elapsed:  2.1min\n",
            "[Parallel(n_jobs=-1)]: Done 300 out of 300 | elapsed:  3.0min finished\n"
          ],
          "name": "stderr"
        },
        {
          "output_type": "execute_result",
          "data": {
            "text/plain": [
              "{'bootstrap': False,\n",
              " 'max_depth': 17,\n",
              " 'max_features': 'sqrt',\n",
              " 'min_samples_leaf': 2,\n",
              " 'min_samples_split': 12,\n",
              " 'n_estimators': 700}"
            ]
          },
          "metadata": {
            "tags": []
          },
          "execution_count": 153
        }
      ]
    },
    {
      "cell_type": "code",
      "metadata": {
        "id": "iBpORmnxjZDA",
        "colab_type": "code",
        "colab": {
          "base_uri": "https://localhost:8080/",
          "height": 182
        },
        "outputId": "4de8b4dd-4501-476f-e337-b45578b907d9"
      },
      "source": [
        "from sklearn.model_selection import GridSearchCV\n",
        "\n",
        "grid_param = {\n",
        "    \"n_estimators\" : [90,100,115,130],\n",
        "    'max_depth' : range(2,20,3),\n",
        "    'min_samples_leaf' : range(1,5,1),\n",
        "    'min_samples_split': range(2,20,3),\n",
        "     'max_features' : ['auto','log2'],\n",
        "    'bootstrap' : ['True','False']\n",
        "}\n",
        "\n",
        "gstr = GridSearchCV(clf_important, grid_param, cv = 3, verbose = 1, n_jobs=-1)\n",
        "gstr.fit(X_important_traintr, btr)\n",
        "rfc2tr = gs.best_estimator_\n",
        "gstr.best_params_"
      ],
      "execution_count": null,
      "outputs": [
        {
          "output_type": "stream",
          "text": [
            "Fitting 3 folds for each of 2304 candidates, totalling 6912 fits\n"
          ],
          "name": "stdout"
        },
        {
          "output_type": "stream",
          "text": [
            "[Parallel(n_jobs=-1)]: Using backend LokyBackend with 2 concurrent workers.\n",
            "[Parallel(n_jobs=-1)]: Done  46 tasks      | elapsed:    9.0s\n",
            "[Parallel(n_jobs=-1)]: Done 196 tasks      | elapsed:   37.9s\n",
            "[Parallel(n_jobs=-1)]: Done 446 tasks      | elapsed:  1.4min\n",
            "[Parallel(n_jobs=-1)]: Done 796 tasks      | elapsed:  2.6min\n",
            "[Parallel(n_jobs=-1)]: Done 1246 tasks      | elapsed:  4.0min\n",
            "[Parallel(n_jobs=-1)]: Done 1796 tasks      | elapsed:  5.8min\n",
            "[Parallel(n_jobs=-1)]: Done 2446 tasks      | elapsed:  8.0min\n"
          ],
          "name": "stderr"
        }
      ]
    },
    {
      "cell_type": "code",
      "metadata": {
        "id": "FYWVZhKDjw9S",
        "colab_type": "code",
        "colab": {}
      },
      "source": [
        "y_pred_rftr = clf.predict(xtest)\n",
        "# Apply The important Featured Classifier To The Test Data\n",
        "y_important_predtr = clf_importanttr.predict(X_important_testtr)\n",
        "y_pred_gstr = gstr.best_estimator_.predict(X_important_testtr)\n",
        "\n",
        "tstpredrftr = accuracy_score(ytest,y_pred_rftr)\n",
        "tstpredpcatr = accuracy_score(ytest,y_important_predtr)\n",
        "tstpredgstr = accuracy_score(ytest,y_pred_gstr)\n",
        "print(tstpredrftr)\n",
        "print(tstpredpcatr)\n",
        "print(tstpredgstr)\n"
      ],
      "execution_count": null,
      "outputs": []
    },
    {
      "cell_type": "code",
      "metadata": {
        "id": "isIEUbCCy1c7",
        "colab_type": "code",
        "colab": {
          "base_uri": "https://localhost:8080/",
          "height": 1000
        },
        "outputId": "71896240-9988-4315-8500-4e2ea32d4109"
      },
      "source": [
        "from sklearn.ensemble import RandomForestClassifier\n",
        "from sklearn.feature_selection import SelectFromModel\n",
        "from sklearn.metrics import accuracy_score\n",
        "# Create a random forest classifier\n",
        "clf = RandomForestClassifier(n_estimators=10000, random_state=0, n_jobs=-1,class_weight=\"balanced\")\n",
        "\n",
        "# Train the classifier\n",
        "clf.fit(xtrain,ytrain)\n",
        "\n",
        "# Print the name and gini importance of each feature\n",
        "for feature in zip(xtrain.columns, clf.feature_importances_):\n",
        "    print(feature)"
      ],
      "execution_count": 72,
      "outputs": [
        {
          "output_type": "stream",
          "text": [
            "('age_gt_60', 0.0316854074694803)\n",
            "('airBoneGap', 0.05742201557335321)\n",
            "('boneAbnormal', 0.046096086225121506)\n",
            "('history_buzzing', 0.00032071084510182173)\n",
            "('history_dizziness', 0.015572212370092245)\n",
            "('history_fluctuating', 0.03521342054338195)\n",
            "('history_fullness', 0.000299049877445293)\n",
            "('history_heredity', 0.0010258022075695498)\n",
            "('history_nausea', 0.009483457833276058)\n",
            "('history_noise', 0.03094214896306105)\n",
            "('history_recruitment', 0.003944068468997845)\n",
            "('history_ringing', 0.010319525941494654)\n",
            "('history_roaring', 0.007366662054659494)\n",
            "('history_vomiting', 0.004626423648184971)\n",
            "('late_wave_poor', 0.003061616311327065)\n",
            "('m_at_2k', 0.0013451920215732714)\n",
            "('m_cond_lt_1k', 0.0)\n",
            "('m_gt_1k', 0.001959237306609978)\n",
            "('m_m_gt_2k', 0.001590985794998078)\n",
            "('m_m_sn', 0.0020112380903902836)\n",
            "('m_m_sn_gt_1k', 0.0016955824607251745)\n",
            "('m_m_sn_gt_2k', 0.001620727388813047)\n",
            "('m_m_sn_gt_500', 0.0005969832397856049)\n",
            "('m_p_sn_gt_2k', 0.0)\n",
            "('m_s_gt_500', 0.00010909845196847768)\n",
            "('m_s_sn', 5.735473586050631e-05)\n",
            "('m_s_sn_gt_1k', 0.0)\n",
            "('m_s_sn_gt_2k', 0.0033590121473508574)\n",
            "('m_s_sn_gt_3k', 0.00013875694570420751)\n",
            "('m_s_sn_gt_4k', 0.0005341968040350749)\n",
            "('m_sn_2_3k', 0.0022719918185109622)\n",
            "('m_sn_gt_1k', 0.005994352991857876)\n",
            "('m_sn_gt_2k', 0.016292886781133987)\n",
            "('m_sn_gt_3k', 0.0019429295402285836)\n",
            "('m_sn_gt_4k', 0.010457570702145093)\n",
            "('m_sn_gt_500', 0.0012046041782708683)\n",
            "('m_sn_gt_6k', 0.0)\n",
            "('m_sn_lt_1k', 0.010989412524703113)\n",
            "('m_sn_lt_2k', 0.0008336200927885506)\n",
            "('m_sn_lt_3k', 0.0007425292185434708)\n",
            "('middle_wave_poor', 0.003040971811587343)\n",
            "('mod_gt_4k', 0.0054277846402899866)\n",
            "('mod_mixed', 0.0)\n",
            "('mod_s_mixed', 0.0)\n",
            "('mod_s_sn_gt_500', 4.405006657362263e-05)\n",
            "('mod_sn', 0.0)\n",
            "('mod_sn_gt_1k', 8.163417362836457e-05)\n",
            "('mod_sn_gt_2k', 0.006243620022808724)\n",
            "('mod_sn_gt_3k', 0.009281103435034344)\n",
            "('mod_sn_gt_4k', 0.005444639313196731)\n",
            "('mod_sn_gt_500', 0.0019148013844265794)\n",
            "('notch_4k', 0.02294302321458917)\n",
            "('notch_at_4k', 0.008037751336293142)\n",
            "('s_sn_gt_1k', 0.00023089469921600805)\n",
            "('s_sn_gt_2k', 0.0025446665085276897)\n",
            "('s_sn_gt_4k', 0.0003074336232270078)\n",
            "('static_normal', 0.00939044400666718)\n",
            "('viith_nerve_signs', 0.0010075080541817728)\n",
            "('wave_V_delayed', 0.0005932612807311801)\n",
            "('waveform_ItoV_prolonged', 0.0017901930029887102)\n",
            "('air', 0.07957624662574572)\n",
            "('ar_c', 0.03751533985208263)\n",
            "('ar_u', 0.08874872398787531)\n",
            "('bone', 0.06473911294476496)\n",
            "('o_ar_c()', 0.05289525278684587)\n",
            "('o_ar_u()', 0.040604542561778915)\n",
            "('speech', 0.04778538695418354)\n",
            "('tymp', 0.18668474214421138)\n"
          ],
          "name": "stdout"
        }
      ]
    },
    {
      "cell_type": "code",
      "metadata": {
        "id": "Sms-beHz0Mmo",
        "colab_type": "code",
        "colab": {
          "base_uri": "https://localhost:8080/",
          "height": 329
        },
        "outputId": "78d54c8e-b0e4-4c26-9cb8-0192772b1a69"
      },
      "source": [
        "  # Create a selector object that will use the random forest classifier to identify\n",
        "# features that have an importance of more than 0.15\n",
        "sfm = SelectFromModel(clf, threshold=0.01)\n",
        "sfm\n",
        "# Train the selector\n",
        "sfm.fit(xtrain,ytrain)"
      ],
      "execution_count": 73,
      "outputs": [
        {
          "output_type": "execute_result",
          "data": {
            "text/plain": [
              "SelectFromModel(estimator=RandomForestClassifier(bootstrap=True, ccp_alpha=0.0,\n",
              "                                                 class_weight='balanced',\n",
              "                                                 criterion='gini',\n",
              "                                                 max_depth=None,\n",
              "                                                 max_features='auto',\n",
              "                                                 max_leaf_nodes=None,\n",
              "                                                 max_samples=None,\n",
              "                                                 min_impurity_decrease=0.0,\n",
              "                                                 min_impurity_split=None,\n",
              "                                                 min_samples_leaf=1,\n",
              "                                                 min_samples_split=2,\n",
              "                                                 min_weight_fraction_leaf=0.0,\n",
              "                                                 n_estimators=10000, n_jobs=-1,\n",
              "                                                 oob_score=False,\n",
              "                                                 random_state=0, verbose=0,\n",
              "                                                 warm_start=False),\n",
              "                max_features=None, norm_order=1, prefit=False, threshold=0.01)"
            ]
          },
          "metadata": {
            "tags": []
          },
          "execution_count": 73
        }
      ]
    },
    {
      "cell_type": "code",
      "metadata": {
        "id": "TmJDa6Uo2HOi",
        "colab_type": "code",
        "colab": {
          "base_uri": "https://localhost:8080/",
          "height": 366
        },
        "outputId": "865ee322-3742-4bb9-df4c-8da75b1560b3"
      },
      "source": [
        "feat_labels = xtrain.columns\n",
        "#print(feat_labels)\n",
        "for feature_list_index in sfm.get_support(indices=True):\n",
        "    print(feat_labels[feature_list_index])"
      ],
      "execution_count": 74,
      "outputs": [
        {
          "output_type": "stream",
          "text": [
            "age_gt_60\n",
            "airBoneGap\n",
            "boneAbnormal\n",
            "history_dizziness\n",
            "history_fluctuating\n",
            "history_noise\n",
            "history_ringing\n",
            "m_sn_gt_2k\n",
            "m_sn_gt_4k\n",
            "m_sn_lt_1k\n",
            "notch_4k\n",
            "air\n",
            "ar_c\n",
            "ar_u\n",
            "bone\n",
            "o_ar_c()\n",
            "o_ar_u()\n",
            "speech\n",
            "tymp\n"
          ],
          "name": "stdout"
        }
      ]
    },
    {
      "cell_type": "code",
      "metadata": {
        "id": "3A8yrK3D2Nps",
        "colab_type": "code",
        "colab": {
          "base_uri": "https://localhost:8080/",
          "height": 54
        },
        "outputId": "9af4c655-1e4f-40db-c8b9-3acb364e0a07"
      },
      "source": [
        "#m_newtr,m_newts,n_newtr,n_newts\n",
        "#xtrain,xtest,ytrain,ytest\n",
        "X_important_train = sfm.transform(xtrain)\n",
        "X_important_test = sfm.transform(xtest)\n",
        "print(X_important_train.shape)\n",
        "print(xtrain.shape)\n"
      ],
      "execution_count": 75,
      "outputs": [
        {
          "output_type": "stream",
          "text": [
            "(186, 19)\n",
            "(186, 68)\n"
          ],
          "name": "stdout"
        }
      ]
    },
    {
      "cell_type": "code",
      "metadata": {
        "id": "9kFqXZGc343M",
        "colab_type": "code",
        "colab": {
          "base_uri": "https://localhost:8080/",
          "height": 182
        },
        "outputId": "805a9c79-fe8f-4226-e94b-bbdbe914a4ab"
      },
      "source": [
        "ytest.describe()"
      ],
      "execution_count": 76,
      "outputs": [
        {
          "output_type": "execute_result",
          "data": {
            "text/plain": [
              "count    26.000000\n",
              "mean      0.346154\n",
              "std       0.628796\n",
              "min       0.000000\n",
              "25%       0.000000\n",
              "50%       0.000000\n",
              "75%       0.750000\n",
              "max       2.000000\n",
              "Name: class, dtype: float64"
            ]
          },
          "metadata": {
            "tags": []
          },
          "execution_count": 76
        }
      ]
    },
    {
      "cell_type": "code",
      "metadata": {
        "id": "ddoGTVcj2Rfd",
        "colab_type": "code",
        "colab": {
          "base_uri": "https://localhost:8080/",
          "height": 164
        },
        "outputId": "e5c0c9b1-48e4-4944-cc37-f1ae697e93e2"
      },
      "source": [
        "# Create a new random forest classifier for the most important features\n",
        "clf_important = RandomForestClassifier(n_estimators=10000, random_state=0, n_jobs=-1,class_weight=\"balanced\")\n",
        "\n",
        "# Train the new classifier on the new dataset containing the most important features\n",
        "clf_important.fit(X_important_train, ytrain)"
      ],
      "execution_count": 77,
      "outputs": [
        {
          "output_type": "execute_result",
          "data": {
            "text/plain": [
              "RandomForestClassifier(bootstrap=True, ccp_alpha=0.0, class_weight='balanced',\n",
              "                       criterion='gini', max_depth=None, max_features='auto',\n",
              "                       max_leaf_nodes=None, max_samples=None,\n",
              "                       min_impurity_decrease=0.0, min_impurity_split=None,\n",
              "                       min_samples_leaf=1, min_samples_split=2,\n",
              "                       min_weight_fraction_leaf=0.0, n_estimators=10000,\n",
              "                       n_jobs=-1, oob_score=False, random_state=0, verbose=0,\n",
              "                       warm_start=False)"
            ]
          },
          "metadata": {
            "tags": []
          },
          "execution_count": 77
        }
      ]
    },
    {
      "cell_type": "code",
      "metadata": {
        "id": "FmV3WB_f2dEx",
        "colab_type": "code",
        "colab": {
          "base_uri": "https://localhost:8080/",
          "height": 550
        },
        "outputId": "559ce122-2c89-4e4d-8000-4ec46527a88a"
      },
      "source": [
        "# Apply The Full Featured Classifier To The Test Data\n",
        "y_pred = clf.predict(xtest)\n",
        "print(y_pred)\n",
        "print(ytest)\n",
        "# View The Accuracy Of Our Full Feature (4 Features) Model\n",
        "accuracy_score(ytest, y_pred)"
      ],
      "execution_count": 78,
      "outputs": [
        {
          "output_type": "stream",
          "text": [
            "[0 0 0 0 0 0 0 0 0 0 0 0 0 0 0 0 0 0 0 0 0 0 0 0 0 0]\n",
            "0     0\n",
            "1     0\n",
            "2     0\n",
            "3     0\n",
            "4     0\n",
            "5     0\n",
            "6     0\n",
            "7     0\n",
            "8     0\n",
            "9     0\n",
            "10    1\n",
            "11    1\n",
            "12    0\n",
            "13    0\n",
            "14    0\n",
            "15    0\n",
            "16    2\n",
            "17    1\n",
            "18    0\n",
            "19    0\n",
            "20    0\n",
            "21    1\n",
            "22    2\n",
            "23    1\n",
            "24    0\n",
            "25    0\n",
            "Name: class, dtype: int64\n"
          ],
          "name": "stdout"
        },
        {
          "output_type": "execute_result",
          "data": {
            "text/plain": [
              "0.7307692307692307"
            ]
          },
          "metadata": {
            "tags": []
          },
          "execution_count": 78
        }
      ]
    },
    {
      "cell_type": "code",
      "metadata": {
        "id": "bm09vtLK3l6K",
        "colab_type": "code",
        "colab": {
          "base_uri": "https://localhost:8080/",
          "height": 72
        },
        "outputId": "769dccf1-9b85-4e72-e7c5-d8326ee4f1e8"
      },
      "source": [
        "# Apply The Full Featured Classifier To The Test Data\n",
        "y_important_pred = clf_important.predict(X_important_test)\n",
        "print(y_important_pred)\n",
        "print(y_pred)\n",
        "# View The Accuracy Of Our Limited Feature (20 Features) Model\n",
        "accuracy_score(ytest, y_important_pred)"
      ],
      "execution_count": 79,
      "outputs": [
        {
          "output_type": "stream",
          "text": [
            "[2 2 0 0 2 0 2 2 0 0 0 0 0 0 0 2 0 0 0 0 0 0 0 0 0 0]\n",
            "[0 0 0 0 0 0 0 0 0 0 0 0 0 0 0 0 0 0 0 0 0 0 0 0 0 0]\n"
          ],
          "name": "stdout"
        },
        {
          "output_type": "execute_result",
          "data": {
            "text/plain": [
              "0.5"
            ]
          },
          "metadata": {
            "tags": []
          },
          "execution_count": 79
        }
      ]
    },
    {
      "cell_type": "code",
      "metadata": {
        "id": "Q3qq8LYd45OA",
        "colab_type": "code",
        "colab": {
          "base_uri": "https://localhost:8080/",
          "height": 219
        },
        "outputId": "0aef25c2-1bef-4d9f-caee-263e9b62fd1b"
      },
      "source": [
        "from sklearn.model_selection import RandomizedSearchCV\n",
        "n_estimators = [int(x) for x in np.linspace(start = 100, stop = 1000, num = 10)]\n",
        "max_features = ['log2', 'sqrt']\n",
        "max_depth = [int(x) for x in np.linspace(start = 1, stop = 20, num = 15)]\n",
        "min_samples_split = [int(x) for x in np.linspace(start = 2, stop = 50, num = 10)]\n",
        "min_samples_leaf = [int(x) for x in np.linspace(start = 2, stop = 50, num = 10)]\n",
        "bootstrap = [True, False]\n",
        "param_dist = {'n_estimators': n_estimators,\n",
        "               'max_features': max_features,\n",
        "               'max_depth': max_depth,\n",
        "               'min_samples_split': min_samples_split,\n",
        "               'min_samples_leaf': min_samples_leaf,\n",
        "               'bootstrap': bootstrap}\n",
        "rs = RandomizedSearchCV(clf_important, \n",
        "                        param_dist, \n",
        "                        n_iter = 100, \n",
        "                        cv = 3, \n",
        "                        verbose = 1, \n",
        "                        n_jobs=-1, \n",
        "                        random_state=0)\n",
        "rs.fit(X_important_train, ytrain)\n",
        "rs.best_params_"
      ],
      "execution_count": 80,
      "outputs": [
        {
          "output_type": "stream",
          "text": [
            "Fitting 3 folds for each of 100 candidates, totalling 300 fits\n"
          ],
          "name": "stdout"
        },
        {
          "output_type": "stream",
          "text": [
            "[Parallel(n_jobs=-1)]: Using backend LokyBackend with 2 concurrent workers.\n",
            "[Parallel(n_jobs=-1)]: Done  46 tasks      | elapsed:   26.2s\n",
            "[Parallel(n_jobs=-1)]: Done 196 tasks      | elapsed:  2.0min\n",
            "[Parallel(n_jobs=-1)]: Done 300 out of 300 | elapsed:  3.0min finished\n"
          ],
          "name": "stderr"
        },
        {
          "output_type": "execute_result",
          "data": {
            "text/plain": [
              "{'bootstrap': True,\n",
              " 'max_depth': 14,\n",
              " 'max_features': 'log2',\n",
              " 'min_samples_leaf': 2,\n",
              " 'min_samples_split': 2,\n",
              " 'n_estimators': 700}"
            ]
          },
          "metadata": {
            "tags": []
          },
          "execution_count": 80
        }
      ]
    },
    {
      "cell_type": "code",
      "metadata": {
        "id": "8mujZUooI_gl",
        "colab_type": "code",
        "colab": {
          "base_uri": "https://localhost:8080/",
          "height": 458
        },
        "outputId": "2c1a30c6-0ee3-495e-c886-e400fda0fda6"
      },
      "source": [
        "from sklearn.model_selection import GridSearchCV\n",
        "\n",
        "grid_param = {\n",
        "    \"n_estimators\" : [90,100,115,130],\n",
        "    'max_depth' : range(2,10,1),\n",
        "    'min_samples_leaf' : range(1,5,1),\n",
        "    'min_samples_split': range(2,10,1),\n",
        "     'max_features' : ['auto','log2'],\n",
        "    'bootstrap' : ['True','False']\n",
        "}\n",
        "\n",
        "gs = GridSearchCV(clf_important, grid_param, cv = 3, verbose = 1, n_jobs=-1)\n",
        "gs.fit(X_important_train, ytrain)\n",
        "rfc2 = gs.best_estimator_\n",
        "gs.best_params_"
      ],
      "execution_count": 81,
      "outputs": [
        {
          "output_type": "stream",
          "text": [
            "Fitting 3 folds for each of 4096 candidates, totalling 12288 fits\n"
          ],
          "name": "stdout"
        },
        {
          "output_type": "stream",
          "text": [
            "[Parallel(n_jobs=-1)]: Using backend LokyBackend with 2 concurrent workers.\n",
            "[Parallel(n_jobs=-1)]: Done  46 tasks      | elapsed:    8.9s\n",
            "[Parallel(n_jobs=-1)]: Done 196 tasks      | elapsed:   37.2s\n",
            "[Parallel(n_jobs=-1)]: Done 446 tasks      | elapsed:  1.4min\n",
            "[Parallel(n_jobs=-1)]: Done 796 tasks      | elapsed:  2.5min\n",
            "[Parallel(n_jobs=-1)]: Done 1246 tasks      | elapsed:  3.9min\n",
            "[Parallel(n_jobs=-1)]: Done 1796 tasks      | elapsed:  5.7min\n",
            "[Parallel(n_jobs=-1)]: Done 2446 tasks      | elapsed:  7.7min\n",
            "[Parallel(n_jobs=-1)]: Done 3196 tasks      | elapsed: 10.1min\n",
            "[Parallel(n_jobs=-1)]: Done 4046 tasks      | elapsed: 12.8min\n",
            "[Parallel(n_jobs=-1)]: Done 4996 tasks      | elapsed: 15.8min\n",
            "[Parallel(n_jobs=-1)]: Done 6046 tasks      | elapsed: 19.2min\n",
            "[Parallel(n_jobs=-1)]: Done 7196 tasks      | elapsed: 22.8min\n",
            "[Parallel(n_jobs=-1)]: Done 8446 tasks      | elapsed: 26.7min\n",
            "[Parallel(n_jobs=-1)]: Done 9796 tasks      | elapsed: 31.0min\n",
            "[Parallel(n_jobs=-1)]: Done 11246 tasks      | elapsed: 35.6min\n",
            "[Parallel(n_jobs=-1)]: Done 12288 out of 12288 | elapsed: 38.9min finished\n"
          ],
          "name": "stderr"
        },
        {
          "output_type": "execute_result",
          "data": {
            "text/plain": [
              "{'bootstrap': 'True',\n",
              " 'max_depth': 8,\n",
              " 'max_features': 'auto',\n",
              " 'min_samples_leaf': 1,\n",
              " 'min_samples_split': 2,\n",
              " 'n_estimators': 130}"
            ]
          },
          "metadata": {
            "tags": []
          },
          "execution_count": 81
        }
      ]
    },
    {
      "cell_type": "code",
      "metadata": {
        "id": "NZ5RuwooNWmW",
        "colab_type": "code",
        "colab": {
          "base_uri": "https://localhost:8080/",
          "height": 72
        },
        "outputId": "45ffe43a-e02a-4bbb-9bab-dcfe7e02fa8c"
      },
      "source": [
        "y_pred_rf = clf.predict(xtest)\n",
        "# Apply The important Featured Classifier To The Test Data\n",
        "y_important_pred = clf_important.predict(X_important_test)\n",
        "y_pred_gs = gs.best_estimator_.predict(X_important_test)\n",
        "\n",
        "tstpredrf = accuracy_score(ytest,y_pred_rf)\n",
        "tstpredpca = accuracy_score(ytest,y_important_pred)\n",
        "tstpredgs = accuracy_score(ytest,y_pred_gs)\n",
        "print(tstpredrf)\n",
        "print(tstpredpca)\n",
        "print(tstpredgs)\n"
      ],
      "execution_count": 83,
      "outputs": [
        {
          "output_type": "stream",
          "text": [
            "0.7307692307692307\n",
            "0.5\n",
            "0.5\n"
          ],
          "name": "stdout"
        }
      ]
    },
    {
      "cell_type": "code",
      "metadata": {
        "id": "56LdAmxwOFDZ",
        "colab_type": "code",
        "colab": {
          "base_uri": "https://localhost:8080/",
          "height": 340
        },
        "outputId": "04fd14f6-b2a3-4e01-8646-5d51f1fafa8c"
      },
      "source": [
        "from sklearn.utils import resample\n",
        "from imblearn.over_sampling import RandomOverSampler\n",
        "x = trdf.drop(['class'],axis=1)\n",
        "y = trdf['class']\n",
        "rdsmple = RandomOverSampler()\n",
        "x_sampled,y_sampled  = rdsmple.fit_sample(x,y)\n",
        "x_sampled = pd.DataFrame(data = x_sampled, columns = x.columns)\n",
        "sns.countplot(y_sampled)       \n",
        "    "
      ],
      "execution_count": 87,
      "outputs": [
        {
          "output_type": "stream",
          "text": [
            "/usr/local/lib/python3.6/dist-packages/sklearn/utils/deprecation.py:87: FutureWarning: Function safe_indexing is deprecated; safe_indexing is deprecated in version 0.22 and will be removed in version 0.24.\n",
            "  warnings.warn(msg, category=FutureWarning)\n"
          ],
          "name": "stderr"
        },
        {
          "output_type": "execute_result",
          "data": {
            "text/plain": [
              "<matplotlib.axes._subplots.AxesSubplot at 0x7f40273bc198>"
            ]
          },
          "metadata": {
            "tags": []
          },
          "execution_count": 87
        },
        {
          "output_type": "display_data",
          "data": {
            "image/png": "[encoded data removed]",
            "text/plain": [
              "<Figure size 432x288 with 1 Axes>"
            ]
          },
          "metadata": {
            "tags": [],
            "needs_background": "light"
          }
        }
      ]
    },
    {
      "cell_type": "code",
      "metadata": {
        "id": "S0PR54Djavnp",
        "colab_type": "code",
        "colab": {
          "base_uri": "https://localhost:8080/",
          "height": 542
        },
        "outputId": "1b1f6c38-a339-41ce-8ad3-bc8fab1a2b48"
      },
      "source": [
        "from sklearn.utils import resample\n",
        "from imblearn.over_sampling import RandomOverSampler\n",
        "xtes = trdf.drop(['class'],axis=1)\n",
        "ytes = trdf['class']\n",
        "rdsmplets = RandomOverSampler()\n",
        "x_tes,y_tes  = rdsmple.fit_sample(xtes,ytes)\n",
        "x_tes = pd.DataFrame(data = x_tes, columns = xtes.columns)\n",
        "sns.countplot(y_tes)   \n",
        "print(y_tes)    \n",
        "    "
      ],
      "execution_count": 118,
      "outputs": [
        {
          "output_type": "stream",
          "text": [
            "[0 0 1 1 0 0 0 0 0 0 0 0 0 2 0 0 0 0 2 0 0 0 0 2 0 0 0 0 0 0 0 2 0 0 1 0 0\n",
            " 2 0 0 0 2 0 0 0 0 0 2 0 0 0 2 0 2 0 0 0 0 0 0 0 0 2 2 0 0 0 0 2 0 0 0 2 0\n",
            " 0 0 0 1 1 1 1 1 0 0 2 2 0 2 0 0 0 2 2 2 0 0 0 1 0 1 0 0 0 2 0 1 0 1 2 2 1\n",
            " 1 1 0 1 0 0 0 0 0 0 0 0 0 0 0 0 0 0 0 2 0 0 0 0 0 0 0 0 0 2 2 0 0 0 0 0 2\n",
            " 0 0 0 0 0 0 0 1 1 0 0 0 0 0 0 0 0 0 1 0 0 0 0 2 0 0 0 0 2 0 0 0 0 0 1 0 0\n",
            " 0 1 1 1 1 1 1 1 1 1 1 1 1 1 1 1 1 1 1 1 1 1 1 1 1 1 1 1 1 1 1 1 1 1 1 1 1\n",
            " 1 1 1 1 1 1 1 1 1 1 1 1 1 1 1 1 1 1 1 1 1 1 1 1 1 1 1 1 1 1 1 1 1 1 1 1 1\n",
            " 1 1 1 1 1 1 1 1 1 1 1 1 1 1 1 1 1 1 1 1 1 1 1 1 1 1 1 1 1 1 1 1 1 1 1 1 1\n",
            " 1 1 1 1 1 1 1 1 2 2 2 2 2 2 2 2 2 2 2 2 2 2 2 2 2 2 2 2 2 2 2 2 2 2 2 2 2\n",
            " 2 2 2 2 2 2 2 2 2 2 2 2 2 2 2 2 2 2 2 2 2 2 2 2 2 2 2 2 2 2 2 2 2 2 2 2 2\n",
            " 2 2 2 2 2 2 2 2 2 2 2 2 2 2 2 2 2 2 2 2 2 2 2 2 2 2 2 2 2 2 2 2 2 2 2 2 2\n",
            " 2 2 2 2 2 2 2]\n"
          ],
          "name": "stdout"
        },
        {
          "output_type": "stream",
          "text": [
            "/usr/local/lib/python3.6/dist-packages/sklearn/utils/deprecation.py:87: FutureWarning: Function safe_indexing is deprecated; safe_indexing is deprecated in version 0.22 and will be removed in version 0.24.\n",
            "  warnings.warn(msg, category=FutureWarning)\n"
          ],
          "name": "stderr"
        },
        {
          "output_type": "display_data",
          "data": {
            "image/png": "[encoded data removed]",
            "text/plain": [
              "<Figure size 432x288 with 1 Axes>"
            ]
          },
          "metadata": {
            "tags": [],
            "needs_background": "light"
          }
        }
      ]
    },
    {
      "cell_type": "code",
      "metadata": {
        "id": "zCSpzYjgOS-v",
        "colab_type": "code",
        "colab": {
          "base_uri": "https://localhost:8080/",
          "height": 1000
        },
        "outputId": "48ae36db-29f6-4ae5-9f1b-21bfda3a6178"
      },
      "source": [
        "from sklearn.ensemble import RandomForestClassifier\n",
        "from sklearn.feature_selection import SelectFromModel\n",
        "from sklearn.metrics import accuracy_score\n",
        "# Create a random forest classifier\n",
        "clfbal = RandomForestClassifier(n_estimators=10000, random_state=0, n_jobs=-1,class_weight=\"balanced\")\n",
        "\n",
        "# Train the classifier\n",
        "clfbal.fit(x_sampled,y_sampled)\n",
        "\n",
        "# Print the name and gini importance of each feature\n",
        "for feature in zip(x_sampled.columns, clf.feature_importances_):\n",
        "    print(feature)"
      ],
      "execution_count": 109,
      "outputs": [
        {
          "output_type": "stream",
          "text": [
            "('age_gt_60', 0.0316854074694803)\n",
            "('airBoneGap', 0.05742201557335321)\n",
            "('boneAbnormal', 0.046096086225121506)\n",
            "('history_buzzing', 0.00032071084510182173)\n",
            "('history_dizziness', 0.015572212370092245)\n",
            "('history_fluctuating', 0.03521342054338195)\n",
            "('history_fullness', 0.000299049877445293)\n",
            "('history_heredity', 0.0010258022075695498)\n",
            "('history_nausea', 0.009483457833276058)\n",
            "('history_noise', 0.03094214896306105)\n",
            "('history_recruitment', 0.003944068468997845)\n",
            "('history_ringing', 0.010319525941494654)\n",
            "('history_roaring', 0.007366662054659494)\n",
            "('history_vomiting', 0.004626423648184971)\n",
            "('late_wave_poor', 0.003061616311327065)\n",
            "('m_at_2k', 0.0013451920215732714)\n",
            "('m_cond_lt_1k', 0.0)\n",
            "('m_gt_1k', 0.001959237306609978)\n",
            "('m_m_gt_2k', 0.001590985794998078)\n",
            "('m_m_sn', 0.0020112380903902836)\n",
            "('m_m_sn_gt_1k', 0.0016955824607251745)\n",
            "('m_m_sn_gt_2k', 0.001620727388813047)\n",
            "('m_m_sn_gt_500', 0.0005969832397856049)\n",
            "('m_p_sn_gt_2k', 0.0)\n",
            "('m_s_gt_500', 0.00010909845196847768)\n",
            "('m_s_sn', 5.735473586050631e-05)\n",
            "('m_s_sn_gt_1k', 0.0)\n",
            "('m_s_sn_gt_2k', 0.0033590121473508574)\n",
            "('m_s_sn_gt_3k', 0.00013875694570420751)\n",
            "('m_s_sn_gt_4k', 0.0005341968040350749)\n",
            "('m_sn_2_3k', 0.0022719918185109622)\n",
            "('m_sn_gt_1k', 0.005994352991857876)\n",
            "('m_sn_gt_2k', 0.016292886781133987)\n",
            "('m_sn_gt_3k', 0.0019429295402285836)\n",
            "('m_sn_gt_4k', 0.010457570702145093)\n",
            "('m_sn_gt_500', 0.0012046041782708683)\n",
            "('m_sn_gt_6k', 0.0)\n",
            "('m_sn_lt_1k', 0.010989412524703113)\n",
            "('m_sn_lt_2k', 0.0008336200927885506)\n",
            "('m_sn_lt_3k', 0.0007425292185434708)\n",
            "('middle_wave_poor', 0.003040971811587343)\n",
            "('mod_gt_4k', 0.0054277846402899866)\n",
            "('mod_mixed', 0.0)\n",
            "('mod_s_mixed', 0.0)\n",
            "('mod_s_sn_gt_500', 4.405006657362263e-05)\n",
            "('mod_sn', 0.0)\n",
            "('mod_sn_gt_1k', 8.163417362836457e-05)\n",
            "('mod_sn_gt_2k', 0.006243620022808724)\n",
            "('mod_sn_gt_3k', 0.009281103435034344)\n",
            "('mod_sn_gt_4k', 0.005444639313196731)\n",
            "('mod_sn_gt_500', 0.0019148013844265794)\n",
            "('notch_4k', 0.02294302321458917)\n",
            "('notch_at_4k', 0.008037751336293142)\n",
            "('s_sn_gt_1k', 0.00023089469921600805)\n",
            "('s_sn_gt_2k', 0.0025446665085276897)\n",
            "('s_sn_gt_4k', 0.0003074336232270078)\n",
            "('static_normal', 0.00939044400666718)\n",
            "('viith_nerve_signs', 0.0010075080541817728)\n",
            "('wave_V_delayed', 0.0005932612807311801)\n",
            "('waveform_ItoV_prolonged', 0.0017901930029887102)\n",
            "('air', 0.07957624662574572)\n",
            "('ar_c', 0.03751533985208263)\n",
            "('ar_u', 0.08874872398787531)\n",
            "('bone', 0.06473911294476496)\n",
            "('o_ar_c()', 0.05289525278684587)\n",
            "('o_ar_u()', 0.040604542561778915)\n",
            "('speech', 0.04778538695418354)\n",
            "('tymp', 0.18668474214421138)\n"
          ],
          "name": "stdout"
        }
      ]
    },
    {
      "cell_type": "code",
      "metadata": {
        "id": "yVWlNmEbVRZT",
        "colab_type": "code",
        "colab": {
          "base_uri": "https://localhost:8080/",
          "height": 329
        },
        "outputId": "5d841ce6-b45b-404b-e7b2-f295f371612b"
      },
      "source": [
        "  # Create a selector object that will use the random forest classifier to identify\n",
        "# features that have an importance of more than 0.15\n",
        "sfmbal = SelectFromModel(clfbal, threshold=0.01)\n",
        "sfmbal\n",
        "# Train the selector\n",
        "sfmbal.fit(x_sampled,y_sampled)"
      ],
      "execution_count": 120,
      "outputs": [
        {
          "output_type": "execute_result",
          "data": {
            "text/plain": [
              "SelectFromModel(estimator=RandomForestClassifier(bootstrap=True, ccp_alpha=0.0,\n",
              "                                                 class_weight='balanced',\n",
              "                                                 criterion='gini',\n",
              "                                                 max_depth=None,\n",
              "                                                 max_features='auto',\n",
              "                                                 max_leaf_nodes=None,\n",
              "                                                 max_samples=None,\n",
              "                                                 min_impurity_decrease=0.0,\n",
              "                                                 min_impurity_split=None,\n",
              "                                                 min_samples_leaf=1,\n",
              "                                                 min_samples_split=2,\n",
              "                                                 min_weight_fraction_leaf=0.0,\n",
              "                                                 n_estimators=10000, n_jobs=-1,\n",
              "                                                 oob_score=False,\n",
              "                                                 random_state=0, verbose=0,\n",
              "                                                 warm_start=False),\n",
              "                max_features=None, norm_order=1, prefit=False, threshold=0.01)"
            ]
          },
          "metadata": {
            "tags": []
          },
          "execution_count": 120
        }
      ]
    },
    {
      "cell_type": "code",
      "metadata": {
        "id": "6UAvQCwCYlYZ",
        "colab_type": "code",
        "colab": {
          "base_uri": "https://localhost:8080/",
          "height": 329
        },
        "outputId": "68344a8b-7c98-4e85-8059-f1ed05a87cc0"
      },
      "source": [
        "feat_labels = x_sampled.columns\n",
        "#print(feat_labels)\n",
        "for feature_list_index in sfmbal.get_support(indices=True):\n",
        "    print(feat_labels[feature_list_index])"
      ],
      "execution_count": 121,
      "outputs": [
        {
          "output_type": "stream",
          "text": [
            "age_gt_60\n",
            "airBoneGap\n",
            "boneAbnormal\n",
            "history_dizziness\n",
            "history_fluctuating\n",
            "history_noise\n",
            "m_sn_gt_2k\n",
            "m_sn_lt_1k\n",
            "notch_4k\n",
            "air\n",
            "ar_c\n",
            "ar_u\n",
            "bone\n",
            "o_ar_c()\n",
            "o_ar_u()\n",
            "speech\n",
            "tymp\n"
          ],
          "name": "stdout"
        }
      ]
    },
    {
      "cell_type": "code",
      "metadata": {
        "id": "Qud8yB2cYrJc",
        "colab_type": "code",
        "colab": {
          "base_uri": "https://localhost:8080/",
          "height": 54
        },
        "outputId": "699bad91-ed52-4f37-8b50-7a1bc4d1453d"
      },
      "source": [
        "X_important_trainbal = sfmbal.transform(x_sampled)\n",
        "X_important_testbal = sfmbal.transform(x_tes)\n",
        "print(X_important_train.shape)\n",
        "print(x_sampled.shape)\n"
      ],
      "execution_count": 122,
      "outputs": [
        {
          "output_type": "stream",
          "text": [
            "(414, 17)\n",
            "(414, 68)\n"
          ],
          "name": "stdout"
        }
      ]
    },
    {
      "cell_type": "code",
      "metadata": {
        "id": "UzZxmdguY69Q",
        "colab_type": "code",
        "colab": {
          "base_uri": "https://localhost:8080/",
          "height": 164
        },
        "outputId": "70d93252-cd57-4c7a-b298-27dd7e1532ac"
      },
      "source": [
        "# Create a new random forest classifier for the most important features\n",
        "clf_importantbal = RandomForestClassifier(n_estimators=10000, random_state=0, n_jobs=-1)\n",
        "\n",
        "# Train the new classifier on the new dataset containing the most important features\n",
        "clf_importantbal.fit(X_important_trainbal, y_sampled)"
      ],
      "execution_count": 123,
      "outputs": [
        {
          "output_type": "execute_result",
          "data": {
            "text/plain": [
              "RandomForestClassifier(bootstrap=True, ccp_alpha=0.0, class_weight=None,\n",
              "                       criterion='gini', max_depth=None, max_features='auto',\n",
              "                       max_leaf_nodes=None, max_samples=None,\n",
              "                       min_impurity_decrease=0.0, min_impurity_split=None,\n",
              "                       min_samples_leaf=1, min_samples_split=2,\n",
              "                       min_weight_fraction_leaf=0.0, n_estimators=10000,\n",
              "                       n_jobs=-1, oob_score=False, random_state=0, verbose=0,\n",
              "                       warm_start=False)"
            ]
          },
          "metadata": {
            "tags": []
          },
          "execution_count": 123
        }
      ]
    },
    {
      "cell_type": "code",
      "metadata": {
        "id": "m_m_KhghZE24",
        "colab_type": "code",
        "colab": {
          "base_uri": "https://localhost:8080/",
          "height": 35
        },
        "outputId": "0cd9f2ea-6dc8-45f5-a724-06463e7e0c62"
      },
      "source": [
        "# Apply The Full Featured Classifier To The Test Data\n",
        "y_predbal = clfbal.predict(x_tes)\n",
        "\n",
        "# View The Accuracy Of Our Full Feature (4 Features) Model\n",
        "accuracy_score(y_tes, y_predbal)"
      ],
      "execution_count": 124,
      "outputs": [
        {
          "output_type": "execute_result",
          "data": {
            "text/plain": [
              "1.0"
            ]
          },
          "metadata": {
            "tags": []
          },
          "execution_count": 124
        }
      ]
    },
    {
      "cell_type": "code",
      "metadata": {
        "id": "4JP2CZxGZMnz",
        "colab_type": "code",
        "colab": {
          "base_uri": "https://localhost:8080/",
          "height": 35
        },
        "outputId": "3e5dba89-7989-4495-a415-1cb594246fdc"
      },
      "source": [
        "# Apply The Full Featured Classifier To The Test Data\n",
        "y_important_predbal = clf_importantbal.predict(X_important_testbal)\n",
        "\n",
        "# View The Accuracy Of Our Limited Feature (20 Features) Model\n",
        "accuracy_score(y_tes, y_important_predbal)"
      ],
      "execution_count": 125,
      "outputs": [
        {
          "output_type": "execute_result",
          "data": {
            "text/plain": [
              "0.9975845410628019"
            ]
          },
          "metadata": {
            "tags": []
          },
          "execution_count": 125
        }
      ]
    },
    {
      "cell_type": "code",
      "metadata": {
        "id": "0z2CNDYlZ-CY",
        "colab_type": "code",
        "colab": {
          "base_uri": "https://localhost:8080/",
          "height": 146
        },
        "outputId": "cc117aff-bfcd-4614-9d88-02d41c1bdd3f"
      },
      "source": [
        "from xgboost import XGBClassifier\n",
        "model = XGBClassifier(objective = 'multi:softmax')\n",
        "model.fit(x_sampled,y_sampled)"
      ],
      "execution_count": 126,
      "outputs": [
        {
          "output_type": "execute_result",
          "data": {
            "text/plain": [
              "XGBClassifier(base_score=0.5, booster='gbtree', colsample_bylevel=1,\n",
              "              colsample_bynode=1, colsample_bytree=1, gamma=0,\n",
              "              learning_rate=0.1, max_delta_step=0, max_depth=3,\n",
              "              min_child_weight=1, missing=None, n_estimators=100, n_jobs=1,\n",
              "              nthread=None, objective='multi:softprob', random_state=0,\n",
              "              reg_alpha=0, reg_lambda=1, scale_pos_weight=1, seed=None,\n",
              "              silent=None, subsample=1, verbosity=1)"
            ]
          },
          "metadata": {
            "tags": []
          },
          "execution_count": 126
        }
      ]
    },
    {
      "cell_type": "code",
      "metadata": {
        "id": "9dQ_b3gfdSxZ",
        "colab_type": "code",
        "colab": {
          "base_uri": "https://localhost:8080/",
          "height": 35
        },
        "outputId": "e0d146bd-3226-41bf-c5fd-bb3db571acf0"
      },
      "source": [
        "from sklearn.metrics import accuracy_score\n",
        "y_pred = model.predict(x_sampled)\n",
        "predictions = [round(value) for value in y_pred]\n",
        "accuracy = accuracy_score(y_sampled,predictions)\n",
        "accuracy"
      ],
      "execution_count": 127,
      "outputs": [
        {
          "output_type": "execute_result",
          "data": {
            "text/plain": [
              "0.9855072463768116"
            ]
          },
          "metadata": {
            "tags": []
          },
          "execution_count": 127
        }
      ]
    },
    {
      "cell_type": "code",
      "metadata": {
        "id": "RjGo4j5VdVcA",
        "colab_type": "code",
        "colab": {}
      },
      "source": [
        "y_pred = model.predict(xtest)\n",
        "predictions = [round(value) for value in y_pred]\n",
        "accuracy = accuracy_score(ytest,predictions)\n",
        "accuracy"
      ],
      "execution_count": null,
      "outputs": []
    },
    {
      "cell_type": "code",
      "metadata": {
        "id": "TXib76LPdXdh",
        "colab_type": "code",
        "colab": {}
      },
      "source": [
        "from sklearn.model_selection import GridSearchCV\n",
        "param_grid={\n",
        "   \n",
        "    ' learning_rate':[1,0.5,0.1,0.01,0.001],\n",
        "    'max_depth': [3,5,10,20],\n",
        "    'n_estimators':[10,50,100,200]\n",
        "    \n",
        "}"
      ],
      "execution_count": null,
      "outputs": []
    },
    {
      "cell_type": "code",
      "metadata": {
        "id": "f7OafeJVdaE1",
        "colab_type": "code",
        "colab": {}
      },
      "source": [
        "grid= GridSearchCV(XGBClassifier(objective='multi:softmax'),param_grid, verbose=3,njobs = -1)"
      ],
      "execution_count": null,
      "outputs": []
    },
    {
      "cell_type": "code",
      "metadata": {
        "id": "-X_7H29tdcDL",
        "colab_type": "code",
        "colab": {}
      },
      "source": [
        "grid.fit(xsampled,ysampled)"
      ],
      "execution_count": null,
      "outputs": []
    },
    {
      "cell_type": "code",
      "metadata": {
        "id": "SxarR9CBdfH4",
        "colab_type": "code",
        "colab": {}
      },
      "source": [
        "grid.best_params_\n"
      ],
      "execution_count": null,
      "outputs": []
    },
    {
      "cell_type": "code",
      "metadata": {
        "id": "NvqMnTgPlZ-E",
        "colab_type": "code",
        "colab": {}
      },
      "source": [
        "new_model=XGBClassifier(learning_rate= 1, max_depth= 5, n_estimators= 50)\n",
        "new_model.fit(xsampled, ysampled)"
      ],
      "execution_count": null,
      "outputs": []
    },
    {
      "cell_type": "code",
      "metadata": {
        "id": "JyV-rFm6lgeB",
        "colab_type": "code",
        "colab": {}
      },
      "source": [
        "y_pred_new = new_model.predict(xtest)\n",
        "predictions_new = [round(value) for value in y_pred_new]\n",
        "accuracy_new = accuracy_score(ytest,predictions_new)\n",
        "accuracy_new"
      ],
      "execution_count": null,
      "outputs": []
    },
    {
      "cell_type": "code",
      "metadata": {
        "id": "guHYUQT2ruPC",
        "colab_type": "code",
        "colab": {}
      },
      "source": [
        ""
      ],
      "execution_count": null,
      "outputs": []
    }
  ]
}